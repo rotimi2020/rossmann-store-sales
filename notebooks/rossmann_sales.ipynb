{
 "cells": [
  {
   "cell_type": "markdown",
   "metadata": {},
   "source": [
    "# Import Libraries"
   ]
  },
  {
   "cell_type": "code",
   "execution_count": 1,
   "metadata": {},
   "outputs": [],
   "source": [
    "# Load libraries\n",
    "import numpy as np\n",
    "from matplotlib import pyplot\n",
    "from pandas import read_csv\n",
    "from pandas import set_option\n",
    "set_option('display.max_rows', 500)\n",
    "set_option('display.max_columns', 500)\n",
    "import pandas as pd\n",
    "import matplotlib.pyplot as plt\n",
    "from statsmodels.stats.outliers_influence import variance_inflation_factor\n",
    "from datetime import datetime\n",
    "import pyodbc\n",
    "from pandas.plotting import scatter_matrix\n",
    "from sklearn.preprocessing import StandardScaler,LabelEncoder\n",
    "from sklearn.model_selection import train_test_split\n",
    "from sklearn.model_selection import KFold\n",
    "from sklearn.model_selection import cross_val_score\n",
    "from sklearn.model_selection import GridSearchCV\n",
    "from sklearn.linear_model import LinearRegression\n",
    "from sklearn.linear_model import Lasso\n",
    "from sklearn.linear_model import ElasticNet\n",
    "from sklearn.tree import DecisionTreeRegressor\n",
    "from sklearn.neighbors import KNeighborsRegressor\n",
    "from sklearn.svm import SVR\n",
    "from sklearn.pipeline import Pipeline\n",
    "from sklearn.ensemble import RandomForestRegressor\n",
    "from sklearn.ensemble import GradientBoostingRegressor\n",
    "from sklearn.ensemble import ExtraTreesRegressor\n",
    "from sklearn.ensemble import AdaBoostRegressor\n",
    "from sklearn.metrics import mean_squared_error,mean_absolute_error\n",
    "from sklearn.metrics import roc_auc_score,roc_curve\n",
    "from pickle import dump\n",
    "from pickle import load\n",
    "import seaborn as sns\n",
    "import warnings\n",
    "warnings.filterwarnings(\"ignore\")"
   ]
  },
  {
   "cell_type": "markdown",
   "metadata": {},
   "source": [
    "# Connect to SQL Server"
   ]
  },
  {
   "cell_type": "code",
   "execution_count": 2,
   "metadata": {},
   "outputs": [
    {
     "data": {
      "text/plain": [
       "['SQL Server', 'ODBC Driver 17 for SQL Server']"
      ]
     },
     "execution_count": 2,
     "metadata": {},
     "output_type": "execute_result"
    }
   ],
   "source": [
    "pyodbc.drivers()"
   ]
  },
  {
   "cell_type": "code",
   "execution_count": 3,
   "metadata": {},
   "outputs": [],
   "source": [
    "connection = pyodbc.connect(\n",
    "\"Driver={ODBC Driver 17 for SQL Server};\"\n",
    "\"Server=DESKTOP-ROTIMI\\SQLEXPRESS;\"\n",
    "\"Database=Rossmann;\"\n",
    "\"Trusted_Connection=yes;\")"
   ]
  },
  {
   "cell_type": "markdown",
   "metadata": {},
   "source": [
    "# load dataset"
   ]
  },
  {
   "cell_type": "markdown",
   "metadata": {},
   "source": [
    "#### Extracting data from SQL Server"
   ]
  },
  {
   "cell_type": "code",
   "execution_count": 4,
   "metadata": {},
   "outputs": [],
   "source": [
    "# View data from SQL Server\n",
    "storedf = pd.read_sql(\"Select * from [dbo].[store_cleaned]\",connection)\n",
    "traindf = pd.read_sql(\"Select * from [dbo].[train_cleaned]\",connection)\n",
    "testdf = pd.read_sql(\"Select * from [dbo].[test_cleaned]\",connection)"
   ]
  },
  {
   "cell_type": "raw",
   "metadata": {},
   "source": [
    "Analyze Data\n"
   ]
  },
  {
   "cell_type": "markdown",
   "metadata": {},
   "source": [
    "# Storedf Table"
   ]
  },
  {
   "cell_type": "markdown",
   "metadata": {},
   "source": [
    "#### View Data"
   ]
  },
  {
   "cell_type": "code",
   "execution_count": 5,
   "metadata": {},
   "outputs": [
    {
     "data": {
      "text/html": [
       "<div>\n",
       "<style scoped>\n",
       "    .dataframe tbody tr th:only-of-type {\n",
       "        vertical-align: middle;\n",
       "    }\n",
       "\n",
       "    .dataframe tbody tr th {\n",
       "        vertical-align: top;\n",
       "    }\n",
       "\n",
       "    .dataframe thead th {\n",
       "        text-align: right;\n",
       "    }\n",
       "</style>\n",
       "<table border=\"1\" class=\"dataframe\">\n",
       "  <thead>\n",
       "    <tr style=\"text-align: right;\">\n",
       "      <th></th>\n",
       "      <th>Store</th>\n",
       "      <th>StoreType</th>\n",
       "      <th>Assortment</th>\n",
       "      <th>CompetitionDistance</th>\n",
       "      <th>CompetitionOpenSinceMonth</th>\n",
       "      <th>CompetitionOpenSinceYear</th>\n",
       "      <th>Promo2</th>\n",
       "      <th>Promo2SinceWeek</th>\n",
       "      <th>Promo2SinceYear</th>\n",
       "      <th>PromoInterval</th>\n",
       "      <th>StoreType_Int</th>\n",
       "      <th>Assortment_Int</th>\n",
       "      <th>PromoInterval_int</th>\n",
       "    </tr>\n",
       "  </thead>\n",
       "  <tbody>\n",
       "    <tr>\n",
       "      <th>0</th>\n",
       "      <td>1</td>\n",
       "      <td>c</td>\n",
       "      <td>a</td>\n",
       "      <td>1270</td>\n",
       "      <td>9</td>\n",
       "      <td>2008</td>\n",
       "      <td>0</td>\n",
       "      <td>0</td>\n",
       "      <td>0</td>\n",
       "      <td>period 0</td>\n",
       "      <td>3</td>\n",
       "      <td>1</td>\n",
       "      <td>0</td>\n",
       "    </tr>\n",
       "    <tr>\n",
       "      <th>1</th>\n",
       "      <td>2</td>\n",
       "      <td>a</td>\n",
       "      <td>a</td>\n",
       "      <td>570</td>\n",
       "      <td>11</td>\n",
       "      <td>2007</td>\n",
       "      <td>1</td>\n",
       "      <td>13</td>\n",
       "      <td>2010</td>\n",
       "      <td>Period 1</td>\n",
       "      <td>1</td>\n",
       "      <td>1</td>\n",
       "      <td>1</td>\n",
       "    </tr>\n",
       "    <tr>\n",
       "      <th>2</th>\n",
       "      <td>3</td>\n",
       "      <td>a</td>\n",
       "      <td>a</td>\n",
       "      <td>14130</td>\n",
       "      <td>12</td>\n",
       "      <td>2006</td>\n",
       "      <td>1</td>\n",
       "      <td>14</td>\n",
       "      <td>2011</td>\n",
       "      <td>Period 1</td>\n",
       "      <td>1</td>\n",
       "      <td>1</td>\n",
       "      <td>1</td>\n",
       "    </tr>\n",
       "    <tr>\n",
       "      <th>3</th>\n",
       "      <td>4</td>\n",
       "      <td>c</td>\n",
       "      <td>c</td>\n",
       "      <td>620</td>\n",
       "      <td>9</td>\n",
       "      <td>2009</td>\n",
       "      <td>0</td>\n",
       "      <td>0</td>\n",
       "      <td>0</td>\n",
       "      <td>period 0</td>\n",
       "      <td>3</td>\n",
       "      <td>3</td>\n",
       "      <td>0</td>\n",
       "    </tr>\n",
       "    <tr>\n",
       "      <th>4</th>\n",
       "      <td>5</td>\n",
       "      <td>a</td>\n",
       "      <td>a</td>\n",
       "      <td>29910</td>\n",
       "      <td>4</td>\n",
       "      <td>2015</td>\n",
       "      <td>0</td>\n",
       "      <td>0</td>\n",
       "      <td>0</td>\n",
       "      <td>period 0</td>\n",
       "      <td>1</td>\n",
       "      <td>1</td>\n",
       "      <td>0</td>\n",
       "    </tr>\n",
       "  </tbody>\n",
       "</table>\n",
       "</div>"
      ],
      "text/plain": [
       "   Store StoreType Assortment  CompetitionDistance  CompetitionOpenSinceMonth  \\\n",
       "0      1         c          a                 1270                          9   \n",
       "1      2         a          a                  570                         11   \n",
       "2      3         a          a                14130                         12   \n",
       "3      4         c          c                  620                          9   \n",
       "4      5         a          a                29910                          4   \n",
       "\n",
       "   CompetitionOpenSinceYear  Promo2  Promo2SinceWeek  Promo2SinceYear  \\\n",
       "0                      2008       0                0                0   \n",
       "1                      2007       1               13             2010   \n",
       "2                      2006       1               14             2011   \n",
       "3                      2009       0                0                0   \n",
       "4                      2015       0                0                0   \n",
       "\n",
       "  PromoInterval  StoreType_Int  Assortment_Int  PromoInterval_int  \n",
       "0      period 0              3               1                  0  \n",
       "1      Period 1              1               1                  1  \n",
       "2      Period 1              1               1                  1  \n",
       "3      period 0              3               3                  0  \n",
       "4      period 0              1               1                  0  "
      ]
     },
     "execution_count": 5,
     "metadata": {},
     "output_type": "execute_result"
    }
   ],
   "source": [
    "# head\n",
    "storedf.head()"
   ]
  },
  {
   "cell_type": "markdown",
   "metadata": {},
   "source": [
    "#### shape of the data"
   ]
  },
  {
   "cell_type": "code",
   "execution_count": 6,
   "metadata": {},
   "outputs": [
    {
     "name": "stdout",
     "output_type": "stream",
     "text": [
      "(1115, 13)\n"
     ]
    }
   ],
   "source": [
    "# shape\n",
    "print(storedf.shape)\n"
   ]
  },
  {
   "cell_type": "markdown",
   "metadata": {},
   "source": [
    "#### types of the data column"
   ]
  },
  {
   "cell_type": "code",
   "execution_count": 7,
   "metadata": {},
   "outputs": [
    {
     "name": "stdout",
     "output_type": "stream",
     "text": [
      "Store                         int64\n",
      "StoreType                    object\n",
      "Assortment                   object\n",
      "CompetitionDistance           int64\n",
      "CompetitionOpenSinceMonth     int64\n",
      "CompetitionOpenSinceYear      int64\n",
      "Promo2                        int64\n",
      "Promo2SinceWeek               int64\n",
      "Promo2SinceYear               int64\n",
      "PromoInterval                object\n",
      "StoreType_Int                 int64\n",
      "Assortment_Int                int64\n",
      "PromoInterval_int             int64\n",
      "dtype: object\n"
     ]
    }
   ],
   "source": [
    "# types\n",
    "print(storedf.dtypes)\n"
   ]
  },
  {
   "cell_type": "markdown",
   "metadata": {},
   "source": [
    "#### data descriptions"
   ]
  },
  {
   "cell_type": "code",
   "execution_count": 8,
   "metadata": {},
   "outputs": [
    {
     "data": {
      "text/html": [
       "<div>\n",
       "<style scoped>\n",
       "    .dataframe tbody tr th:only-of-type {\n",
       "        vertical-align: middle;\n",
       "    }\n",
       "\n",
       "    .dataframe tbody tr th {\n",
       "        vertical-align: top;\n",
       "    }\n",
       "\n",
       "    .dataframe thead th {\n",
       "        text-align: right;\n",
       "    }\n",
       "</style>\n",
       "<table border=\"1\" class=\"dataframe\">\n",
       "  <thead>\n",
       "    <tr style=\"text-align: right;\">\n",
       "      <th></th>\n",
       "      <th>Store</th>\n",
       "      <th>CompetitionDistance</th>\n",
       "      <th>CompetitionOpenSinceMonth</th>\n",
       "      <th>CompetitionOpenSinceYear</th>\n",
       "      <th>Promo2</th>\n",
       "      <th>Promo2SinceWeek</th>\n",
       "      <th>Promo2SinceYear</th>\n",
       "      <th>StoreType_Int</th>\n",
       "      <th>Assortment_Int</th>\n",
       "      <th>PromoInterval_int</th>\n",
       "    </tr>\n",
       "  </thead>\n",
       "  <tbody>\n",
       "    <tr>\n",
       "      <th>count</th>\n",
       "      <td>1115.00000</td>\n",
       "      <td>1115.000000</td>\n",
       "      <td>1115.000000</td>\n",
       "      <td>1115.000000</td>\n",
       "      <td>1115.000000</td>\n",
       "      <td>1115.000000</td>\n",
       "      <td>1115.000000</td>\n",
       "      <td>1115.000000</td>\n",
       "      <td>1115.000000</td>\n",
       "      <td>1115.000000</td>\n",
       "    </tr>\n",
       "    <tr>\n",
       "      <th>mean</th>\n",
       "      <td>558.00000</td>\n",
       "      <td>5404.898655</td>\n",
       "      <td>4.930942</td>\n",
       "      <td>1370.939013</td>\n",
       "      <td>0.512108</td>\n",
       "      <td>12.083408</td>\n",
       "      <td>1030.239462</td>\n",
       "      <td>2.217040</td>\n",
       "      <td>1.928251</td>\n",
       "      <td>0.818834</td>\n",
       "    </tr>\n",
       "    <tr>\n",
       "      <th>std</th>\n",
       "      <td>322.01708</td>\n",
       "      <td>7652.849306</td>\n",
       "      <td>4.284924</td>\n",
       "      <td>935.467654</td>\n",
       "      <td>0.500078</td>\n",
       "      <td>15.542241</td>\n",
       "      <td>1006.038782</td>\n",
       "      <td>1.369544</td>\n",
       "      <td>0.993814</td>\n",
       "      <td>0.976108</td>\n",
       "    </tr>\n",
       "    <tr>\n",
       "      <th>min</th>\n",
       "      <td>1.00000</td>\n",
       "      <td>20.000000</td>\n",
       "      <td>0.000000</td>\n",
       "      <td>0.000000</td>\n",
       "      <td>0.000000</td>\n",
       "      <td>0.000000</td>\n",
       "      <td>0.000000</td>\n",
       "      <td>1.000000</td>\n",
       "      <td>1.000000</td>\n",
       "      <td>0.000000</td>\n",
       "    </tr>\n",
       "    <tr>\n",
       "      <th>25%</th>\n",
       "      <td>279.50000</td>\n",
       "      <td>720.000000</td>\n",
       "      <td>0.000000</td>\n",
       "      <td>0.000000</td>\n",
       "      <td>0.000000</td>\n",
       "      <td>0.000000</td>\n",
       "      <td>0.000000</td>\n",
       "      <td>1.000000</td>\n",
       "      <td>1.000000</td>\n",
       "      <td>0.000000</td>\n",
       "    </tr>\n",
       "    <tr>\n",
       "      <th>50%</th>\n",
       "      <td>558.00000</td>\n",
       "      <td>2330.000000</td>\n",
       "      <td>4.000000</td>\n",
       "      <td>2006.000000</td>\n",
       "      <td>1.000000</td>\n",
       "      <td>1.000000</td>\n",
       "      <td>2009.000000</td>\n",
       "      <td>1.000000</td>\n",
       "      <td>1.000000</td>\n",
       "      <td>1.000000</td>\n",
       "    </tr>\n",
       "    <tr>\n",
       "      <th>75%</th>\n",
       "      <td>836.50000</td>\n",
       "      <td>6875.000000</td>\n",
       "      <td>9.000000</td>\n",
       "      <td>2011.000000</td>\n",
       "      <td>1.000000</td>\n",
       "      <td>22.000000</td>\n",
       "      <td>2012.000000</td>\n",
       "      <td>4.000000</td>\n",
       "      <td>3.000000</td>\n",
       "      <td>1.000000</td>\n",
       "    </tr>\n",
       "    <tr>\n",
       "      <th>max</th>\n",
       "      <td>1115.00000</td>\n",
       "      <td>75860.000000</td>\n",
       "      <td>12.000000</td>\n",
       "      <td>2015.000000</td>\n",
       "      <td>1.000000</td>\n",
       "      <td>50.000000</td>\n",
       "      <td>2015.000000</td>\n",
       "      <td>4.000000</td>\n",
       "      <td>3.000000</td>\n",
       "      <td>3.000000</td>\n",
       "    </tr>\n",
       "  </tbody>\n",
       "</table>\n",
       "</div>"
      ],
      "text/plain": [
       "            Store  CompetitionDistance  CompetitionOpenSinceMonth  \\\n",
       "count  1115.00000          1115.000000                1115.000000   \n",
       "mean    558.00000          5404.898655                   4.930942   \n",
       "std     322.01708          7652.849306                   4.284924   \n",
       "min       1.00000            20.000000                   0.000000   \n",
       "25%     279.50000           720.000000                   0.000000   \n",
       "50%     558.00000          2330.000000                   4.000000   \n",
       "75%     836.50000          6875.000000                   9.000000   \n",
       "max    1115.00000         75860.000000                  12.000000   \n",
       "\n",
       "       CompetitionOpenSinceYear       Promo2  Promo2SinceWeek  \\\n",
       "count               1115.000000  1115.000000      1115.000000   \n",
       "mean                1370.939013     0.512108        12.083408   \n",
       "std                  935.467654     0.500078        15.542241   \n",
       "min                    0.000000     0.000000         0.000000   \n",
       "25%                    0.000000     0.000000         0.000000   \n",
       "50%                 2006.000000     1.000000         1.000000   \n",
       "75%                 2011.000000     1.000000        22.000000   \n",
       "max                 2015.000000     1.000000        50.000000   \n",
       "\n",
       "       Promo2SinceYear  StoreType_Int  Assortment_Int  PromoInterval_int  \n",
       "count      1115.000000    1115.000000     1115.000000        1115.000000  \n",
       "mean       1030.239462       2.217040        1.928251           0.818834  \n",
       "std        1006.038782       1.369544        0.993814           0.976108  \n",
       "min           0.000000       1.000000        1.000000           0.000000  \n",
       "25%           0.000000       1.000000        1.000000           0.000000  \n",
       "50%        2009.000000       1.000000        1.000000           1.000000  \n",
       "75%        2012.000000       4.000000        3.000000           1.000000  \n",
       "max        2015.000000       4.000000        3.000000           3.000000  "
      ]
     },
     "execution_count": 8,
     "metadata": {},
     "output_type": "execute_result"
    }
   ],
   "source": [
    "# descriptions\n",
    "storedf.describe()\n"
   ]
  },
  {
   "cell_type": "markdown",
   "metadata": {},
   "source": [
    "#### data descriptions"
   ]
  },
  {
   "cell_type": "code",
   "execution_count": 9,
   "metadata": {},
   "outputs": [
    {
     "data": {
      "text/html": [
       "<div>\n",
       "<style scoped>\n",
       "    .dataframe tbody tr th:only-of-type {\n",
       "        vertical-align: middle;\n",
       "    }\n",
       "\n",
       "    .dataframe tbody tr th {\n",
       "        vertical-align: top;\n",
       "    }\n",
       "\n",
       "    .dataframe thead th {\n",
       "        text-align: right;\n",
       "    }\n",
       "</style>\n",
       "<table border=\"1\" class=\"dataframe\">\n",
       "  <thead>\n",
       "    <tr style=\"text-align: right;\">\n",
       "      <th></th>\n",
       "      <th>StoreType</th>\n",
       "      <th>Assortment</th>\n",
       "      <th>PromoInterval</th>\n",
       "    </tr>\n",
       "  </thead>\n",
       "  <tbody>\n",
       "    <tr>\n",
       "      <th>count</th>\n",
       "      <td>1115</td>\n",
       "      <td>1115</td>\n",
       "      <td>1115</td>\n",
       "    </tr>\n",
       "    <tr>\n",
       "      <th>unique</th>\n",
       "      <td>4</td>\n",
       "      <td>3</td>\n",
       "      <td>4</td>\n",
       "    </tr>\n",
       "    <tr>\n",
       "      <th>top</th>\n",
       "      <td>a</td>\n",
       "      <td>a</td>\n",
       "      <td>period 0</td>\n",
       "    </tr>\n",
       "    <tr>\n",
       "      <th>freq</th>\n",
       "      <td>602</td>\n",
       "      <td>593</td>\n",
       "      <td>544</td>\n",
       "    </tr>\n",
       "  </tbody>\n",
       "</table>\n",
       "</div>"
      ],
      "text/plain": [
       "       StoreType Assortment PromoInterval\n",
       "count       1115       1115          1115\n",
       "unique         4          3             4\n",
       "top            a          a      period 0\n",
       "freq         602        593           544"
      ]
     },
     "execution_count": 9,
     "metadata": {},
     "output_type": "execute_result"
    }
   ],
   "source": [
    "# descriptions\n",
    "storedf.describe(include = 'object')\n"
   ]
  },
  {
   "cell_type": "markdown",
   "metadata": {},
   "source": [
    "#### Check for missing entries"
   ]
  },
  {
   "cell_type": "code",
   "execution_count": 10,
   "metadata": {},
   "outputs": [
    {
     "data": {
      "text/html": [
       "<div>\n",
       "<style scoped>\n",
       "    .dataframe tbody tr th:only-of-type {\n",
       "        vertical-align: middle;\n",
       "    }\n",
       "\n",
       "    .dataframe tbody tr th {\n",
       "        vertical-align: top;\n",
       "    }\n",
       "\n",
       "    .dataframe thead th {\n",
       "        text-align: right;\n",
       "    }\n",
       "</style>\n",
       "<table border=\"1\" class=\"dataframe\">\n",
       "  <thead>\n",
       "    <tr style=\"text-align: right;\">\n",
       "      <th></th>\n",
       "      <th>Total</th>\n",
       "      <th>Percent</th>\n",
       "    </tr>\n",
       "  </thead>\n",
       "  <tbody>\n",
       "    <tr>\n",
       "      <th>Store</th>\n",
       "      <td>0</td>\n",
       "      <td>0.0</td>\n",
       "    </tr>\n",
       "    <tr>\n",
       "      <th>StoreType</th>\n",
       "      <td>0</td>\n",
       "      <td>0.0</td>\n",
       "    </tr>\n",
       "    <tr>\n",
       "      <th>Assortment</th>\n",
       "      <td>0</td>\n",
       "      <td>0.0</td>\n",
       "    </tr>\n",
       "    <tr>\n",
       "      <th>CompetitionDistance</th>\n",
       "      <td>0</td>\n",
       "      <td>0.0</td>\n",
       "    </tr>\n",
       "    <tr>\n",
       "      <th>CompetitionOpenSinceMonth</th>\n",
       "      <td>0</td>\n",
       "      <td>0.0</td>\n",
       "    </tr>\n",
       "    <tr>\n",
       "      <th>CompetitionOpenSinceYear</th>\n",
       "      <td>0</td>\n",
       "      <td>0.0</td>\n",
       "    </tr>\n",
       "    <tr>\n",
       "      <th>Promo2</th>\n",
       "      <td>0</td>\n",
       "      <td>0.0</td>\n",
       "    </tr>\n",
       "    <tr>\n",
       "      <th>Promo2SinceWeek</th>\n",
       "      <td>0</td>\n",
       "      <td>0.0</td>\n",
       "    </tr>\n",
       "    <tr>\n",
       "      <th>Promo2SinceYear</th>\n",
       "      <td>0</td>\n",
       "      <td>0.0</td>\n",
       "    </tr>\n",
       "    <tr>\n",
       "      <th>PromoInterval</th>\n",
       "      <td>0</td>\n",
       "      <td>0.0</td>\n",
       "    </tr>\n",
       "    <tr>\n",
       "      <th>StoreType_Int</th>\n",
       "      <td>0</td>\n",
       "      <td>0.0</td>\n",
       "    </tr>\n",
       "    <tr>\n",
       "      <th>Assortment_Int</th>\n",
       "      <td>0</td>\n",
       "      <td>0.0</td>\n",
       "    </tr>\n",
       "    <tr>\n",
       "      <th>PromoInterval_int</th>\n",
       "      <td>0</td>\n",
       "      <td>0.0</td>\n",
       "    </tr>\n",
       "  </tbody>\n",
       "</table>\n",
       "</div>"
      ],
      "text/plain": [
       "                           Total  Percent\n",
       "Store                          0      0.0\n",
       "StoreType                      0      0.0\n",
       "Assortment                     0      0.0\n",
       "CompetitionDistance            0      0.0\n",
       "CompetitionOpenSinceMonth      0      0.0\n",
       "CompetitionOpenSinceYear       0      0.0\n",
       "Promo2                         0      0.0\n",
       "Promo2SinceWeek                0      0.0\n",
       "Promo2SinceYear                0      0.0\n",
       "PromoInterval                  0      0.0\n",
       "StoreType_Int                  0      0.0\n",
       "Assortment_Int                 0      0.0\n",
       "PromoInterval_int              0      0.0"
      ]
     },
     "execution_count": 10,
     "metadata": {},
     "output_type": "execute_result"
    }
   ],
   "source": [
    "# Check for missing entries\n",
    "total = storedf.isnull().sum().sort_values(ascending=False)\n",
    "percent=(storedf.isnull().sum()*100/len(storedf)).sort_values(ascending=False)\n",
    "missing_data = pd.concat([total, percent], axis=1,keys=['Total', 'Percent'])\n",
    "missing_data.head(20)"
   ]
  },
  {
   "cell_type": "code",
   "execution_count": 11,
   "metadata": {},
   "outputs": [],
   "source": [
    "# Encoding category to numeric\n",
    "le = LabelEncoder()\n",
    "storedf['StoreType_01'] = le.fit_transform(storedf['StoreType'])\n",
    "storedf['Assortment_01'] = le.fit_transform(storedf['Assortment'])"
   ]
  },
  {
   "cell_type": "markdown",
   "metadata": {},
   "source": [
    "##### Change type 32int to 64int"
   ]
  },
  {
   "cell_type": "code",
   "execution_count": 12,
   "metadata": {},
   "outputs": [],
   "source": [
    "storedf['StoreType_01'] = storedf['StoreType_01'].astype('int64')\n",
    "storedf['Assortment_01'] = storedf['StoreType_01'].astype('int64')"
   ]
  },
  {
   "cell_type": "markdown",
   "metadata": {},
   "source": [
    "#### Check for duplicate data"
   ]
  },
  {
   "cell_type": "code",
   "execution_count": 13,
   "metadata": {},
   "outputs": [
    {
     "name": "stdout",
     "output_type": "stream",
     "text": [
      "False\n"
     ]
    }
   ],
   "source": [
    "# locate rows of duplicate data\n",
    "\n",
    "# calculate duplicates\n",
    "dups = storedf.duplicated()\n",
    "# report if there are any duplicates\n",
    "print(dups.any())\n"
   ]
  },
  {
   "cell_type": "markdown",
   "metadata": {},
   "source": [
    "#### Correlation "
   ]
  },
  {
   "cell_type": "code",
   "execution_count": 14,
   "metadata": {},
   "outputs": [
    {
     "data": {
      "text/html": [
       "<div>\n",
       "<style scoped>\n",
       "    .dataframe tbody tr th:only-of-type {\n",
       "        vertical-align: middle;\n",
       "    }\n",
       "\n",
       "    .dataframe tbody tr th {\n",
       "        vertical-align: top;\n",
       "    }\n",
       "\n",
       "    .dataframe thead th {\n",
       "        text-align: right;\n",
       "    }\n",
       "</style>\n",
       "<table border=\"1\" class=\"dataframe\">\n",
       "  <thead>\n",
       "    <tr style=\"text-align: right;\">\n",
       "      <th></th>\n",
       "      <th>Store</th>\n",
       "      <th>CompetitionDistance</th>\n",
       "      <th>CompetitionOpenSinceMonth</th>\n",
       "      <th>CompetitionOpenSinceYear</th>\n",
       "      <th>Promo2</th>\n",
       "      <th>Promo2SinceWeek</th>\n",
       "      <th>Promo2SinceYear</th>\n",
       "      <th>StoreType_Int</th>\n",
       "      <th>Assortment_Int</th>\n",
       "      <th>PromoInterval_int</th>\n",
       "      <th>StoreType_01</th>\n",
       "      <th>Assortment_01</th>\n",
       "    </tr>\n",
       "  </thead>\n",
       "  <tbody>\n",
       "    <tr>\n",
       "      <th>Store</th>\n",
       "      <td>1.000000</td>\n",
       "      <td>-0.027199</td>\n",
       "      <td>-0.030084</td>\n",
       "      <td>-0.005498</td>\n",
       "      <td>0.007486</td>\n",
       "      <td>0.009264</td>\n",
       "      <td>0.007521</td>\n",
       "      <td>-0.020977</td>\n",
       "      <td>0.003913</td>\n",
       "      <td>-0.001257</td>\n",
       "      <td>-0.020977</td>\n",
       "      <td>-0.020977</td>\n",
       "    </tr>\n",
       "    <tr>\n",
       "      <th>CompetitionDistance</th>\n",
       "      <td>-0.027199</td>\n",
       "      <td>1.000000</td>\n",
       "      <td>-0.032557</td>\n",
       "      <td>-0.002179</td>\n",
       "      <td>-0.145517</td>\n",
       "      <td>-0.130307</td>\n",
       "      <td>-0.145582</td>\n",
       "      <td>0.080033</td>\n",
       "      <td>0.144636</td>\n",
       "      <td>-0.123788</td>\n",
       "      <td>0.080033</td>\n",
       "      <td>0.080033</td>\n",
       "    </tr>\n",
       "    <tr>\n",
       "      <th>CompetitionOpenSinceMonth</th>\n",
       "      <td>-0.030084</td>\n",
       "      <td>-0.032557</td>\n",
       "      <td>1.000000</td>\n",
       "      <td>0.785030</td>\n",
       "      <td>-0.080671</td>\n",
       "      <td>-0.106586</td>\n",
       "      <td>-0.080591</td>\n",
       "      <td>-0.038439</td>\n",
       "      <td>-0.096024</td>\n",
       "      <td>-0.068024</td>\n",
       "      <td>-0.038439</td>\n",
       "      <td>-0.038439</td>\n",
       "    </tr>\n",
       "    <tr>\n",
       "      <th>CompetitionOpenSinceYear</th>\n",
       "      <td>-0.005498</td>\n",
       "      <td>-0.002179</td>\n",
       "      <td>0.785030</td>\n",
       "      <td>1.000000</td>\n",
       "      <td>-0.095603</td>\n",
       "      <td>-0.120918</td>\n",
       "      <td>-0.095526</td>\n",
       "      <td>-0.064847</td>\n",
       "      <td>-0.122689</td>\n",
       "      <td>-0.118930</td>\n",
       "      <td>-0.064847</td>\n",
       "      <td>-0.064847</td>\n",
       "    </tr>\n",
       "    <tr>\n",
       "      <th>Promo2</th>\n",
       "      <td>0.007486</td>\n",
       "      <td>-0.145517</td>\n",
       "      <td>-0.080671</td>\n",
       "      <td>-0.095603</td>\n",
       "      <td>1.000000</td>\n",
       "      <td>0.759193</td>\n",
       "      <td>0.999999</td>\n",
       "      <td>0.086597</td>\n",
       "      <td>-0.000057</td>\n",
       "      <td>0.819170</td>\n",
       "      <td>0.086597</td>\n",
       "      <td>0.086597</td>\n",
       "    </tr>\n",
       "    <tr>\n",
       "      <th>Promo2SinceWeek</th>\n",
       "      <td>0.009264</td>\n",
       "      <td>-0.130307</td>\n",
       "      <td>-0.106586</td>\n",
       "      <td>-0.120918</td>\n",
       "      <td>0.759193</td>\n",
       "      <td>1.000000</td>\n",
       "      <td>0.759023</td>\n",
       "      <td>0.055533</td>\n",
       "      <td>-0.038318</td>\n",
       "      <td>0.618142</td>\n",
       "      <td>0.055533</td>\n",
       "      <td>0.055533</td>\n",
       "    </tr>\n",
       "    <tr>\n",
       "      <th>Promo2SinceYear</th>\n",
       "      <td>0.007521</td>\n",
       "      <td>-0.145582</td>\n",
       "      <td>-0.080591</td>\n",
       "      <td>-0.095526</td>\n",
       "      <td>0.999999</td>\n",
       "      <td>0.759023</td>\n",
       "      <td>1.000000</td>\n",
       "      <td>0.086534</td>\n",
       "      <td>-0.000017</td>\n",
       "      <td>0.819231</td>\n",
       "      <td>0.086534</td>\n",
       "      <td>0.086534</td>\n",
       "    </tr>\n",
       "    <tr>\n",
       "      <th>StoreType_Int</th>\n",
       "      <td>-0.020977</td>\n",
       "      <td>0.080033</td>\n",
       "      <td>-0.038439</td>\n",
       "      <td>-0.064847</td>\n",
       "      <td>0.086597</td>\n",
       "      <td>0.055533</td>\n",
       "      <td>0.086534</td>\n",
       "      <td>1.000000</td>\n",
       "      <td>0.234372</td>\n",
       "      <td>0.092560</td>\n",
       "      <td>1.000000</td>\n",
       "      <td>1.000000</td>\n",
       "    </tr>\n",
       "    <tr>\n",
       "      <th>Assortment_Int</th>\n",
       "      <td>0.003913</td>\n",
       "      <td>0.144636</td>\n",
       "      <td>-0.096024</td>\n",
       "      <td>-0.122689</td>\n",
       "      <td>-0.000057</td>\n",
       "      <td>-0.038318</td>\n",
       "      <td>-0.000017</td>\n",
       "      <td>0.234372</td>\n",
       "      <td>1.000000</td>\n",
       "      <td>0.038409</td>\n",
       "      <td>0.234372</td>\n",
       "      <td>0.234372</td>\n",
       "    </tr>\n",
       "    <tr>\n",
       "      <th>PromoInterval_int</th>\n",
       "      <td>-0.001257</td>\n",
       "      <td>-0.123788</td>\n",
       "      <td>-0.068024</td>\n",
       "      <td>-0.118930</td>\n",
       "      <td>0.819170</td>\n",
       "      <td>0.618142</td>\n",
       "      <td>0.819231</td>\n",
       "      <td>0.092560</td>\n",
       "      <td>0.038409</td>\n",
       "      <td>1.000000</td>\n",
       "      <td>0.092560</td>\n",
       "      <td>0.092560</td>\n",
       "    </tr>\n",
       "    <tr>\n",
       "      <th>StoreType_01</th>\n",
       "      <td>-0.020977</td>\n",
       "      <td>0.080033</td>\n",
       "      <td>-0.038439</td>\n",
       "      <td>-0.064847</td>\n",
       "      <td>0.086597</td>\n",
       "      <td>0.055533</td>\n",
       "      <td>0.086534</td>\n",
       "      <td>1.000000</td>\n",
       "      <td>0.234372</td>\n",
       "      <td>0.092560</td>\n",
       "      <td>1.000000</td>\n",
       "      <td>1.000000</td>\n",
       "    </tr>\n",
       "    <tr>\n",
       "      <th>Assortment_01</th>\n",
       "      <td>-0.020977</td>\n",
       "      <td>0.080033</td>\n",
       "      <td>-0.038439</td>\n",
       "      <td>-0.064847</td>\n",
       "      <td>0.086597</td>\n",
       "      <td>0.055533</td>\n",
       "      <td>0.086534</td>\n",
       "      <td>1.000000</td>\n",
       "      <td>0.234372</td>\n",
       "      <td>0.092560</td>\n",
       "      <td>1.000000</td>\n",
       "      <td>1.000000</td>\n",
       "    </tr>\n",
       "  </tbody>\n",
       "</table>\n",
       "</div>"
      ],
      "text/plain": [
       "                              Store  CompetitionDistance  \\\n",
       "Store                      1.000000            -0.027199   \n",
       "CompetitionDistance       -0.027199             1.000000   \n",
       "CompetitionOpenSinceMonth -0.030084            -0.032557   \n",
       "CompetitionOpenSinceYear  -0.005498            -0.002179   \n",
       "Promo2                     0.007486            -0.145517   \n",
       "Promo2SinceWeek            0.009264            -0.130307   \n",
       "Promo2SinceYear            0.007521            -0.145582   \n",
       "StoreType_Int             -0.020977             0.080033   \n",
       "Assortment_Int             0.003913             0.144636   \n",
       "PromoInterval_int         -0.001257            -0.123788   \n",
       "StoreType_01              -0.020977             0.080033   \n",
       "Assortment_01             -0.020977             0.080033   \n",
       "\n",
       "                           CompetitionOpenSinceMonth  \\\n",
       "Store                                      -0.030084   \n",
       "CompetitionDistance                        -0.032557   \n",
       "CompetitionOpenSinceMonth                   1.000000   \n",
       "CompetitionOpenSinceYear                    0.785030   \n",
       "Promo2                                     -0.080671   \n",
       "Promo2SinceWeek                            -0.106586   \n",
       "Promo2SinceYear                            -0.080591   \n",
       "StoreType_Int                              -0.038439   \n",
       "Assortment_Int                             -0.096024   \n",
       "PromoInterval_int                          -0.068024   \n",
       "StoreType_01                               -0.038439   \n",
       "Assortment_01                              -0.038439   \n",
       "\n",
       "                           CompetitionOpenSinceYear    Promo2  \\\n",
       "Store                                     -0.005498  0.007486   \n",
       "CompetitionDistance                       -0.002179 -0.145517   \n",
       "CompetitionOpenSinceMonth                  0.785030 -0.080671   \n",
       "CompetitionOpenSinceYear                   1.000000 -0.095603   \n",
       "Promo2                                    -0.095603  1.000000   \n",
       "Promo2SinceWeek                           -0.120918  0.759193   \n",
       "Promo2SinceYear                           -0.095526  0.999999   \n",
       "StoreType_Int                             -0.064847  0.086597   \n",
       "Assortment_Int                            -0.122689 -0.000057   \n",
       "PromoInterval_int                         -0.118930  0.819170   \n",
       "StoreType_01                              -0.064847  0.086597   \n",
       "Assortment_01                             -0.064847  0.086597   \n",
       "\n",
       "                           Promo2SinceWeek  Promo2SinceYear  StoreType_Int  \\\n",
       "Store                             0.009264         0.007521      -0.020977   \n",
       "CompetitionDistance              -0.130307        -0.145582       0.080033   \n",
       "CompetitionOpenSinceMonth        -0.106586        -0.080591      -0.038439   \n",
       "CompetitionOpenSinceYear         -0.120918        -0.095526      -0.064847   \n",
       "Promo2                            0.759193         0.999999       0.086597   \n",
       "Promo2SinceWeek                   1.000000         0.759023       0.055533   \n",
       "Promo2SinceYear                   0.759023         1.000000       0.086534   \n",
       "StoreType_Int                     0.055533         0.086534       1.000000   \n",
       "Assortment_Int                   -0.038318        -0.000017       0.234372   \n",
       "PromoInterval_int                 0.618142         0.819231       0.092560   \n",
       "StoreType_01                      0.055533         0.086534       1.000000   \n",
       "Assortment_01                     0.055533         0.086534       1.000000   \n",
       "\n",
       "                           Assortment_Int  PromoInterval_int  StoreType_01  \\\n",
       "Store                            0.003913          -0.001257     -0.020977   \n",
       "CompetitionDistance              0.144636          -0.123788      0.080033   \n",
       "CompetitionOpenSinceMonth       -0.096024          -0.068024     -0.038439   \n",
       "CompetitionOpenSinceYear        -0.122689          -0.118930     -0.064847   \n",
       "Promo2                          -0.000057           0.819170      0.086597   \n",
       "Promo2SinceWeek                 -0.038318           0.618142      0.055533   \n",
       "Promo2SinceYear                 -0.000017           0.819231      0.086534   \n",
       "StoreType_Int                    0.234372           0.092560      1.000000   \n",
       "Assortment_Int                   1.000000           0.038409      0.234372   \n",
       "PromoInterval_int                0.038409           1.000000      0.092560   \n",
       "StoreType_01                     0.234372           0.092560      1.000000   \n",
       "Assortment_01                    0.234372           0.092560      1.000000   \n",
       "\n",
       "                           Assortment_01  \n",
       "Store                          -0.020977  \n",
       "CompetitionDistance             0.080033  \n",
       "CompetitionOpenSinceMonth      -0.038439  \n",
       "CompetitionOpenSinceYear       -0.064847  \n",
       "Promo2                          0.086597  \n",
       "Promo2SinceWeek                 0.055533  \n",
       "Promo2SinceYear                 0.086534  \n",
       "StoreType_Int                   1.000000  \n",
       "Assortment_Int                  0.234372  \n",
       "PromoInterval_int               0.092560  \n",
       "StoreType_01                    1.000000  \n",
       "Assortment_01                   1.000000  "
      ]
     },
     "execution_count": 14,
     "metadata": {},
     "output_type": "execute_result"
    }
   ],
   "source": [
    "storedf_corr = storedf.select_dtypes(include=['int64']).copy()\n",
    "# correlation\n",
    "storedf_corr.corr(method='pearson')"
   ]
  },
  {
   "cell_type": "markdown",
   "metadata": {},
   "source": [
    "#### Correlation Matrix"
   ]
  },
  {
   "cell_type": "code",
   "execution_count": 15,
   "metadata": {},
   "outputs": [
    {
     "data": {
      "text/plain": [
       "Text(0.5, 1.0, 'Correlation Matrix(for dataset)')"
      ]
     },
     "execution_count": 15,
     "metadata": {},
     "output_type": "execute_result"
    },
    {
     "data": {
      "image/png": "[encoded data removed]",
      "text/plain": [
       "<Figure size 1000x400 with 2 Axes>"
      ]
     },
     "metadata": {},
     "output_type": "display_data"
    }
   ],
   "source": [
    "# Correlation \n",
    "plt.figure(figsize=(10,4))\n",
    "sns.heatmap(storedf_corr.corr(),annot=True)\n",
    "plt.title(\"Correlation Matrix(for dataset)\")"
   ]
  },
  {
   "cell_type": "markdown",
   "metadata": {},
   "source": [
    "- **Note**\n",
    "   1. The correlation between Promo2 and Promo2sinceweek is 0.76\n",
    "   2. The correlation between Promo2 and Promo2sinceYear is high (Multicollinearity) which is 1.00 (they share the same information).<br>\n",
    "      one of the column need to drop.\n",
    "   3. CompetitionOpenSinceMonth and CompetitionOpenSinceYear have a correlation of 0.79 <br>\n",
    "      They share similar information (One of the column should be retained).\n",
    "   4. There is high correlation between StoreType_01 and Assortment_01\n",
    "\n",
    "- **Action**\n",
    "   1. Promo2sinceYear will be drop\n",
    "   2. CompetitionOpenSinceMonth provide more information , CompetitionOpenSinceYear will be drop\n",
    "   3. Both StoreType_01 and Assortment_01 Share the same information, Both or one should be drop"
   ]
  },
  {
   "cell_type": "markdown",
   "metadata": {},
   "source": [
    "#### VIF : Checking for Multicollinearity"
   ]
  },
  {
   "cell_type": "code",
   "execution_count": 16,
   "metadata": {},
   "outputs": [
    {
     "name": "stdout",
     "output_type": "stream",
     "text": [
      "                     Feature           VIF\n",
      "0                      Store  2.634904e+00\n",
      "1        CompetitionDistance  1.431755e+00\n",
      "2  CompetitionOpenSinceMonth  6.088575e+00\n",
      "3   CompetitionOpenSinceYear  7.488419e+00\n",
      "4                     Promo2  1.533388e+06\n",
      "5            Promo2SinceWeek  3.995663e+00\n",
      "6            Promo2SinceYear  1.532475e+06\n",
      "7               StoreType_01           inf\n",
      "8              Assortment_01           inf\n"
     ]
    }
   ],
   "source": [
    "\n",
    "X = storedf[['Store', 'CompetitionDistance', 'CompetitionOpenSinceMonth',\n",
    "       'CompetitionOpenSinceYear', 'Promo2', 'Promo2SinceWeek',\n",
    "       'Promo2SinceYear','StoreType_01','Assortment_01']]\n",
    "\n",
    "# Calculate VIF for each variable\n",
    "vif_data = pd.DataFrame()\n",
    "vif_data['Feature'] = X.columns\n",
    "vif_data['VIF'] = [variance_inflation_factor(X.values, i) for i in range(X.shape[1])]\n",
    "\n",
    "# Display VIF values\n",
    "print(vif_data)"
   ]
  },
  {
   "cell_type": "markdown",
   "metadata": {},
   "source": [
    "#### Removal of Redundant Column "
   ]
  },
  {
   "cell_type": "code",
   "execution_count": 17,
   "metadata": {},
   "outputs": [],
   "source": [
    "# Removal of redundant column and also with high multicollinearity\n",
    "columns = ['Promo2SinceYear','CompetitionOpenSinceYear','PromoInterval','Assortment','Assortment_01']\n",
    "storedf.drop(columns,axis=1,inplace=True)"
   ]
  },
  {
   "cell_type": "markdown",
   "metadata": {},
   "source": [
    "#### Scatter Plot"
   ]
  },
  {
   "cell_type": "code",
   "execution_count": 18,
   "metadata": {},
   "outputs": [
    {
     "data": {
      "text/plain": [
       "Text(0, 0.5, 'Sales')"
      ]
     },
     "execution_count": 18,
     "metadata": {},
     "output_type": "execute_result"
    },
    {
     "data": {
      "image/png": "[encoded data removed]",
      "text/plain": [
       "<Figure size 700x300 with 1 Axes>"
      ]
     },
     "metadata": {},
     "output_type": "display_data"
    }
   ],
   "source": [
    "plt.figure(figsize=(7,3))\n",
    "plt.title('scatter plot : Sales by Customers')\n",
    "plt.scatter(data = traindf,x = 'Customers',y = 'Sales')\n",
    "plt.xlabel('Customers')\n",
    "plt.ylabel('Sales')\n"
   ]
  },
  {
   "cell_type": "markdown",
   "metadata": {},
   "source": [
    "#### Histogram"
   ]
  },
  {
   "cell_type": "code",
   "execution_count": 19,
   "metadata": {},
   "outputs": [
    {
     "data": {
      "text/plain": [
       "Text(0, 0.5, 'Sales')"
      ]
     },
     "execution_count": 19,
     "metadata": {},
     "output_type": "execute_result"
    },
    {
     "data": {
      "image/png": "[encoded data removed]",
      "text/plain": [
       "<Figure size 700x300 with 1 Axes>"
      ]
     },
     "metadata": {},
     "output_type": "display_data"
    }
   ],
   "source": [
    "plt.figure(figsize=(7,3))\n",
    "plt.title('Histogram : Customers')\n",
    "plt.hist(data = traindf,x = 'Customers',bins = 100)\n",
    "plt.xlabel('Customers')\n",
    "plt.ylabel('Sales')\n"
   ]
  },
  {
   "cell_type": "markdown",
   "metadata": {},
   "source": [
    "# Traindf Table"
   ]
  },
  {
   "cell_type": "markdown",
   "metadata": {},
   "source": [
    "#### view data"
   ]
  },
  {
   "cell_type": "code",
   "execution_count": 20,
   "metadata": {},
   "outputs": [
    {
     "data": {
      "text/html": [
       "<div>\n",
       "<style scoped>\n",
       "    .dataframe tbody tr th:only-of-type {\n",
       "        vertical-align: middle;\n",
       "    }\n",
       "\n",
       "    .dataframe tbody tr th {\n",
       "        vertical-align: top;\n",
       "    }\n",
       "\n",
       "    .dataframe thead th {\n",
       "        text-align: right;\n",
       "    }\n",
       "</style>\n",
       "<table border=\"1\" class=\"dataframe\">\n",
       "  <thead>\n",
       "    <tr style=\"text-align: right;\">\n",
       "      <th></th>\n",
       "      <th>Store</th>\n",
       "      <th>DayOfWeek</th>\n",
       "      <th>Date</th>\n",
       "      <th>Sales</th>\n",
       "      <th>Customers</th>\n",
       "      <th>Open</th>\n",
       "      <th>Promo</th>\n",
       "      <th>StateHoliday</th>\n",
       "      <th>SchoolHoliday</th>\n",
       "    </tr>\n",
       "  </thead>\n",
       "  <tbody>\n",
       "    <tr>\n",
       "      <th>0</th>\n",
       "      <td>1</td>\n",
       "      <td>5</td>\n",
       "      <td>2015-07-31</td>\n",
       "      <td>5263</td>\n",
       "      <td>555</td>\n",
       "      <td>1</td>\n",
       "      <td>1</td>\n",
       "      <td>0</td>\n",
       "      <td>1</td>\n",
       "    </tr>\n",
       "    <tr>\n",
       "      <th>1</th>\n",
       "      <td>2</td>\n",
       "      <td>5</td>\n",
       "      <td>2015-07-31</td>\n",
       "      <td>6064</td>\n",
       "      <td>625</td>\n",
       "      <td>1</td>\n",
       "      <td>1</td>\n",
       "      <td>0</td>\n",
       "      <td>1</td>\n",
       "    </tr>\n",
       "    <tr>\n",
       "      <th>2</th>\n",
       "      <td>3</td>\n",
       "      <td>5</td>\n",
       "      <td>2015-07-31</td>\n",
       "      <td>8314</td>\n",
       "      <td>821</td>\n",
       "      <td>1</td>\n",
       "      <td>1</td>\n",
       "      <td>0</td>\n",
       "      <td>1</td>\n",
       "    </tr>\n",
       "    <tr>\n",
       "      <th>3</th>\n",
       "      <td>5</td>\n",
       "      <td>5</td>\n",
       "      <td>2015-07-31</td>\n",
       "      <td>4822</td>\n",
       "      <td>559</td>\n",
       "      <td>1</td>\n",
       "      <td>1</td>\n",
       "      <td>0</td>\n",
       "      <td>1</td>\n",
       "    </tr>\n",
       "    <tr>\n",
       "      <th>4</th>\n",
       "      <td>6</td>\n",
       "      <td>5</td>\n",
       "      <td>2015-07-31</td>\n",
       "      <td>5651</td>\n",
       "      <td>589</td>\n",
       "      <td>1</td>\n",
       "      <td>1</td>\n",
       "      <td>0</td>\n",
       "      <td>1</td>\n",
       "    </tr>\n",
       "  </tbody>\n",
       "</table>\n",
       "</div>"
      ],
      "text/plain": [
       "   Store  DayOfWeek        Date  Sales  Customers  Open  Promo  StateHoliday  \\\n",
       "0      1          5  2015-07-31   5263        555     1      1             0   \n",
       "1      2          5  2015-07-31   6064        625     1      1             0   \n",
       "2      3          5  2015-07-31   8314        821     1      1             0   \n",
       "3      5          5  2015-07-31   4822        559     1      1             0   \n",
       "4      6          5  2015-07-31   5651        589     1      1             0   \n",
       "\n",
       "   SchoolHoliday  \n",
       "0              1  \n",
       "1              1  \n",
       "2              1  \n",
       "3              1  \n",
       "4              1  "
      ]
     },
     "execution_count": 20,
     "metadata": {},
     "output_type": "execute_result"
    }
   ],
   "source": [
    "# head\n",
    "traindf.head()"
   ]
  },
  {
   "cell_type": "markdown",
   "metadata": {},
   "source": [
    "#### shape of the data"
   ]
  },
  {
   "cell_type": "code",
   "execution_count": 21,
   "metadata": {},
   "outputs": [
    {
     "name": "stdout",
     "output_type": "stream",
     "text": [
      "(814299, 9)\n"
     ]
    }
   ],
   "source": [
    "# shape\n",
    "print(traindf.shape)"
   ]
  },
  {
   "cell_type": "markdown",
   "metadata": {},
   "source": [
    "#### types of column"
   ]
  },
  {
   "cell_type": "code",
   "execution_count": 22,
   "metadata": {},
   "outputs": [
    {
     "name": "stdout",
     "output_type": "stream",
     "text": [
      "Store             int64\n",
      "DayOfWeek         int64\n",
      "Date             object\n",
      "Sales             int64\n",
      "Customers         int64\n",
      "Open              int64\n",
      "Promo             int64\n",
      "StateHoliday      int64\n",
      "SchoolHoliday     int64\n",
      "dtype: object\n"
     ]
    }
   ],
   "source": [
    "# types\n",
    "print(traindf.dtypes)\n"
   ]
  },
  {
   "cell_type": "markdown",
   "metadata": {},
   "source": [
    "#### data description"
   ]
  },
  {
   "cell_type": "code",
   "execution_count": 23,
   "metadata": {},
   "outputs": [
    {
     "data": {
      "text/html": [
       "<div>\n",
       "<style scoped>\n",
       "    .dataframe tbody tr th:only-of-type {\n",
       "        vertical-align: middle;\n",
       "    }\n",
       "\n",
       "    .dataframe tbody tr th {\n",
       "        vertical-align: top;\n",
       "    }\n",
       "\n",
       "    .dataframe thead th {\n",
       "        text-align: right;\n",
       "    }\n",
       "</style>\n",
       "<table border=\"1\" class=\"dataframe\">\n",
       "  <thead>\n",
       "    <tr style=\"text-align: right;\">\n",
       "      <th></th>\n",
       "      <th>Store</th>\n",
       "      <th>DayOfWeek</th>\n",
       "      <th>Sales</th>\n",
       "      <th>Customers</th>\n",
       "      <th>Open</th>\n",
       "      <th>Promo</th>\n",
       "      <th>StateHoliday</th>\n",
       "      <th>SchoolHoliday</th>\n",
       "    </tr>\n",
       "  </thead>\n",
       "  <tbody>\n",
       "    <tr>\n",
       "      <th>count</th>\n",
       "      <td>814299.000000</td>\n",
       "      <td>814299.000000</td>\n",
       "      <td>814299.000000</td>\n",
       "      <td>814299.000000</td>\n",
       "      <td>814299.000000</td>\n",
       "      <td>814299.000000</td>\n",
       "      <td>814299.000000</td>\n",
       "      <td>814299.000000</td>\n",
       "    </tr>\n",
       "    <tr>\n",
       "      <th>mean</th>\n",
       "      <td>557.386423</td>\n",
       "      <td>3.546504</td>\n",
       "      <td>6578.110456</td>\n",
       "      <td>718.145233</td>\n",
       "      <td>0.999000</td>\n",
       "      <td>0.435819</td>\n",
       "      <td>0.000996</td>\n",
       "      <td>0.192362</td>\n",
       "    </tr>\n",
       "    <tr>\n",
       "      <th>std</th>\n",
       "      <td>323.195128</td>\n",
       "      <td>1.714786</td>\n",
       "      <td>2429.153669</td>\n",
       "      <td>306.621660</td>\n",
       "      <td>0.031601</td>\n",
       "      <td>0.495864</td>\n",
       "      <td>0.031543</td>\n",
       "      <td>0.394156</td>\n",
       "    </tr>\n",
       "    <tr>\n",
       "      <th>min</th>\n",
       "      <td>1.000000</td>\n",
       "      <td>1.000000</td>\n",
       "      <td>0.000000</td>\n",
       "      <td>0.000000</td>\n",
       "      <td>0.000000</td>\n",
       "      <td>0.000000</td>\n",
       "      <td>0.000000</td>\n",
       "      <td>0.000000</td>\n",
       "    </tr>\n",
       "    <tr>\n",
       "      <th>25%</th>\n",
       "      <td>277.000000</td>\n",
       "      <td>2.000000</td>\n",
       "      <td>4798.000000</td>\n",
       "      <td>513.000000</td>\n",
       "      <td>1.000000</td>\n",
       "      <td>0.000000</td>\n",
       "      <td>0.000000</td>\n",
       "      <td>0.000000</td>\n",
       "    </tr>\n",
       "    <tr>\n",
       "      <th>50%</th>\n",
       "      <td>557.000000</td>\n",
       "      <td>4.000000</td>\n",
       "      <td>6250.000000</td>\n",
       "      <td>663.000000</td>\n",
       "      <td>1.000000</td>\n",
       "      <td>0.000000</td>\n",
       "      <td>0.000000</td>\n",
       "      <td>0.000000</td>\n",
       "    </tr>\n",
       "    <tr>\n",
       "      <th>75%</th>\n",
       "      <td>840.000000</td>\n",
       "      <td>5.000000</td>\n",
       "      <td>8078.000000</td>\n",
       "      <td>861.000000</td>\n",
       "      <td>1.000000</td>\n",
       "      <td>1.000000</td>\n",
       "      <td>0.000000</td>\n",
       "      <td>0.000000</td>\n",
       "    </tr>\n",
       "    <tr>\n",
       "      <th>max</th>\n",
       "      <td>1115.000000</td>\n",
       "      <td>7.000000</td>\n",
       "      <td>13610.000000</td>\n",
       "      <td>4256.000000</td>\n",
       "      <td>1.000000</td>\n",
       "      <td>1.000000</td>\n",
       "      <td>1.000000</td>\n",
       "      <td>1.000000</td>\n",
       "    </tr>\n",
       "  </tbody>\n",
       "</table>\n",
       "</div>"
      ],
      "text/plain": [
       "               Store      DayOfWeek          Sales      Customers  \\\n",
       "count  814299.000000  814299.000000  814299.000000  814299.000000   \n",
       "mean      557.386423       3.546504    6578.110456     718.145233   \n",
       "std       323.195128       1.714786    2429.153669     306.621660   \n",
       "min         1.000000       1.000000       0.000000       0.000000   \n",
       "25%       277.000000       2.000000    4798.000000     513.000000   \n",
       "50%       557.000000       4.000000    6250.000000     663.000000   \n",
       "75%       840.000000       5.000000    8078.000000     861.000000   \n",
       "max      1115.000000       7.000000   13610.000000    4256.000000   \n",
       "\n",
       "                Open          Promo   StateHoliday  SchoolHoliday  \n",
       "count  814299.000000  814299.000000  814299.000000  814299.000000  \n",
       "mean        0.999000       0.435819       0.000996       0.192362  \n",
       "std         0.031601       0.495864       0.031543       0.394156  \n",
       "min         0.000000       0.000000       0.000000       0.000000  \n",
       "25%         1.000000       0.000000       0.000000       0.000000  \n",
       "50%         1.000000       0.000000       0.000000       0.000000  \n",
       "75%         1.000000       1.000000       0.000000       0.000000  \n",
       "max         1.000000       1.000000       1.000000       1.000000  "
      ]
     },
     "execution_count": 23,
     "metadata": {},
     "output_type": "execute_result"
    }
   ],
   "source": [
    "# descriptions\n",
    "traindf.describe()\n"
   ]
  },
  {
   "cell_type": "markdown",
   "metadata": {},
   "source": [
    "#### Check for missing entries"
   ]
  },
  {
   "cell_type": "code",
   "execution_count": 24,
   "metadata": {},
   "outputs": [
    {
     "data": {
      "text/html": [
       "<div>\n",
       "<style scoped>\n",
       "    .dataframe tbody tr th:only-of-type {\n",
       "        vertical-align: middle;\n",
       "    }\n",
       "\n",
       "    .dataframe tbody tr th {\n",
       "        vertical-align: top;\n",
       "    }\n",
       "\n",
       "    .dataframe thead th {\n",
       "        text-align: right;\n",
       "    }\n",
       "</style>\n",
       "<table border=\"1\" class=\"dataframe\">\n",
       "  <thead>\n",
       "    <tr style=\"text-align: right;\">\n",
       "      <th></th>\n",
       "      <th>Total</th>\n",
       "      <th>Percent</th>\n",
       "    </tr>\n",
       "  </thead>\n",
       "  <tbody>\n",
       "    <tr>\n",
       "      <th>Store</th>\n",
       "      <td>0</td>\n",
       "      <td>0.0</td>\n",
       "    </tr>\n",
       "    <tr>\n",
       "      <th>DayOfWeek</th>\n",
       "      <td>0</td>\n",
       "      <td>0.0</td>\n",
       "    </tr>\n",
       "    <tr>\n",
       "      <th>Date</th>\n",
       "      <td>0</td>\n",
       "      <td>0.0</td>\n",
       "    </tr>\n",
       "    <tr>\n",
       "      <th>Sales</th>\n",
       "      <td>0</td>\n",
       "      <td>0.0</td>\n",
       "    </tr>\n",
       "    <tr>\n",
       "      <th>Customers</th>\n",
       "      <td>0</td>\n",
       "      <td>0.0</td>\n",
       "    </tr>\n",
       "    <tr>\n",
       "      <th>Open</th>\n",
       "      <td>0</td>\n",
       "      <td>0.0</td>\n",
       "    </tr>\n",
       "    <tr>\n",
       "      <th>Promo</th>\n",
       "      <td>0</td>\n",
       "      <td>0.0</td>\n",
       "    </tr>\n",
       "    <tr>\n",
       "      <th>StateHoliday</th>\n",
       "      <td>0</td>\n",
       "      <td>0.0</td>\n",
       "    </tr>\n",
       "    <tr>\n",
       "      <th>SchoolHoliday</th>\n",
       "      <td>0</td>\n",
       "      <td>0.0</td>\n",
       "    </tr>\n",
       "  </tbody>\n",
       "</table>\n",
       "</div>"
      ],
      "text/plain": [
       "               Total  Percent\n",
       "Store              0      0.0\n",
       "DayOfWeek          0      0.0\n",
       "Date               0      0.0\n",
       "Sales              0      0.0\n",
       "Customers          0      0.0\n",
       "Open               0      0.0\n",
       "Promo              0      0.0\n",
       "StateHoliday       0      0.0\n",
       "SchoolHoliday      0      0.0"
      ]
     },
     "execution_count": 24,
     "metadata": {},
     "output_type": "execute_result"
    }
   ],
   "source": [
    "# Check for missing entries\n",
    "total = traindf.isnull().sum().sort_values(ascending=False)\n",
    "percent=(traindf.isnull().sum()*100/len(traindf)).sort_values(ascending=False)\n",
    "missing_data = pd.concat([total, percent], axis=1,keys=['Total', 'Percent'])\n",
    "missing_data.head(20)"
   ]
  },
  {
   "cell_type": "markdown",
   "metadata": {},
   "source": [
    "#### Check for duplicate rows"
   ]
  },
  {
   "cell_type": "code",
   "execution_count": 25,
   "metadata": {},
   "outputs": [
    {
     "name": "stdout",
     "output_type": "stream",
     "text": [
      "False\n"
     ]
    }
   ],
   "source": [
    "# locate rows of duplicate data\n",
    "\n",
    "# calculate duplicates\n",
    "dups = traindf.duplicated()\n",
    "# report if there are any duplicates\n",
    "print(dups.any())\n"
   ]
  },
  {
   "cell_type": "markdown",
   "metadata": {},
   "source": [
    "# Feature Engineering"
   ]
  },
  {
   "cell_type": "markdown",
   "metadata": {},
   "source": [
    "#### conversion to datetime"
   ]
  },
  {
   "cell_type": "code",
   "execution_count": 26,
   "metadata": {},
   "outputs": [],
   "source": [
    "traindf['Date'] = pd.to_datetime(traindf['Date'])\n"
   ]
  },
  {
   "cell_type": "markdown",
   "metadata": {},
   "source": [
    "#### Create time-based features"
   ]
  },
  {
   "cell_type": "code",
   "execution_count": 27,
   "metadata": {},
   "outputs": [],
   "source": [
    "# Create time-based features\n",
    "traindf[\"Year\"] = traindf[\"Date\"].dt.year\n",
    "traindf[\"Month\"] = traindf[\"Date\"].dt.month\n",
    "traindf[\"WeekOfYear\"] = traindf[\"Date\"].dt.isocalendar().week\n",
    "traindf[\"IsWeekend\"] = traindf[\"DayOfWeek\"].apply(lambda x: 1 if x >= 5 else 0)  # 1 = Weekend\n",
    "traindf[\"Season\"] = traindf[\"Month\"].map({1: \"winter\", 2: \"winter\", 3: \"spring\", 4: \"spring\", 5: \"spring\", 6: \"summer\", 7: \"summer\", 8: \"summer\", 9: \"fall\", 10: \"fall\", 11: \"fall\", 12: \"winter\"})\n"
   ]
  },
  {
   "cell_type": "markdown",
   "metadata": {},
   "source": [
    "#### Extract text-based details"
   ]
  },
  {
   "cell_type": "code",
   "execution_count": 28,
   "metadata": {},
   "outputs": [],
   "source": [
    "# Extract text-based details\n",
    "traindf['Month_01'] = traindf['Date'].dt.strftime('%B')  # Full month name\n",
    "traindf['Day'] = traindf['Date'].dt.strftime('%d')    # Day as text\n",
    "traindf['Day of Week'] = traindf['Date'].dt.strftime('%A')  # Full weekday name"
   ]
  },
  {
   "cell_type": "markdown",
   "metadata": {},
   "source": [
    "#### Lag Features (Past Sales Trends)"
   ]
  },
  {
   "cell_type": "code",
   "execution_count": 29,
   "metadata": {},
   "outputs": [
    {
     "data": {
      "text/plain": [
       "0             NaN\n",
       "1             NaN\n",
       "2             NaN\n",
       "3             NaN\n",
       "4             NaN\n",
       "           ...   \n",
       "814294     5775.0\n",
       "814295    12577.0\n",
       "814296     7659.0\n",
       "814297     4260.0\n",
       "814298     8057.0\n",
       "Name: Sales_Lag_7, Length: 814299, dtype: float64"
      ]
     },
     "execution_count": 29,
     "metadata": {},
     "output_type": "execute_result"
    }
   ],
   "source": [
    "traindf[\"Sales_Lag_7\"] = traindf.groupby(\"Store\")[\"Sales\"].shift(7)\n",
    "traindf[\"Sales_Lag_7\"]\n"
   ]
  },
  {
   "cell_type": "code",
   "execution_count": 30,
   "metadata": {},
   "outputs": [
    {
     "data": {
      "text/plain": [
       "0             NaN\n",
       "1             NaN\n",
       "2             NaN\n",
       "3             NaN\n",
       "4             NaN\n",
       "           ...   \n",
       "814294    11235.0\n",
       "814295    11807.0\n",
       "814296     9244.0\n",
       "814297     5405.0\n",
       "814298     9390.0\n",
       "Name: Sales_Lag_30, Length: 814299, dtype: float64"
      ]
     },
     "execution_count": 30,
     "metadata": {},
     "output_type": "execute_result"
    }
   ],
   "source": [
    "traindf[\"Sales_Lag_30\"] = traindf.groupby(\"Store\")[\"Sales\"].shift(30)\n",
    "traindf[\"Sales_Lag_30\"]"
   ]
  },
  {
   "cell_type": "markdown",
   "metadata": {},
   "source": [
    "#### Rolling Mean for Trend Analysis"
   ]
  },
  {
   "cell_type": "code",
   "execution_count": 31,
   "metadata": {},
   "outputs": [
    {
     "data": {
      "text/plain": [
       "0                  NaN\n",
       "1                  NaN\n",
       "2                  NaN\n",
       "3                  NaN\n",
       "4                  NaN\n",
       "              ...     \n",
       "814294     8260.285714\n",
       "814295    11817.714286\n",
       "814296     6977.428571\n",
       "814297     4114.285714\n",
       "814298     6896.571429\n",
       "Name: Sales_MA_7, Length: 814299, dtype: float64"
      ]
     },
     "execution_count": 31,
     "metadata": {},
     "output_type": "execute_result"
    }
   ],
   "source": [
    "traindf[\"Sales_MA_7\"] = traindf.groupby(\"Store\")[\"Sales\"].transform(lambda x: x.rolling(7).mean())\n",
    "traindf[\"Sales_MA_7\"]"
   ]
  },
  {
   "cell_type": "markdown",
   "metadata": {},
   "source": [
    "#### conversion of types"
   ]
  },
  {
   "cell_type": "code",
   "execution_count": 32,
   "metadata": {},
   "outputs": [],
   "source": [
    "#conversion of types\n",
    "traindf['Year'] = traindf['Year'].astype('int64')\n",
    "traindf['Month'] = traindf['Month'].astype('int64')\n",
    "traindf['WeekOfYear'] = traindf['WeekOfYear'].astype('int64')\n",
    "traindf['Day'] = traindf['Day'].astype('int64')\n",
    "traindf['Day'] = traindf['Day'].astype('int64')"
   ]
  },
  {
   "cell_type": "markdown",
   "metadata": {},
   "source": [
    "# Merge Train and Store Data"
   ]
  },
  {
   "cell_type": "markdown",
   "metadata": {},
   "source": [
    "#### Merge train and store data"
   ]
  },
  {
   "cell_type": "code",
   "execution_count": 33,
   "metadata": {},
   "outputs": [
    {
     "data": {
      "text/html": [
       "<div>\n",
       "<style scoped>\n",
       "    .dataframe tbody tr th:only-of-type {\n",
       "        vertical-align: middle;\n",
       "    }\n",
       "\n",
       "    .dataframe tbody tr th {\n",
       "        vertical-align: top;\n",
       "    }\n",
       "\n",
       "    .dataframe thead th {\n",
       "        text-align: right;\n",
       "    }\n",
       "</style>\n",
       "<table border=\"1\" class=\"dataframe\">\n",
       "  <thead>\n",
       "    <tr style=\"text-align: right;\">\n",
       "      <th></th>\n",
       "      <th>Store</th>\n",
       "      <th>DayOfWeek</th>\n",
       "      <th>Date</th>\n",
       "      <th>Sales</th>\n",
       "      <th>Customers</th>\n",
       "      <th>Open</th>\n",
       "      <th>Promo</th>\n",
       "      <th>StateHoliday</th>\n",
       "      <th>SchoolHoliday</th>\n",
       "      <th>Year</th>\n",
       "      <th>Month</th>\n",
       "      <th>WeekOfYear</th>\n",
       "      <th>IsWeekend</th>\n",
       "      <th>Season</th>\n",
       "      <th>Month_01</th>\n",
       "      <th>Day</th>\n",
       "      <th>Day of Week</th>\n",
       "      <th>Sales_Lag_7</th>\n",
       "      <th>Sales_Lag_30</th>\n",
       "      <th>Sales_MA_7</th>\n",
       "      <th>StoreType</th>\n",
       "      <th>CompetitionDistance</th>\n",
       "      <th>CompetitionOpenSinceMonth</th>\n",
       "      <th>Promo2</th>\n",
       "      <th>Promo2SinceWeek</th>\n",
       "      <th>StoreType_Int</th>\n",
       "      <th>Assortment_Int</th>\n",
       "      <th>PromoInterval_int</th>\n",
       "      <th>StoreType_01</th>\n",
       "    </tr>\n",
       "  </thead>\n",
       "  <tbody>\n",
       "    <tr>\n",
       "      <th>0</th>\n",
       "      <td>1</td>\n",
       "      <td>5</td>\n",
       "      <td>2015-07-31</td>\n",
       "      <td>5263</td>\n",
       "      <td>555</td>\n",
       "      <td>1</td>\n",
       "      <td>1</td>\n",
       "      <td>0</td>\n",
       "      <td>1</td>\n",
       "      <td>2015</td>\n",
       "      <td>7</td>\n",
       "      <td>31</td>\n",
       "      <td>1</td>\n",
       "      <td>summer</td>\n",
       "      <td>July</td>\n",
       "      <td>31</td>\n",
       "      <td>Friday</td>\n",
       "      <td>NaN</td>\n",
       "      <td>NaN</td>\n",
       "      <td>NaN</td>\n",
       "      <td>c</td>\n",
       "      <td>1270</td>\n",
       "      <td>9</td>\n",
       "      <td>0</td>\n",
       "      <td>0</td>\n",
       "      <td>3</td>\n",
       "      <td>1</td>\n",
       "      <td>0</td>\n",
       "      <td>2</td>\n",
       "    </tr>\n",
       "    <tr>\n",
       "      <th>1</th>\n",
       "      <td>2</td>\n",
       "      <td>5</td>\n",
       "      <td>2015-07-31</td>\n",
       "      <td>6064</td>\n",
       "      <td>625</td>\n",
       "      <td>1</td>\n",
       "      <td>1</td>\n",
       "      <td>0</td>\n",
       "      <td>1</td>\n",
       "      <td>2015</td>\n",
       "      <td>7</td>\n",
       "      <td>31</td>\n",
       "      <td>1</td>\n",
       "      <td>summer</td>\n",
       "      <td>July</td>\n",
       "      <td>31</td>\n",
       "      <td>Friday</td>\n",
       "      <td>NaN</td>\n",
       "      <td>NaN</td>\n",
       "      <td>NaN</td>\n",
       "      <td>a</td>\n",
       "      <td>570</td>\n",
       "      <td>11</td>\n",
       "      <td>1</td>\n",
       "      <td>13</td>\n",
       "      <td>1</td>\n",
       "      <td>1</td>\n",
       "      <td>1</td>\n",
       "      <td>0</td>\n",
       "    </tr>\n",
       "    <tr>\n",
       "      <th>2</th>\n",
       "      <td>3</td>\n",
       "      <td>5</td>\n",
       "      <td>2015-07-31</td>\n",
       "      <td>8314</td>\n",
       "      <td>821</td>\n",
       "      <td>1</td>\n",
       "      <td>1</td>\n",
       "      <td>0</td>\n",
       "      <td>1</td>\n",
       "      <td>2015</td>\n",
       "      <td>7</td>\n",
       "      <td>31</td>\n",
       "      <td>1</td>\n",
       "      <td>summer</td>\n",
       "      <td>July</td>\n",
       "      <td>31</td>\n",
       "      <td>Friday</td>\n",
       "      <td>NaN</td>\n",
       "      <td>NaN</td>\n",
       "      <td>NaN</td>\n",
       "      <td>a</td>\n",
       "      <td>14130</td>\n",
       "      <td>12</td>\n",
       "      <td>1</td>\n",
       "      <td>14</td>\n",
       "      <td>1</td>\n",
       "      <td>1</td>\n",
       "      <td>1</td>\n",
       "      <td>0</td>\n",
       "    </tr>\n",
       "    <tr>\n",
       "      <th>3</th>\n",
       "      <td>5</td>\n",
       "      <td>5</td>\n",
       "      <td>2015-07-31</td>\n",
       "      <td>4822</td>\n",
       "      <td>559</td>\n",
       "      <td>1</td>\n",
       "      <td>1</td>\n",
       "      <td>0</td>\n",
       "      <td>1</td>\n",
       "      <td>2015</td>\n",
       "      <td>7</td>\n",
       "      <td>31</td>\n",
       "      <td>1</td>\n",
       "      <td>summer</td>\n",
       "      <td>July</td>\n",
       "      <td>31</td>\n",
       "      <td>Friday</td>\n",
       "      <td>NaN</td>\n",
       "      <td>NaN</td>\n",
       "      <td>NaN</td>\n",
       "      <td>a</td>\n",
       "      <td>29910</td>\n",
       "      <td>4</td>\n",
       "      <td>0</td>\n",
       "      <td>0</td>\n",
       "      <td>1</td>\n",
       "      <td>1</td>\n",
       "      <td>0</td>\n",
       "      <td>0</td>\n",
       "    </tr>\n",
       "    <tr>\n",
       "      <th>4</th>\n",
       "      <td>6</td>\n",
       "      <td>5</td>\n",
       "      <td>2015-07-31</td>\n",
       "      <td>5651</td>\n",
       "      <td>589</td>\n",
       "      <td>1</td>\n",
       "      <td>1</td>\n",
       "      <td>0</td>\n",
       "      <td>1</td>\n",
       "      <td>2015</td>\n",
       "      <td>7</td>\n",
       "      <td>31</td>\n",
       "      <td>1</td>\n",
       "      <td>summer</td>\n",
       "      <td>July</td>\n",
       "      <td>31</td>\n",
       "      <td>Friday</td>\n",
       "      <td>NaN</td>\n",
       "      <td>NaN</td>\n",
       "      <td>NaN</td>\n",
       "      <td>a</td>\n",
       "      <td>310</td>\n",
       "      <td>12</td>\n",
       "      <td>0</td>\n",
       "      <td>0</td>\n",
       "      <td>1</td>\n",
       "      <td>1</td>\n",
       "      <td>0</td>\n",
       "      <td>0</td>\n",
       "    </tr>\n",
       "  </tbody>\n",
       "</table>\n",
       "</div>"
      ],
      "text/plain": [
       "   Store  DayOfWeek       Date  Sales  Customers  Open  Promo  StateHoliday  \\\n",
       "0      1          5 2015-07-31   5263        555     1      1             0   \n",
       "1      2          5 2015-07-31   6064        625     1      1             0   \n",
       "2      3          5 2015-07-31   8314        821     1      1             0   \n",
       "3      5          5 2015-07-31   4822        559     1      1             0   \n",
       "4      6          5 2015-07-31   5651        589     1      1             0   \n",
       "\n",
       "   SchoolHoliday  Year  Month  WeekOfYear  IsWeekend  Season Month_01  Day  \\\n",
       "0              1  2015      7          31          1  summer     July   31   \n",
       "1              1  2015      7          31          1  summer     July   31   \n",
       "2              1  2015      7          31          1  summer     July   31   \n",
       "3              1  2015      7          31          1  summer     July   31   \n",
       "4              1  2015      7          31          1  summer     July   31   \n",
       "\n",
       "  Day of Week  Sales_Lag_7  Sales_Lag_30  Sales_MA_7 StoreType  \\\n",
       "0      Friday          NaN           NaN         NaN         c   \n",
       "1      Friday          NaN           NaN         NaN         a   \n",
       "2      Friday          NaN           NaN         NaN         a   \n",
       "3      Friday          NaN           NaN         NaN         a   \n",
       "4      Friday          NaN           NaN         NaN         a   \n",
       "\n",
       "   CompetitionDistance  CompetitionOpenSinceMonth  Promo2  Promo2SinceWeek  \\\n",
       "0                 1270                          9       0                0   \n",
       "1                  570                         11       1               13   \n",
       "2                14130                         12       1               14   \n",
       "3                29910                          4       0                0   \n",
       "4                  310                         12       0                0   \n",
       "\n",
       "   StoreType_Int  Assortment_Int  PromoInterval_int  StoreType_01  \n",
       "0              3               1                  0             2  \n",
       "1              1               1                  1             0  \n",
       "2              1               1                  1             0  \n",
       "3              1               1                  0             0  \n",
       "4              1               1                  0             0  "
      ]
     },
     "execution_count": 33,
     "metadata": {},
     "output_type": "execute_result"
    }
   ],
   "source": [
    "# Merge train and store data\n",
    "train_store_df = traindf.merge(storedf, on=\"Store\", how=\"left\")\n",
    "train_store_df.head()"
   ]
  },
  {
   "cell_type": "markdown",
   "metadata": {},
   "source": [
    "#### drop the null entries"
   ]
  },
  {
   "cell_type": "code",
   "execution_count": 34,
   "metadata": {},
   "outputs": [],
   "source": [
    "train_store_df.dropna(inplace =True)"
   ]
  },
  {
   "cell_type": "markdown",
   "metadata": {},
   "source": [
    "# Testdf Table"
   ]
  },
  {
   "cell_type": "markdown",
   "metadata": {},
   "source": [
    "#### view data"
   ]
  },
  {
   "cell_type": "code",
   "execution_count": 35,
   "metadata": {},
   "outputs": [
    {
     "data": {
      "text/html": [
       "<div>\n",
       "<style scoped>\n",
       "    .dataframe tbody tr th:only-of-type {\n",
       "        vertical-align: middle;\n",
       "    }\n",
       "\n",
       "    .dataframe tbody tr th {\n",
       "        vertical-align: top;\n",
       "    }\n",
       "\n",
       "    .dataframe thead th {\n",
       "        text-align: right;\n",
       "    }\n",
       "</style>\n",
       "<table border=\"1\" class=\"dataframe\">\n",
       "  <thead>\n",
       "    <tr style=\"text-align: right;\">\n",
       "      <th></th>\n",
       "      <th>Id</th>\n",
       "      <th>Store</th>\n",
       "      <th>DayOfWeek</th>\n",
       "      <th>Date</th>\n",
       "      <th>Open</th>\n",
       "      <th>Promo</th>\n",
       "      <th>StateHoliday</th>\n",
       "      <th>SchoolHoliday</th>\n",
       "    </tr>\n",
       "  </thead>\n",
       "  <tbody>\n",
       "    <tr>\n",
       "      <th>0</th>\n",
       "      <td>1</td>\n",
       "      <td>1</td>\n",
       "      <td>4</td>\n",
       "      <td>2015-09-17</td>\n",
       "      <td>1</td>\n",
       "      <td>1</td>\n",
       "      <td>0</td>\n",
       "      <td>0</td>\n",
       "    </tr>\n",
       "    <tr>\n",
       "      <th>1</th>\n",
       "      <td>2</td>\n",
       "      <td>3</td>\n",
       "      <td>4</td>\n",
       "      <td>2015-09-17</td>\n",
       "      <td>1</td>\n",
       "      <td>1</td>\n",
       "      <td>0</td>\n",
       "      <td>0</td>\n",
       "    </tr>\n",
       "    <tr>\n",
       "      <th>2</th>\n",
       "      <td>3</td>\n",
       "      <td>7</td>\n",
       "      <td>4</td>\n",
       "      <td>2015-09-17</td>\n",
       "      <td>1</td>\n",
       "      <td>1</td>\n",
       "      <td>0</td>\n",
       "      <td>0</td>\n",
       "    </tr>\n",
       "    <tr>\n",
       "      <th>3</th>\n",
       "      <td>4</td>\n",
       "      <td>8</td>\n",
       "      <td>4</td>\n",
       "      <td>2015-09-17</td>\n",
       "      <td>1</td>\n",
       "      <td>1</td>\n",
       "      <td>0</td>\n",
       "      <td>0</td>\n",
       "    </tr>\n",
       "    <tr>\n",
       "      <th>4</th>\n",
       "      <td>5</td>\n",
       "      <td>9</td>\n",
       "      <td>4</td>\n",
       "      <td>2015-09-17</td>\n",
       "      <td>1</td>\n",
       "      <td>1</td>\n",
       "      <td>0</td>\n",
       "      <td>0</td>\n",
       "    </tr>\n",
       "  </tbody>\n",
       "</table>\n",
       "</div>"
      ],
      "text/plain": [
       "   Id  Store  DayOfWeek        Date  Open  Promo  StateHoliday  SchoolHoliday\n",
       "0   1      1          4  2015-09-17     1      1             0              0\n",
       "1   2      3          4  2015-09-17     1      1             0              0\n",
       "2   3      7          4  2015-09-17     1      1             0              0\n",
       "3   4      8          4  2015-09-17     1      1             0              0\n",
       "4   5      9          4  2015-09-17     1      1             0              0"
      ]
     },
     "execution_count": 35,
     "metadata": {},
     "output_type": "execute_result"
    }
   ],
   "source": [
    "# head\n",
    "testdf.head()"
   ]
  },
  {
   "cell_type": "markdown",
   "metadata": {},
   "source": [
    "#### shape of the data"
   ]
  },
  {
   "cell_type": "code",
   "execution_count": 36,
   "metadata": {},
   "outputs": [
    {
     "name": "stdout",
     "output_type": "stream",
     "text": [
      "(41088, 8)\n"
     ]
    }
   ],
   "source": [
    "# shape\n",
    "print(testdf.shape)"
   ]
  },
  {
   "cell_type": "markdown",
   "metadata": {},
   "source": [
    "#### types of the column"
   ]
  },
  {
   "cell_type": "code",
   "execution_count": 37,
   "metadata": {},
   "outputs": [
    {
     "name": "stdout",
     "output_type": "stream",
     "text": [
      "Id                int64\n",
      "Store             int64\n",
      "DayOfWeek         int64\n",
      "Date             object\n",
      "Open              int64\n",
      "Promo             int64\n",
      "StateHoliday      int64\n",
      "SchoolHoliday     int64\n",
      "dtype: object\n"
     ]
    }
   ],
   "source": [
    "# types\n",
    "print(testdf.dtypes)"
   ]
  },
  {
   "cell_type": "markdown",
   "metadata": {},
   "source": [
    "#### descriptions of the data"
   ]
  },
  {
   "cell_type": "code",
   "execution_count": 38,
   "metadata": {},
   "outputs": [
    {
     "data": {
      "text/html": [
       "<div>\n",
       "<style scoped>\n",
       "    .dataframe tbody tr th:only-of-type {\n",
       "        vertical-align: middle;\n",
       "    }\n",
       "\n",
       "    .dataframe tbody tr th {\n",
       "        vertical-align: top;\n",
       "    }\n",
       "\n",
       "    .dataframe thead th {\n",
       "        text-align: right;\n",
       "    }\n",
       "</style>\n",
       "<table border=\"1\" class=\"dataframe\">\n",
       "  <thead>\n",
       "    <tr style=\"text-align: right;\">\n",
       "      <th></th>\n",
       "      <th>Id</th>\n",
       "      <th>Store</th>\n",
       "      <th>DayOfWeek</th>\n",
       "      <th>Open</th>\n",
       "      <th>Promo</th>\n",
       "      <th>StateHoliday</th>\n",
       "      <th>SchoolHoliday</th>\n",
       "    </tr>\n",
       "  </thead>\n",
       "  <tbody>\n",
       "    <tr>\n",
       "      <th>count</th>\n",
       "      <td>41088.000000</td>\n",
       "      <td>41088.000000</td>\n",
       "      <td>41088.000000</td>\n",
       "      <td>41088.000000</td>\n",
       "      <td>41088.000000</td>\n",
       "      <td>41088.000000</td>\n",
       "      <td>41088.000000</td>\n",
       "    </tr>\n",
       "    <tr>\n",
       "      <th>mean</th>\n",
       "      <td>20544.500000</td>\n",
       "      <td>555.899533</td>\n",
       "      <td>3.979167</td>\n",
       "      <td>0.854361</td>\n",
       "      <td>0.395833</td>\n",
       "      <td>0.004381</td>\n",
       "      <td>0.443487</td>\n",
       "    </tr>\n",
       "    <tr>\n",
       "      <th>std</th>\n",
       "      <td>11861.228267</td>\n",
       "      <td>320.274496</td>\n",
       "      <td>2.015481</td>\n",
       "      <td>0.352748</td>\n",
       "      <td>0.489035</td>\n",
       "      <td>0.066044</td>\n",
       "      <td>0.496802</td>\n",
       "    </tr>\n",
       "    <tr>\n",
       "      <th>min</th>\n",
       "      <td>1.000000</td>\n",
       "      <td>1.000000</td>\n",
       "      <td>1.000000</td>\n",
       "      <td>0.000000</td>\n",
       "      <td>0.000000</td>\n",
       "      <td>0.000000</td>\n",
       "      <td>0.000000</td>\n",
       "    </tr>\n",
       "    <tr>\n",
       "      <th>25%</th>\n",
       "      <td>10272.750000</td>\n",
       "      <td>279.750000</td>\n",
       "      <td>2.000000</td>\n",
       "      <td>1.000000</td>\n",
       "      <td>0.000000</td>\n",
       "      <td>0.000000</td>\n",
       "      <td>0.000000</td>\n",
       "    </tr>\n",
       "    <tr>\n",
       "      <th>50%</th>\n",
       "      <td>20544.500000</td>\n",
       "      <td>553.500000</td>\n",
       "      <td>4.000000</td>\n",
       "      <td>1.000000</td>\n",
       "      <td>0.000000</td>\n",
       "      <td>0.000000</td>\n",
       "      <td>0.000000</td>\n",
       "    </tr>\n",
       "    <tr>\n",
       "      <th>75%</th>\n",
       "      <td>30816.250000</td>\n",
       "      <td>832.250000</td>\n",
       "      <td>6.000000</td>\n",
       "      <td>1.000000</td>\n",
       "      <td>1.000000</td>\n",
       "      <td>0.000000</td>\n",
       "      <td>1.000000</td>\n",
       "    </tr>\n",
       "    <tr>\n",
       "      <th>max</th>\n",
       "      <td>41088.000000</td>\n",
       "      <td>1115.000000</td>\n",
       "      <td>7.000000</td>\n",
       "      <td>1.000000</td>\n",
       "      <td>1.000000</td>\n",
       "      <td>1.000000</td>\n",
       "      <td>1.000000</td>\n",
       "    </tr>\n",
       "  </tbody>\n",
       "</table>\n",
       "</div>"
      ],
      "text/plain": [
       "                 Id         Store     DayOfWeek          Open         Promo  \\\n",
       "count  41088.000000  41088.000000  41088.000000  41088.000000  41088.000000   \n",
       "mean   20544.500000    555.899533      3.979167      0.854361      0.395833   \n",
       "std    11861.228267    320.274496      2.015481      0.352748      0.489035   \n",
       "min        1.000000      1.000000      1.000000      0.000000      0.000000   \n",
       "25%    10272.750000    279.750000      2.000000      1.000000      0.000000   \n",
       "50%    20544.500000    553.500000      4.000000      1.000000      0.000000   \n",
       "75%    30816.250000    832.250000      6.000000      1.000000      1.000000   \n",
       "max    41088.000000   1115.000000      7.000000      1.000000      1.000000   \n",
       "\n",
       "       StateHoliday  SchoolHoliday  \n",
       "count  41088.000000   41088.000000  \n",
       "mean       0.004381       0.443487  \n",
       "std        0.066044       0.496802  \n",
       "min        0.000000       0.000000  \n",
       "25%        0.000000       0.000000  \n",
       "50%        0.000000       0.000000  \n",
       "75%        0.000000       1.000000  \n",
       "max        1.000000       1.000000  "
      ]
     },
     "execution_count": 38,
     "metadata": {},
     "output_type": "execute_result"
    }
   ],
   "source": [
    "# descriptions\n",
    "testdf.describe()\n"
   ]
  },
  {
   "cell_type": "markdown",
   "metadata": {},
   "source": [
    "#### description of the data"
   ]
  },
  {
   "cell_type": "code",
   "execution_count": 39,
   "metadata": {},
   "outputs": [
    {
     "data": {
      "text/html": [
       "<div>\n",
       "<style scoped>\n",
       "    .dataframe tbody tr th:only-of-type {\n",
       "        vertical-align: middle;\n",
       "    }\n",
       "\n",
       "    .dataframe tbody tr th {\n",
       "        vertical-align: top;\n",
       "    }\n",
       "\n",
       "    .dataframe thead th {\n",
       "        text-align: right;\n",
       "    }\n",
       "</style>\n",
       "<table border=\"1\" class=\"dataframe\">\n",
       "  <thead>\n",
       "    <tr style=\"text-align: right;\">\n",
       "      <th></th>\n",
       "      <th>Date</th>\n",
       "    </tr>\n",
       "  </thead>\n",
       "  <tbody>\n",
       "    <tr>\n",
       "      <th>count</th>\n",
       "      <td>41088</td>\n",
       "    </tr>\n",
       "    <tr>\n",
       "      <th>unique</th>\n",
       "      <td>48</td>\n",
       "    </tr>\n",
       "    <tr>\n",
       "      <th>top</th>\n",
       "      <td>2015-09-17</td>\n",
       "    </tr>\n",
       "    <tr>\n",
       "      <th>freq</th>\n",
       "      <td>856</td>\n",
       "    </tr>\n",
       "  </tbody>\n",
       "</table>\n",
       "</div>"
      ],
      "text/plain": [
       "              Date\n",
       "count        41088\n",
       "unique          48\n",
       "top     2015-09-17\n",
       "freq           856"
      ]
     },
     "execution_count": 39,
     "metadata": {},
     "output_type": "execute_result"
    }
   ],
   "source": [
    "# descriptions\n",
    "testdf.describe(include = 'object')\n"
   ]
  },
  {
   "cell_type": "markdown",
   "metadata": {},
   "source": [
    "#### Check for missing entries"
   ]
  },
  {
   "cell_type": "code",
   "execution_count": 40,
   "metadata": {},
   "outputs": [
    {
     "data": {
      "text/html": [
       "<div>\n",
       "<style scoped>\n",
       "    .dataframe tbody tr th:only-of-type {\n",
       "        vertical-align: middle;\n",
       "    }\n",
       "\n",
       "    .dataframe tbody tr th {\n",
       "        vertical-align: top;\n",
       "    }\n",
       "\n",
       "    .dataframe thead th {\n",
       "        text-align: right;\n",
       "    }\n",
       "</style>\n",
       "<table border=\"1\" class=\"dataframe\">\n",
       "  <thead>\n",
       "    <tr style=\"text-align: right;\">\n",
       "      <th></th>\n",
       "      <th>Total</th>\n",
       "      <th>Percent</th>\n",
       "    </tr>\n",
       "  </thead>\n",
       "  <tbody>\n",
       "    <tr>\n",
       "      <th>Id</th>\n",
       "      <td>0</td>\n",
       "      <td>0.0</td>\n",
       "    </tr>\n",
       "    <tr>\n",
       "      <th>Store</th>\n",
       "      <td>0</td>\n",
       "      <td>0.0</td>\n",
       "    </tr>\n",
       "    <tr>\n",
       "      <th>DayOfWeek</th>\n",
       "      <td>0</td>\n",
       "      <td>0.0</td>\n",
       "    </tr>\n",
       "    <tr>\n",
       "      <th>Date</th>\n",
       "      <td>0</td>\n",
       "      <td>0.0</td>\n",
       "    </tr>\n",
       "    <tr>\n",
       "      <th>Open</th>\n",
       "      <td>0</td>\n",
       "      <td>0.0</td>\n",
       "    </tr>\n",
       "    <tr>\n",
       "      <th>Promo</th>\n",
       "      <td>0</td>\n",
       "      <td>0.0</td>\n",
       "    </tr>\n",
       "    <tr>\n",
       "      <th>StateHoliday</th>\n",
       "      <td>0</td>\n",
       "      <td>0.0</td>\n",
       "    </tr>\n",
       "    <tr>\n",
       "      <th>SchoolHoliday</th>\n",
       "      <td>0</td>\n",
       "      <td>0.0</td>\n",
       "    </tr>\n",
       "  </tbody>\n",
       "</table>\n",
       "</div>"
      ],
      "text/plain": [
       "               Total  Percent\n",
       "Id                 0      0.0\n",
       "Store              0      0.0\n",
       "DayOfWeek          0      0.0\n",
       "Date               0      0.0\n",
       "Open               0      0.0\n",
       "Promo              0      0.0\n",
       "StateHoliday       0      0.0\n",
       "SchoolHoliday      0      0.0"
      ]
     },
     "execution_count": 40,
     "metadata": {},
     "output_type": "execute_result"
    }
   ],
   "source": [
    "# Check for missing entries\n",
    "total = testdf.isnull().sum().sort_values(ascending=False)\n",
    "percent=(testdf.isnull().sum()*100/len(testdf)).sort_values(ascending=False)\n",
    "missing_data = pd.concat([total, percent], axis=1,keys=['Total', 'Percent'])\n",
    "missing_data.head(20)"
   ]
  },
  {
   "cell_type": "markdown",
   "metadata": {},
   "source": [
    "#### Check duplicate rows"
   ]
  },
  {
   "cell_type": "code",
   "execution_count": 41,
   "metadata": {},
   "outputs": [
    {
     "name": "stdout",
     "output_type": "stream",
     "text": [
      "False\n"
     ]
    }
   ],
   "source": [
    "# locate rows of duplicate data\n",
    "\n",
    "# calculate duplicates\n",
    "dups = testdf.duplicated()\n",
    "# report if there are any duplicates\n",
    "print(dups.any())"
   ]
  },
  {
   "cell_type": "markdown",
   "metadata": {},
   "source": [
    "## Data Cleaning : Testdf"
   ]
  },
  {
   "cell_type": "markdown",
   "metadata": {},
   "source": [
    "#### check for null entries "
   ]
  },
  {
   "cell_type": "code",
   "execution_count": 42,
   "metadata": {},
   "outputs": [
    {
     "data": {
      "text/plain": [
       "Open\n",
       "0     5984\n",
       "1    35104\n",
       "dtype: int64"
      ]
     },
     "execution_count": 42,
     "metadata": {},
     "output_type": "execute_result"
    }
   ],
   "source": [
    "# check for null entries \n",
    "testdf.groupby('Open',dropna= False).size()"
   ]
  },
  {
   "cell_type": "markdown",
   "metadata": {},
   "source": [
    "#### Replace null entries with 1.0"
   ]
  },
  {
   "cell_type": "code",
   "execution_count": 43,
   "metadata": {},
   "outputs": [
    {
     "data": {
      "text/plain": [
       "Open\n",
       "0     5984\n",
       "1    35104\n",
       "dtype: int64"
      ]
     },
     "execution_count": 43,
     "metadata": {},
     "output_type": "execute_result"
    }
   ],
   "source": [
    "# Replace null entries with 1.0\n",
    "testdf['Open'] = testdf['Open'].fillna((1.0))\n",
    "testdf.groupby('Open',dropna= False).size()"
   ]
  },
  {
   "cell_type": "markdown",
   "metadata": {},
   "source": [
    "#### conversion of types"
   ]
  },
  {
   "cell_type": "code",
   "execution_count": 44,
   "metadata": {},
   "outputs": [
    {
     "name": "stdout",
     "output_type": "stream",
     "text": [
      "Id                int64\n",
      "Store             int64\n",
      "DayOfWeek         int64\n",
      "Date             object\n",
      "Open              int64\n",
      "Promo             int64\n",
      "StateHoliday      int64\n",
      "SchoolHoliday     int64\n",
      "dtype: object\n"
     ]
    }
   ],
   "source": [
    "#conversion of types\n",
    "testdf['Open'] = testdf['Open'].astype('int64')\n",
    "# types\n",
    "print(testdf.dtypes)"
   ]
  },
  {
   "cell_type": "markdown",
   "metadata": {},
   "source": [
    "#### check for null entries "
   ]
  },
  {
   "cell_type": "code",
   "execution_count": 45,
   "metadata": {},
   "outputs": [
    {
     "data": {
      "text/plain": [
       "StateHoliday\n",
       "0    40908\n",
       "1      180\n",
       "dtype: int64"
      ]
     },
     "execution_count": 45,
     "metadata": {},
     "output_type": "execute_result"
    }
   ],
   "source": [
    "# check for null entries \n",
    "testdf.groupby('StateHoliday',dropna= False).size()"
   ]
  },
  {
   "cell_type": "markdown",
   "metadata": {},
   "source": [
    "#### replace categories value with numeric values"
   ]
  },
  {
   "cell_type": "code",
   "execution_count": 46,
   "metadata": {},
   "outputs": [
    {
     "data": {
      "text/plain": [
       "StateHoliday\n",
       "0    40908\n",
       "1      180\n",
       "dtype: int64"
      ]
     },
     "execution_count": 46,
     "metadata": {},
     "output_type": "execute_result"
    }
   ],
   "source": [
    "# replace categories value with numeric values\n",
    "testdf['StateHoliday'] = testdf['StateHoliday'].replace({'a' : 1})\n",
    "testdf.groupby('StateHoliday',dropna= False).size()"
   ]
  },
  {
   "cell_type": "markdown",
   "metadata": {},
   "source": [
    "#### conversion of types"
   ]
  },
  {
   "cell_type": "code",
   "execution_count": 47,
   "metadata": {},
   "outputs": [
    {
     "name": "stdout",
     "output_type": "stream",
     "text": [
      "Id                int64\n",
      "Store             int64\n",
      "DayOfWeek         int64\n",
      "Date             object\n",
      "Open              int64\n",
      "Promo             int64\n",
      "StateHoliday      int64\n",
      "SchoolHoliday     int64\n",
      "dtype: object\n"
     ]
    }
   ],
   "source": [
    "#conversion of types\n",
    "testdf['StateHoliday'] = testdf['StateHoliday'].astype('int64')\n",
    "# types\n",
    "print(testdf.dtypes)"
   ]
  },
  {
   "cell_type": "markdown",
   "metadata": {},
   "source": [
    "#### Conversion To DateTime"
   ]
  },
  {
   "cell_type": "code",
   "execution_count": 48,
   "metadata": {},
   "outputs": [],
   "source": [
    "testdf['Date'] = pd.to_datetime(testdf['Date'])"
   ]
  },
  {
   "cell_type": "markdown",
   "metadata": {},
   "source": [
    "#### Create time-based features"
   ]
  },
  {
   "cell_type": "code",
   "execution_count": 49,
   "metadata": {},
   "outputs": [],
   "source": [
    "# Create time-based features\n",
    "testdf[\"Year\"] = testdf[\"Date\"].dt.year\n",
    "testdf[\"Month\"] = testdf[\"Date\"].dt.month\n",
    "testdf[\"WeekOfYear\"] = testdf[\"Date\"].dt.isocalendar().week\n",
    "testdf[\"IsWeekend\"] = testdf[\"DayOfWeek\"].apply(lambda x: 1 if x >= 5 else 0)  # 1 = Weekend\n",
    "testdf[\"Season\"] = testdf[\"Month\"].map({1: \"winter\", 2: \"winter\", 3: \"spring\", 4: \"spring\", 5: \"spring\", 6: \"summer\", 7: \"summer\", 8: \"summer\", 9: \"fall\", 10: \"fall\", 11: \"fall\", 12: \"winter\"})\n"
   ]
  },
  {
   "cell_type": "markdown",
   "metadata": {},
   "source": [
    "# Merge Test and Store Data"
   ]
  },
  {
   "cell_type": "code",
   "execution_count": 50,
   "metadata": {},
   "outputs": [
    {
     "data": {
      "text/html": [
       "<div>\n",
       "<style scoped>\n",
       "    .dataframe tbody tr th:only-of-type {\n",
       "        vertical-align: middle;\n",
       "    }\n",
       "\n",
       "    .dataframe tbody tr th {\n",
       "        vertical-align: top;\n",
       "    }\n",
       "\n",
       "    .dataframe thead th {\n",
       "        text-align: right;\n",
       "    }\n",
       "</style>\n",
       "<table border=\"1\" class=\"dataframe\">\n",
       "  <thead>\n",
       "    <tr style=\"text-align: right;\">\n",
       "      <th></th>\n",
       "      <th>Id</th>\n",
       "      <th>Store</th>\n",
       "      <th>DayOfWeek</th>\n",
       "      <th>Date</th>\n",
       "      <th>Open</th>\n",
       "      <th>Promo</th>\n",
       "      <th>StateHoliday</th>\n",
       "      <th>SchoolHoliday</th>\n",
       "      <th>Year</th>\n",
       "      <th>Month</th>\n",
       "      <th>WeekOfYear</th>\n",
       "      <th>IsWeekend</th>\n",
       "      <th>Season</th>\n",
       "      <th>StoreType</th>\n",
       "      <th>CompetitionDistance</th>\n",
       "      <th>CompetitionOpenSinceMonth</th>\n",
       "      <th>Promo2</th>\n",
       "      <th>Promo2SinceWeek</th>\n",
       "      <th>StoreType_Int</th>\n",
       "      <th>Assortment_Int</th>\n",
       "      <th>PromoInterval_int</th>\n",
       "      <th>StoreType_01</th>\n",
       "    </tr>\n",
       "  </thead>\n",
       "  <tbody>\n",
       "    <tr>\n",
       "      <th>0</th>\n",
       "      <td>1</td>\n",
       "      <td>1</td>\n",
       "      <td>4</td>\n",
       "      <td>2015-09-17</td>\n",
       "      <td>1</td>\n",
       "      <td>1</td>\n",
       "      <td>0</td>\n",
       "      <td>0</td>\n",
       "      <td>2015</td>\n",
       "      <td>9</td>\n",
       "      <td>38</td>\n",
       "      <td>0</td>\n",
       "      <td>fall</td>\n",
       "      <td>c</td>\n",
       "      <td>1270</td>\n",
       "      <td>9</td>\n",
       "      <td>0</td>\n",
       "      <td>0</td>\n",
       "      <td>3</td>\n",
       "      <td>1</td>\n",
       "      <td>0</td>\n",
       "      <td>2</td>\n",
       "    </tr>\n",
       "    <tr>\n",
       "      <th>1</th>\n",
       "      <td>2</td>\n",
       "      <td>3</td>\n",
       "      <td>4</td>\n",
       "      <td>2015-09-17</td>\n",
       "      <td>1</td>\n",
       "      <td>1</td>\n",
       "      <td>0</td>\n",
       "      <td>0</td>\n",
       "      <td>2015</td>\n",
       "      <td>9</td>\n",
       "      <td>38</td>\n",
       "      <td>0</td>\n",
       "      <td>fall</td>\n",
       "      <td>a</td>\n",
       "      <td>14130</td>\n",
       "      <td>12</td>\n",
       "      <td>1</td>\n",
       "      <td>14</td>\n",
       "      <td>1</td>\n",
       "      <td>1</td>\n",
       "      <td>1</td>\n",
       "      <td>0</td>\n",
       "    </tr>\n",
       "    <tr>\n",
       "      <th>2</th>\n",
       "      <td>3</td>\n",
       "      <td>7</td>\n",
       "      <td>4</td>\n",
       "      <td>2015-09-17</td>\n",
       "      <td>1</td>\n",
       "      <td>1</td>\n",
       "      <td>0</td>\n",
       "      <td>0</td>\n",
       "      <td>2015</td>\n",
       "      <td>9</td>\n",
       "      <td>38</td>\n",
       "      <td>0</td>\n",
       "      <td>fall</td>\n",
       "      <td>a</td>\n",
       "      <td>24000</td>\n",
       "      <td>4</td>\n",
       "      <td>0</td>\n",
       "      <td>0</td>\n",
       "      <td>1</td>\n",
       "      <td>3</td>\n",
       "      <td>0</td>\n",
       "      <td>0</td>\n",
       "    </tr>\n",
       "    <tr>\n",
       "      <th>3</th>\n",
       "      <td>4</td>\n",
       "      <td>8</td>\n",
       "      <td>4</td>\n",
       "      <td>2015-09-17</td>\n",
       "      <td>1</td>\n",
       "      <td>1</td>\n",
       "      <td>0</td>\n",
       "      <td>0</td>\n",
       "      <td>2015</td>\n",
       "      <td>9</td>\n",
       "      <td>38</td>\n",
       "      <td>0</td>\n",
       "      <td>fall</td>\n",
       "      <td>a</td>\n",
       "      <td>7520</td>\n",
       "      <td>10</td>\n",
       "      <td>0</td>\n",
       "      <td>0</td>\n",
       "      <td>1</td>\n",
       "      <td>1</td>\n",
       "      <td>0</td>\n",
       "      <td>0</td>\n",
       "    </tr>\n",
       "    <tr>\n",
       "      <th>4</th>\n",
       "      <td>5</td>\n",
       "      <td>9</td>\n",
       "      <td>4</td>\n",
       "      <td>2015-09-17</td>\n",
       "      <td>1</td>\n",
       "      <td>1</td>\n",
       "      <td>0</td>\n",
       "      <td>0</td>\n",
       "      <td>2015</td>\n",
       "      <td>9</td>\n",
       "      <td>38</td>\n",
       "      <td>0</td>\n",
       "      <td>fall</td>\n",
       "      <td>a</td>\n",
       "      <td>2030</td>\n",
       "      <td>8</td>\n",
       "      <td>0</td>\n",
       "      <td>0</td>\n",
       "      <td>1</td>\n",
       "      <td>3</td>\n",
       "      <td>0</td>\n",
       "      <td>0</td>\n",
       "    </tr>\n",
       "  </tbody>\n",
       "</table>\n",
       "</div>"
      ],
      "text/plain": [
       "   Id  Store  DayOfWeek       Date  Open  Promo  StateHoliday  SchoolHoliday  \\\n",
       "0   1      1          4 2015-09-17     1      1             0              0   \n",
       "1   2      3          4 2015-09-17     1      1             0              0   \n",
       "2   3      7          4 2015-09-17     1      1             0              0   \n",
       "3   4      8          4 2015-09-17     1      1             0              0   \n",
       "4   5      9          4 2015-09-17     1      1             0              0   \n",
       "\n",
       "   Year  Month  WeekOfYear  IsWeekend Season StoreType  CompetitionDistance  \\\n",
       "0  2015      9          38          0   fall         c                 1270   \n",
       "1  2015      9          38          0   fall         a                14130   \n",
       "2  2015      9          38          0   fall         a                24000   \n",
       "3  2015      9          38          0   fall         a                 7520   \n",
       "4  2015      9          38          0   fall         a                 2030   \n",
       "\n",
       "   CompetitionOpenSinceMonth  Promo2  Promo2SinceWeek  StoreType_Int  \\\n",
       "0                          9       0                0              3   \n",
       "1                         12       1               14              1   \n",
       "2                          4       0                0              1   \n",
       "3                         10       0                0              1   \n",
       "4                          8       0                0              1   \n",
       "\n",
       "   Assortment_Int  PromoInterval_int  StoreType_01  \n",
       "0               1                  0             2  \n",
       "1               1                  1             0  \n",
       "2               3                  0             0  \n",
       "3               1                  0             0  \n",
       "4               3                  0             0  "
      ]
     },
     "execution_count": 50,
     "metadata": {},
     "output_type": "execute_result"
    }
   ],
   "source": [
    "# Merge train and store data\n",
    "test_store_df = testdf.merge(storedf, on=\"Store\", how=\"left\")\n",
    "test_store_df.head()"
   ]
  },
  {
   "cell_type": "code",
   "execution_count": 51,
   "metadata": {},
   "outputs": [],
   "source": [
    "test_store_df['Sales_Lag_7'] = train_store_df['Sales_Lag_7'].median()\n",
    "test_store_df['Sales_Lag_30'] = train_store_df['Sales_Lag_30'].median()\n",
    "test_store_df['Sales_MA_7'] = train_store_df['Sales_MA_7'].median()"
   ]
  },
  {
   "cell_type": "code",
   "execution_count": 52,
   "metadata": {},
   "outputs": [
    {
     "data": {
      "text/html": [
       "<div>\n",
       "<style scoped>\n",
       "    .dataframe tbody tr th:only-of-type {\n",
       "        vertical-align: middle;\n",
       "    }\n",
       "\n",
       "    .dataframe tbody tr th {\n",
       "        vertical-align: top;\n",
       "    }\n",
       "\n",
       "    .dataframe thead th {\n",
       "        text-align: right;\n",
       "    }\n",
       "</style>\n",
       "<table border=\"1\" class=\"dataframe\">\n",
       "  <thead>\n",
       "    <tr style=\"text-align: right;\">\n",
       "      <th></th>\n",
       "      <th>Id</th>\n",
       "      <th>Store</th>\n",
       "      <th>DayOfWeek</th>\n",
       "      <th>Date</th>\n",
       "      <th>Open</th>\n",
       "      <th>Promo</th>\n",
       "      <th>StateHoliday</th>\n",
       "      <th>SchoolHoliday</th>\n",
       "      <th>Year</th>\n",
       "      <th>Month</th>\n",
       "      <th>WeekOfYear</th>\n",
       "      <th>IsWeekend</th>\n",
       "      <th>Season</th>\n",
       "      <th>StoreType</th>\n",
       "      <th>CompetitionDistance</th>\n",
       "      <th>CompetitionOpenSinceMonth</th>\n",
       "      <th>Promo2</th>\n",
       "      <th>Promo2SinceWeek</th>\n",
       "      <th>StoreType_Int</th>\n",
       "      <th>Assortment_Int</th>\n",
       "      <th>PromoInterval_int</th>\n",
       "      <th>StoreType_01</th>\n",
       "      <th>Sales_Lag_7</th>\n",
       "      <th>Sales_Lag_30</th>\n",
       "      <th>Sales_MA_7</th>\n",
       "    </tr>\n",
       "  </thead>\n",
       "  <tbody>\n",
       "    <tr>\n",
       "      <th>0</th>\n",
       "      <td>1</td>\n",
       "      <td>1</td>\n",
       "      <td>4</td>\n",
       "      <td>2015-09-17</td>\n",
       "      <td>1</td>\n",
       "      <td>1</td>\n",
       "      <td>0</td>\n",
       "      <td>0</td>\n",
       "      <td>2015</td>\n",
       "      <td>9</td>\n",
       "      <td>38</td>\n",
       "      <td>0</td>\n",
       "      <td>fall</td>\n",
       "      <td>c</td>\n",
       "      <td>1270</td>\n",
       "      <td>9</td>\n",
       "      <td>0</td>\n",
       "      <td>0</td>\n",
       "      <td>3</td>\n",
       "      <td>1</td>\n",
       "      <td>0</td>\n",
       "      <td>2</td>\n",
       "      <td>6243.0</td>\n",
       "      <td>6266.0</td>\n",
       "      <td>6383.142857</td>\n",
       "    </tr>\n",
       "    <tr>\n",
       "      <th>1</th>\n",
       "      <td>2</td>\n",
       "      <td>3</td>\n",
       "      <td>4</td>\n",
       "      <td>2015-09-17</td>\n",
       "      <td>1</td>\n",
       "      <td>1</td>\n",
       "      <td>0</td>\n",
       "      <td>0</td>\n",
       "      <td>2015</td>\n",
       "      <td>9</td>\n",
       "      <td>38</td>\n",
       "      <td>0</td>\n",
       "      <td>fall</td>\n",
       "      <td>a</td>\n",
       "      <td>14130</td>\n",
       "      <td>12</td>\n",
       "      <td>1</td>\n",
       "      <td>14</td>\n",
       "      <td>1</td>\n",
       "      <td>1</td>\n",
       "      <td>1</td>\n",
       "      <td>0</td>\n",
       "      <td>6243.0</td>\n",
       "      <td>6266.0</td>\n",
       "      <td>6383.142857</td>\n",
       "    </tr>\n",
       "    <tr>\n",
       "      <th>2</th>\n",
       "      <td>3</td>\n",
       "      <td>7</td>\n",
       "      <td>4</td>\n",
       "      <td>2015-09-17</td>\n",
       "      <td>1</td>\n",
       "      <td>1</td>\n",
       "      <td>0</td>\n",
       "      <td>0</td>\n",
       "      <td>2015</td>\n",
       "      <td>9</td>\n",
       "      <td>38</td>\n",
       "      <td>0</td>\n",
       "      <td>fall</td>\n",
       "      <td>a</td>\n",
       "      <td>24000</td>\n",
       "      <td>4</td>\n",
       "      <td>0</td>\n",
       "      <td>0</td>\n",
       "      <td>1</td>\n",
       "      <td>3</td>\n",
       "      <td>0</td>\n",
       "      <td>0</td>\n",
       "      <td>6243.0</td>\n",
       "      <td>6266.0</td>\n",
       "      <td>6383.142857</td>\n",
       "    </tr>\n",
       "    <tr>\n",
       "      <th>3</th>\n",
       "      <td>4</td>\n",
       "      <td>8</td>\n",
       "      <td>4</td>\n",
       "      <td>2015-09-17</td>\n",
       "      <td>1</td>\n",
       "      <td>1</td>\n",
       "      <td>0</td>\n",
       "      <td>0</td>\n",
       "      <td>2015</td>\n",
       "      <td>9</td>\n",
       "      <td>38</td>\n",
       "      <td>0</td>\n",
       "      <td>fall</td>\n",
       "      <td>a</td>\n",
       "      <td>7520</td>\n",
       "      <td>10</td>\n",
       "      <td>0</td>\n",
       "      <td>0</td>\n",
       "      <td>1</td>\n",
       "      <td>1</td>\n",
       "      <td>0</td>\n",
       "      <td>0</td>\n",
       "      <td>6243.0</td>\n",
       "      <td>6266.0</td>\n",
       "      <td>6383.142857</td>\n",
       "    </tr>\n",
       "    <tr>\n",
       "      <th>4</th>\n",
       "      <td>5</td>\n",
       "      <td>9</td>\n",
       "      <td>4</td>\n",
       "      <td>2015-09-17</td>\n",
       "      <td>1</td>\n",
       "      <td>1</td>\n",
       "      <td>0</td>\n",
       "      <td>0</td>\n",
       "      <td>2015</td>\n",
       "      <td>9</td>\n",
       "      <td>38</td>\n",
       "      <td>0</td>\n",
       "      <td>fall</td>\n",
       "      <td>a</td>\n",
       "      <td>2030</td>\n",
       "      <td>8</td>\n",
       "      <td>0</td>\n",
       "      <td>0</td>\n",
       "      <td>1</td>\n",
       "      <td>3</td>\n",
       "      <td>0</td>\n",
       "      <td>0</td>\n",
       "      <td>6243.0</td>\n",
       "      <td>6266.0</td>\n",
       "      <td>6383.142857</td>\n",
       "    </tr>\n",
       "  </tbody>\n",
       "</table>\n",
       "</div>"
      ],
      "text/plain": [
       "   Id  Store  DayOfWeek       Date  Open  Promo  StateHoliday  SchoolHoliday  \\\n",
       "0   1      1          4 2015-09-17     1      1             0              0   \n",
       "1   2      3          4 2015-09-17     1      1             0              0   \n",
       "2   3      7          4 2015-09-17     1      1             0              0   \n",
       "3   4      8          4 2015-09-17     1      1             0              0   \n",
       "4   5      9          4 2015-09-17     1      1             0              0   \n",
       "\n",
       "   Year  Month  WeekOfYear  IsWeekend Season StoreType  CompetitionDistance  \\\n",
       "0  2015      9          38          0   fall         c                 1270   \n",
       "1  2015      9          38          0   fall         a                14130   \n",
       "2  2015      9          38          0   fall         a                24000   \n",
       "3  2015      9          38          0   fall         a                 7520   \n",
       "4  2015      9          38          0   fall         a                 2030   \n",
       "\n",
       "   CompetitionOpenSinceMonth  Promo2  Promo2SinceWeek  StoreType_Int  \\\n",
       "0                          9       0                0              3   \n",
       "1                         12       1               14              1   \n",
       "2                          4       0                0              1   \n",
       "3                         10       0                0              1   \n",
       "4                          8       0                0              1   \n",
       "\n",
       "   Assortment_Int  PromoInterval_int  StoreType_01  Sales_Lag_7  Sales_Lag_30  \\\n",
       "0               1                  0             2       6243.0        6266.0   \n",
       "1               1                  1             0       6243.0        6266.0   \n",
       "2               3                  0             0       6243.0        6266.0   \n",
       "3               1                  0             0       6243.0        6266.0   \n",
       "4               3                  0             0       6243.0        6266.0   \n",
       "\n",
       "    Sales_MA_7  \n",
       "0  6383.142857  \n",
       "1  6383.142857  \n",
       "2  6383.142857  \n",
       "3  6383.142857  \n",
       "4  6383.142857  "
      ]
     },
     "execution_count": 52,
     "metadata": {},
     "output_type": "execute_result"
    }
   ],
   "source": [
    "test_store_df.head()"
   ]
  },
  {
   "cell_type": "code",
   "execution_count": 53,
   "metadata": {},
   "outputs": [],
   "source": [
    "train_store_df.to_csv(\"train_store.csv\",index =False)\n",
    "test_store_df.to_csv(\"test_store.csv\",index =False) "
   ]
  },
  {
   "cell_type": "code",
   "execution_count": null,
   "metadata": {},
   "outputs": [],
   "source": []
  }
 ],
 "metadata": {
  "kernelspec": {
   "display_name": "Python 3 (ipykernel)",
   "language": "python",
   "name": "python3"
  },
  "language_info": {
   "codemirror_mode": {
    "name": "ipython",
    "version": 3
   },
   "file_extension": ".py",
   "mimetype": "text/x-python",
   "name": "python",
   "nbconvert_exporter": "python",
   "pygments_lexer": "ipython3",
   "version": "3.12.7"
  }
 },
 "nbformat": 4,
 "nbformat_minor": 4
}
