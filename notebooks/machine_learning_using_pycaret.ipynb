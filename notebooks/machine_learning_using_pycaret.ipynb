{
 "cells": [
  {
   "cell_type": "markdown",
   "metadata": {},
   "source": [
    "# Import Libraries"
   ]
  },
  {
   "cell_type": "code",
   "execution_count": 145,
   "metadata": {},
   "outputs": [],
   "source": [
    "# Load libraries\n",
    "import numpy as np\n",
    "from matplotlib import pyplot\n",
    "from pycaret.regression import *\n",
    "from pycaret.regression import load_model, predict_model\n",
    "from pandas import set_option\n",
    "set_option('display.max_rows', 500)\n",
    "set_option('display.max_columns', 500)\n",
    "import pandas as pd\n",
    "import matplotlib.pyplot as plt\n",
    "from statsmodels.stats.outliers_influence import variance_inflation_factor\n",
    "from datetime import datetime\n",
    "import pyodbc\n",
    "import os\n",
    "import optuna\n",
    "from pandas.plotting import scatter_matrix\n",
    "from sklearn.preprocessing import StandardScaler,LabelEncoder\n",
    "from sklearn.model_selection import train_test_split\n",
    "from lightgbm import LGBMClassifier\n",
    "from xgboost import XGBClassifier\n",
    "from catboost import CatBoostRegressor\n",
    "from sklearn.metrics import mean_squared_error,mean_absolute_error,r2_score\n",
    "\n",
    "import warnings\n",
    "warnings.filterwarnings(\"ignore\")"
   ]
  },
  {
   "cell_type": "markdown",
   "metadata": {},
   "source": [
    "# Connect to SQL Server"
   ]
  },
  {
   "cell_type": "code",
   "execution_count": 2,
   "metadata": {},
   "outputs": [
    {
     "data": {
      "text/plain": [
       "['SQL Server',\n",
       " 'ODBC Driver 17 for SQL Server',\n",
       " 'SQL Server Native Client RDA 11.0']"
      ]
     },
     "execution_count": 2,
     "metadata": {},
     "output_type": "execute_result"
    }
   ],
   "source": [
    "pyodbc.drivers()"
   ]
  },
  {
   "cell_type": "code",
   "execution_count": 3,
   "metadata": {},
   "outputs": [],
   "source": [
    "connection = pyodbc.connect(\n",
    "\"Driver={ODBC Driver 17 for SQL Server};\"\n",
    "\"Server=DESKTOP-ROTIMI\\SQLEXPRESS;\"\n",
    "\"Database=Rossmann;\"\n",
    "\"Trusted_Connection=yes;\")"
   ]
  },
  {
   "cell_type": "markdown",
   "metadata": {},
   "source": [
    "# load dataset"
   ]
  },
  {
   "cell_type": "markdown",
   "metadata": {},
   "source": [
    "#### Extracting data from SQL Server"
   ]
  },
  {
   "cell_type": "code",
   "execution_count": 4,
   "metadata": {},
   "outputs": [],
   "source": [
    "# View data from SQL Server\n",
    "train = pd.read_sql(\"Select * from [dbo].[train_cleaned]\",connection)\n",
    "test = pd.read_sql(\"Select * from [dbo].[test_cleaned]\",connection)\n",
    "store = pd.read_sql(\"Select * from [dbo].[store_cleaned]\",connection)\n"
   ]
  },
  {
   "cell_type": "raw",
   "metadata": {},
   "source": [
    "Analyze Data\n"
   ]
  },
  {
   "cell_type": "markdown",
   "metadata": {},
   "source": [
    "# Train Table"
   ]
  },
  {
   "cell_type": "markdown",
   "metadata": {},
   "source": [
    "#### View Data"
   ]
  },
  {
   "cell_type": "code",
   "execution_count": 5,
   "metadata": {},
   "outputs": [
    {
     "data": {
      "text/html": [
       "<div>\n",
       "<style scoped>\n",
       "    .dataframe tbody tr th:only-of-type {\n",
       "        vertical-align: middle;\n",
       "    }\n",
       "\n",
       "    .dataframe tbody tr th {\n",
       "        vertical-align: top;\n",
       "    }\n",
       "\n",
       "    .dataframe thead th {\n",
       "        text-align: right;\n",
       "    }\n",
       "</style>\n",
       "<table border=\"1\" class=\"dataframe\">\n",
       "  <thead>\n",
       "    <tr style=\"text-align: right;\">\n",
       "      <th></th>\n",
       "      <th>Store</th>\n",
       "      <th>DayOfWeek</th>\n",
       "      <th>Date</th>\n",
       "      <th>Sales</th>\n",
       "      <th>Customers</th>\n",
       "      <th>Open</th>\n",
       "      <th>Promo</th>\n",
       "      <th>StateHoliday</th>\n",
       "      <th>SchoolHoliday</th>\n",
       "    </tr>\n",
       "  </thead>\n",
       "  <tbody>\n",
       "    <tr>\n",
       "      <th>0</th>\n",
       "      <td>1</td>\n",
       "      <td>5</td>\n",
       "      <td>2015-07-31</td>\n",
       "      <td>5263</td>\n",
       "      <td>555</td>\n",
       "      <td>1</td>\n",
       "      <td>1</td>\n",
       "      <td>0</td>\n",
       "      <td>1</td>\n",
       "    </tr>\n",
       "    <tr>\n",
       "      <th>1</th>\n",
       "      <td>2</td>\n",
       "      <td>5</td>\n",
       "      <td>2015-07-31</td>\n",
       "      <td>6064</td>\n",
       "      <td>625</td>\n",
       "      <td>1</td>\n",
       "      <td>1</td>\n",
       "      <td>0</td>\n",
       "      <td>1</td>\n",
       "    </tr>\n",
       "    <tr>\n",
       "      <th>2</th>\n",
       "      <td>3</td>\n",
       "      <td>5</td>\n",
       "      <td>2015-07-31</td>\n",
       "      <td>8314</td>\n",
       "      <td>821</td>\n",
       "      <td>1</td>\n",
       "      <td>1</td>\n",
       "      <td>0</td>\n",
       "      <td>1</td>\n",
       "    </tr>\n",
       "    <tr>\n",
       "      <th>3</th>\n",
       "      <td>5</td>\n",
       "      <td>5</td>\n",
       "      <td>2015-07-31</td>\n",
       "      <td>4822</td>\n",
       "      <td>559</td>\n",
       "      <td>1</td>\n",
       "      <td>1</td>\n",
       "      <td>0</td>\n",
       "      <td>1</td>\n",
       "    </tr>\n",
       "    <tr>\n",
       "      <th>4</th>\n",
       "      <td>6</td>\n",
       "      <td>5</td>\n",
       "      <td>2015-07-31</td>\n",
       "      <td>5651</td>\n",
       "      <td>589</td>\n",
       "      <td>1</td>\n",
       "      <td>1</td>\n",
       "      <td>0</td>\n",
       "      <td>1</td>\n",
       "    </tr>\n",
       "  </tbody>\n",
       "</table>\n",
       "</div>"
      ],
      "text/plain": [
       "   Store  DayOfWeek        Date  Sales  Customers  Open  Promo  StateHoliday  \\\n",
       "0      1          5  2015-07-31   5263        555     1      1             0   \n",
       "1      2          5  2015-07-31   6064        625     1      1             0   \n",
       "2      3          5  2015-07-31   8314        821     1      1             0   \n",
       "3      5          5  2015-07-31   4822        559     1      1             0   \n",
       "4      6          5  2015-07-31   5651        589     1      1             0   \n",
       "\n",
       "   SchoolHoliday  \n",
       "0              1  \n",
       "1              1  \n",
       "2              1  \n",
       "3              1  \n",
       "4              1  "
      ]
     },
     "execution_count": 5,
     "metadata": {},
     "output_type": "execute_result"
    }
   ],
   "source": [
    "# head\n",
    "train.head()"
   ]
  },
  {
   "cell_type": "code",
   "execution_count": 6,
   "metadata": {},
   "outputs": [
    {
     "data": {
      "text/html": [
       "<div>\n",
       "<style scoped>\n",
       "    .dataframe tbody tr th:only-of-type {\n",
       "        vertical-align: middle;\n",
       "    }\n",
       "\n",
       "    .dataframe tbody tr th {\n",
       "        vertical-align: top;\n",
       "    }\n",
       "\n",
       "    .dataframe thead th {\n",
       "        text-align: right;\n",
       "    }\n",
       "</style>\n",
       "<table border=\"1\" class=\"dataframe\">\n",
       "  <thead>\n",
       "    <tr style=\"text-align: right;\">\n",
       "      <th></th>\n",
       "      <th>Id</th>\n",
       "      <th>Store</th>\n",
       "      <th>DayOfWeek</th>\n",
       "      <th>Date</th>\n",
       "      <th>Open</th>\n",
       "      <th>Promo</th>\n",
       "      <th>StateHoliday</th>\n",
       "      <th>SchoolHoliday</th>\n",
       "    </tr>\n",
       "  </thead>\n",
       "  <tbody>\n",
       "    <tr>\n",
       "      <th>0</th>\n",
       "      <td>1</td>\n",
       "      <td>1</td>\n",
       "      <td>4</td>\n",
       "      <td>2015-09-17</td>\n",
       "      <td>1</td>\n",
       "      <td>1</td>\n",
       "      <td>0</td>\n",
       "      <td>0</td>\n",
       "    </tr>\n",
       "    <tr>\n",
       "      <th>1</th>\n",
       "      <td>2</td>\n",
       "      <td>3</td>\n",
       "      <td>4</td>\n",
       "      <td>2015-09-17</td>\n",
       "      <td>1</td>\n",
       "      <td>1</td>\n",
       "      <td>0</td>\n",
       "      <td>0</td>\n",
       "    </tr>\n",
       "    <tr>\n",
       "      <th>2</th>\n",
       "      <td>3</td>\n",
       "      <td>7</td>\n",
       "      <td>4</td>\n",
       "      <td>2015-09-17</td>\n",
       "      <td>1</td>\n",
       "      <td>1</td>\n",
       "      <td>0</td>\n",
       "      <td>0</td>\n",
       "    </tr>\n",
       "    <tr>\n",
       "      <th>3</th>\n",
       "      <td>4</td>\n",
       "      <td>8</td>\n",
       "      <td>4</td>\n",
       "      <td>2015-09-17</td>\n",
       "      <td>1</td>\n",
       "      <td>1</td>\n",
       "      <td>0</td>\n",
       "      <td>0</td>\n",
       "    </tr>\n",
       "    <tr>\n",
       "      <th>4</th>\n",
       "      <td>5</td>\n",
       "      <td>9</td>\n",
       "      <td>4</td>\n",
       "      <td>2015-09-17</td>\n",
       "      <td>1</td>\n",
       "      <td>1</td>\n",
       "      <td>0</td>\n",
       "      <td>0</td>\n",
       "    </tr>\n",
       "  </tbody>\n",
       "</table>\n",
       "</div>"
      ],
      "text/plain": [
       "   Id  Store  DayOfWeek        Date  Open  Promo  StateHoliday  SchoolHoliday\n",
       "0   1      1          4  2015-09-17     1      1             0              0\n",
       "1   2      3          4  2015-09-17     1      1             0              0\n",
       "2   3      7          4  2015-09-17     1      1             0              0\n",
       "3   4      8          4  2015-09-17     1      1             0              0\n",
       "4   5      9          4  2015-09-17     1      1             0              0"
      ]
     },
     "execution_count": 6,
     "metadata": {},
     "output_type": "execute_result"
    }
   ],
   "source": [
    "# head\n",
    "test.head()"
   ]
  },
  {
   "cell_type": "code",
   "execution_count": 7,
   "metadata": {},
   "outputs": [
    {
     "data": {
      "text/html": [
       "<div>\n",
       "<style scoped>\n",
       "    .dataframe tbody tr th:only-of-type {\n",
       "        vertical-align: middle;\n",
       "    }\n",
       "\n",
       "    .dataframe tbody tr th {\n",
       "        vertical-align: top;\n",
       "    }\n",
       "\n",
       "    .dataframe thead th {\n",
       "        text-align: right;\n",
       "    }\n",
       "</style>\n",
       "<table border=\"1\" class=\"dataframe\">\n",
       "  <thead>\n",
       "    <tr style=\"text-align: right;\">\n",
       "      <th></th>\n",
       "      <th>Store</th>\n",
       "      <th>StoreType</th>\n",
       "      <th>Assortment</th>\n",
       "      <th>CompetitionDistance</th>\n",
       "      <th>CompetitionOpenSinceMonth</th>\n",
       "      <th>CompetitionOpenSinceYear</th>\n",
       "      <th>Promo2</th>\n",
       "      <th>Promo2SinceWeek</th>\n",
       "      <th>Promo2SinceYear</th>\n",
       "      <th>PromoInterval</th>\n",
       "      <th>StoreType_Int</th>\n",
       "      <th>Assortment_Int</th>\n",
       "      <th>PromoInterval_int</th>\n",
       "    </tr>\n",
       "  </thead>\n",
       "  <tbody>\n",
       "    <tr>\n",
       "      <th>0</th>\n",
       "      <td>1</td>\n",
       "      <td>c</td>\n",
       "      <td>a</td>\n",
       "      <td>1270</td>\n",
       "      <td>9</td>\n",
       "      <td>2008</td>\n",
       "      <td>0</td>\n",
       "      <td>0</td>\n",
       "      <td>0</td>\n",
       "      <td>period 0</td>\n",
       "      <td>3</td>\n",
       "      <td>1</td>\n",
       "      <td>0</td>\n",
       "    </tr>\n",
       "    <tr>\n",
       "      <th>1</th>\n",
       "      <td>2</td>\n",
       "      <td>a</td>\n",
       "      <td>a</td>\n",
       "      <td>570</td>\n",
       "      <td>11</td>\n",
       "      <td>2007</td>\n",
       "      <td>1</td>\n",
       "      <td>13</td>\n",
       "      <td>2010</td>\n",
       "      <td>Period 1</td>\n",
       "      <td>1</td>\n",
       "      <td>1</td>\n",
       "      <td>1</td>\n",
       "    </tr>\n",
       "    <tr>\n",
       "      <th>2</th>\n",
       "      <td>3</td>\n",
       "      <td>a</td>\n",
       "      <td>a</td>\n",
       "      <td>14130</td>\n",
       "      <td>12</td>\n",
       "      <td>2006</td>\n",
       "      <td>1</td>\n",
       "      <td>14</td>\n",
       "      <td>2011</td>\n",
       "      <td>Period 1</td>\n",
       "      <td>1</td>\n",
       "      <td>1</td>\n",
       "      <td>1</td>\n",
       "    </tr>\n",
       "    <tr>\n",
       "      <th>3</th>\n",
       "      <td>4</td>\n",
       "      <td>c</td>\n",
       "      <td>c</td>\n",
       "      <td>620</td>\n",
       "      <td>9</td>\n",
       "      <td>2009</td>\n",
       "      <td>0</td>\n",
       "      <td>0</td>\n",
       "      <td>0</td>\n",
       "      <td>period 0</td>\n",
       "      <td>3</td>\n",
       "      <td>3</td>\n",
       "      <td>0</td>\n",
       "    </tr>\n",
       "    <tr>\n",
       "      <th>4</th>\n",
       "      <td>5</td>\n",
       "      <td>a</td>\n",
       "      <td>a</td>\n",
       "      <td>29910</td>\n",
       "      <td>4</td>\n",
       "      <td>2015</td>\n",
       "      <td>0</td>\n",
       "      <td>0</td>\n",
       "      <td>0</td>\n",
       "      <td>period 0</td>\n",
       "      <td>1</td>\n",
       "      <td>1</td>\n",
       "      <td>0</td>\n",
       "    </tr>\n",
       "  </tbody>\n",
       "</table>\n",
       "</div>"
      ],
      "text/plain": [
       "   Store StoreType Assortment  CompetitionDistance  CompetitionOpenSinceMonth  \\\n",
       "0      1         c          a                 1270                          9   \n",
       "1      2         a          a                  570                         11   \n",
       "2      3         a          a                14130                         12   \n",
       "3      4         c          c                  620                          9   \n",
       "4      5         a          a                29910                          4   \n",
       "\n",
       "   CompetitionOpenSinceYear  Promo2  Promo2SinceWeek  Promo2SinceYear  \\\n",
       "0                      2008       0                0                0   \n",
       "1                      2007       1               13             2010   \n",
       "2                      2006       1               14             2011   \n",
       "3                      2009       0                0                0   \n",
       "4                      2015       0                0                0   \n",
       "\n",
       "  PromoInterval  StoreType_Int  Assortment_Int  PromoInterval_int  \n",
       "0      period 0              3               1                  0  \n",
       "1      Period 1              1               1                  1  \n",
       "2      Period 1              1               1                  1  \n",
       "3      period 0              3               3                  0  \n",
       "4      period 0              1               1                  0  "
      ]
     },
     "execution_count": 7,
     "metadata": {},
     "output_type": "execute_result"
    }
   ],
   "source": [
    "# head\n",
    "store.head()"
   ]
  },
  {
   "cell_type": "markdown",
   "metadata": {},
   "source": [
    "#### shape of the data"
   ]
  },
  {
   "cell_type": "code",
   "execution_count": 8,
   "metadata": {},
   "outputs": [
    {
     "name": "stdout",
     "output_type": "stream",
     "text": [
      "(814299, 9)\n"
     ]
    }
   ],
   "source": [
    "# shape\n",
    "print(train.shape)\n"
   ]
  },
  {
   "cell_type": "code",
   "execution_count": 9,
   "metadata": {},
   "outputs": [
    {
     "name": "stdout",
     "output_type": "stream",
     "text": [
      "(41088, 8)\n"
     ]
    }
   ],
   "source": [
    "# shape\n",
    "print(test.shape)"
   ]
  },
  {
   "cell_type": "code",
   "execution_count": 10,
   "metadata": {},
   "outputs": [
    {
     "name": "stdout",
     "output_type": "stream",
     "text": [
      "(1115, 13)\n"
     ]
    }
   ],
   "source": [
    "# shape\n",
    "print(store.shape)\n"
   ]
  },
  {
   "cell_type": "markdown",
   "metadata": {},
   "source": [
    "#### types of the data column"
   ]
  },
  {
   "cell_type": "code",
   "execution_count": 11,
   "metadata": {},
   "outputs": [
    {
     "name": "stdout",
     "output_type": "stream",
     "text": [
      "Store             int64\n",
      "DayOfWeek         int64\n",
      "Date             object\n",
      "Sales             int64\n",
      "Customers         int64\n",
      "Open              int64\n",
      "Promo             int64\n",
      "StateHoliday      int64\n",
      "SchoolHoliday     int64\n",
      "dtype: object\n"
     ]
    }
   ],
   "source": [
    "# types\n",
    "print(train.dtypes)\n"
   ]
  },
  {
   "cell_type": "code",
   "execution_count": 12,
   "metadata": {},
   "outputs": [
    {
     "name": "stdout",
     "output_type": "stream",
     "text": [
      "Id                int64\n",
      "Store             int64\n",
      "DayOfWeek         int64\n",
      "Date             object\n",
      "Open              int64\n",
      "Promo             int64\n",
      "StateHoliday      int64\n",
      "SchoolHoliday     int64\n",
      "dtype: object\n"
     ]
    }
   ],
   "source": [
    "# types\n",
    "print(test.dtypes)"
   ]
  },
  {
   "cell_type": "code",
   "execution_count": 13,
   "metadata": {},
   "outputs": [
    {
     "name": "stdout",
     "output_type": "stream",
     "text": [
      "Store                         int64\n",
      "StoreType                    object\n",
      "Assortment                   object\n",
      "CompetitionDistance           int64\n",
      "CompetitionOpenSinceMonth     int64\n",
      "CompetitionOpenSinceYear      int64\n",
      "Promo2                        int64\n",
      "Promo2SinceWeek               int64\n",
      "Promo2SinceYear               int64\n",
      "PromoInterval                object\n",
      "StoreType_Int                 int64\n",
      "Assortment_Int                int64\n",
      "PromoInterval_int             int64\n",
      "dtype: object\n"
     ]
    }
   ],
   "source": [
    "# types\n",
    "print(store.dtypes)"
   ]
  },
  {
   "cell_type": "markdown",
   "metadata": {},
   "source": [
    "#### data descriptions"
   ]
  },
  {
   "cell_type": "code",
   "execution_count": 14,
   "metadata": {},
   "outputs": [
    {
     "data": {
      "text/html": [
       "<div>\n",
       "<style scoped>\n",
       "    .dataframe tbody tr th:only-of-type {\n",
       "        vertical-align: middle;\n",
       "    }\n",
       "\n",
       "    .dataframe tbody tr th {\n",
       "        vertical-align: top;\n",
       "    }\n",
       "\n",
       "    .dataframe thead th {\n",
       "        text-align: right;\n",
       "    }\n",
       "</style>\n",
       "<table border=\"1\" class=\"dataframe\">\n",
       "  <thead>\n",
       "    <tr style=\"text-align: right;\">\n",
       "      <th></th>\n",
       "      <th>Store</th>\n",
       "      <th>DayOfWeek</th>\n",
       "      <th>Sales</th>\n",
       "      <th>Customers</th>\n",
       "      <th>Open</th>\n",
       "      <th>Promo</th>\n",
       "      <th>StateHoliday</th>\n",
       "      <th>SchoolHoliday</th>\n",
       "    </tr>\n",
       "  </thead>\n",
       "  <tbody>\n",
       "    <tr>\n",
       "      <th>count</th>\n",
       "      <td>814299.000000</td>\n",
       "      <td>814299.000000</td>\n",
       "      <td>814299.000000</td>\n",
       "      <td>814299.000000</td>\n",
       "      <td>814299.000000</td>\n",
       "      <td>814299.000000</td>\n",
       "      <td>814299.000000</td>\n",
       "      <td>814299.000000</td>\n",
       "    </tr>\n",
       "    <tr>\n",
       "      <th>mean</th>\n",
       "      <td>557.386423</td>\n",
       "      <td>3.546504</td>\n",
       "      <td>6578.110456</td>\n",
       "      <td>718.145233</td>\n",
       "      <td>0.999000</td>\n",
       "      <td>0.435819</td>\n",
       "      <td>0.000996</td>\n",
       "      <td>0.192362</td>\n",
       "    </tr>\n",
       "    <tr>\n",
       "      <th>std</th>\n",
       "      <td>323.195128</td>\n",
       "      <td>1.714786</td>\n",
       "      <td>2429.153669</td>\n",
       "      <td>306.621660</td>\n",
       "      <td>0.031601</td>\n",
       "      <td>0.495864</td>\n",
       "      <td>0.031543</td>\n",
       "      <td>0.394156</td>\n",
       "    </tr>\n",
       "    <tr>\n",
       "      <th>min</th>\n",
       "      <td>1.000000</td>\n",
       "      <td>1.000000</td>\n",
       "      <td>0.000000</td>\n",
       "      <td>0.000000</td>\n",
       "      <td>0.000000</td>\n",
       "      <td>0.000000</td>\n",
       "      <td>0.000000</td>\n",
       "      <td>0.000000</td>\n",
       "    </tr>\n",
       "    <tr>\n",
       "      <th>25%</th>\n",
       "      <td>277.000000</td>\n",
       "      <td>2.000000</td>\n",
       "      <td>4798.000000</td>\n",
       "      <td>513.000000</td>\n",
       "      <td>1.000000</td>\n",
       "      <td>0.000000</td>\n",
       "      <td>0.000000</td>\n",
       "      <td>0.000000</td>\n",
       "    </tr>\n",
       "    <tr>\n",
       "      <th>50%</th>\n",
       "      <td>557.000000</td>\n",
       "      <td>4.000000</td>\n",
       "      <td>6250.000000</td>\n",
       "      <td>663.000000</td>\n",
       "      <td>1.000000</td>\n",
       "      <td>0.000000</td>\n",
       "      <td>0.000000</td>\n",
       "      <td>0.000000</td>\n",
       "    </tr>\n",
       "    <tr>\n",
       "      <th>75%</th>\n",
       "      <td>840.000000</td>\n",
       "      <td>5.000000</td>\n",
       "      <td>8078.000000</td>\n",
       "      <td>861.000000</td>\n",
       "      <td>1.000000</td>\n",
       "      <td>1.000000</td>\n",
       "      <td>0.000000</td>\n",
       "      <td>0.000000</td>\n",
       "    </tr>\n",
       "    <tr>\n",
       "      <th>max</th>\n",
       "      <td>1115.000000</td>\n",
       "      <td>7.000000</td>\n",
       "      <td>13610.000000</td>\n",
       "      <td>4256.000000</td>\n",
       "      <td>1.000000</td>\n",
       "      <td>1.000000</td>\n",
       "      <td>1.000000</td>\n",
       "      <td>1.000000</td>\n",
       "    </tr>\n",
       "  </tbody>\n",
       "</table>\n",
       "</div>"
      ],
      "text/plain": [
       "               Store      DayOfWeek          Sales      Customers  \\\n",
       "count  814299.000000  814299.000000  814299.000000  814299.000000   \n",
       "mean      557.386423       3.546504    6578.110456     718.145233   \n",
       "std       323.195128       1.714786    2429.153669     306.621660   \n",
       "min         1.000000       1.000000       0.000000       0.000000   \n",
       "25%       277.000000       2.000000    4798.000000     513.000000   \n",
       "50%       557.000000       4.000000    6250.000000     663.000000   \n",
       "75%       840.000000       5.000000    8078.000000     861.000000   \n",
       "max      1115.000000       7.000000   13610.000000    4256.000000   \n",
       "\n",
       "                Open          Promo   StateHoliday  SchoolHoliday  \n",
       "count  814299.000000  814299.000000  814299.000000  814299.000000  \n",
       "mean        0.999000       0.435819       0.000996       0.192362  \n",
       "std         0.031601       0.495864       0.031543       0.394156  \n",
       "min         0.000000       0.000000       0.000000       0.000000  \n",
       "25%         1.000000       0.000000       0.000000       0.000000  \n",
       "50%         1.000000       0.000000       0.000000       0.000000  \n",
       "75%         1.000000       1.000000       0.000000       0.000000  \n",
       "max         1.000000       1.000000       1.000000       1.000000  "
      ]
     },
     "execution_count": 14,
     "metadata": {},
     "output_type": "execute_result"
    }
   ],
   "source": [
    "# descriptions\n",
    "train.describe()\n"
   ]
  },
  {
   "cell_type": "code",
   "execution_count": 15,
   "metadata": {},
   "outputs": [
    {
     "data": {
      "text/html": [
       "<div>\n",
       "<style scoped>\n",
       "    .dataframe tbody tr th:only-of-type {\n",
       "        vertical-align: middle;\n",
       "    }\n",
       "\n",
       "    .dataframe tbody tr th {\n",
       "        vertical-align: top;\n",
       "    }\n",
       "\n",
       "    .dataframe thead th {\n",
       "        text-align: right;\n",
       "    }\n",
       "</style>\n",
       "<table border=\"1\" class=\"dataframe\">\n",
       "  <thead>\n",
       "    <tr style=\"text-align: right;\">\n",
       "      <th></th>\n",
       "      <th>Id</th>\n",
       "      <th>Store</th>\n",
       "      <th>DayOfWeek</th>\n",
       "      <th>Open</th>\n",
       "      <th>Promo</th>\n",
       "      <th>StateHoliday</th>\n",
       "      <th>SchoolHoliday</th>\n",
       "    </tr>\n",
       "  </thead>\n",
       "  <tbody>\n",
       "    <tr>\n",
       "      <th>count</th>\n",
       "      <td>41088.000000</td>\n",
       "      <td>41088.000000</td>\n",
       "      <td>41088.000000</td>\n",
       "      <td>41088.000000</td>\n",
       "      <td>41088.000000</td>\n",
       "      <td>41088.000000</td>\n",
       "      <td>41088.000000</td>\n",
       "    </tr>\n",
       "    <tr>\n",
       "      <th>mean</th>\n",
       "      <td>20544.500000</td>\n",
       "      <td>555.899533</td>\n",
       "      <td>3.979167</td>\n",
       "      <td>0.854361</td>\n",
       "      <td>0.395833</td>\n",
       "      <td>0.004381</td>\n",
       "      <td>0.443487</td>\n",
       "    </tr>\n",
       "    <tr>\n",
       "      <th>std</th>\n",
       "      <td>11861.228267</td>\n",
       "      <td>320.274496</td>\n",
       "      <td>2.015481</td>\n",
       "      <td>0.352748</td>\n",
       "      <td>0.489035</td>\n",
       "      <td>0.066044</td>\n",
       "      <td>0.496802</td>\n",
       "    </tr>\n",
       "    <tr>\n",
       "      <th>min</th>\n",
       "      <td>1.000000</td>\n",
       "      <td>1.000000</td>\n",
       "      <td>1.000000</td>\n",
       "      <td>0.000000</td>\n",
       "      <td>0.000000</td>\n",
       "      <td>0.000000</td>\n",
       "      <td>0.000000</td>\n",
       "    </tr>\n",
       "    <tr>\n",
       "      <th>25%</th>\n",
       "      <td>10272.750000</td>\n",
       "      <td>279.750000</td>\n",
       "      <td>2.000000</td>\n",
       "      <td>1.000000</td>\n",
       "      <td>0.000000</td>\n",
       "      <td>0.000000</td>\n",
       "      <td>0.000000</td>\n",
       "    </tr>\n",
       "    <tr>\n",
       "      <th>50%</th>\n",
       "      <td>20544.500000</td>\n",
       "      <td>553.500000</td>\n",
       "      <td>4.000000</td>\n",
       "      <td>1.000000</td>\n",
       "      <td>0.000000</td>\n",
       "      <td>0.000000</td>\n",
       "      <td>0.000000</td>\n",
       "    </tr>\n",
       "    <tr>\n",
       "      <th>75%</th>\n",
       "      <td>30816.250000</td>\n",
       "      <td>832.250000</td>\n",
       "      <td>6.000000</td>\n",
       "      <td>1.000000</td>\n",
       "      <td>1.000000</td>\n",
       "      <td>0.000000</td>\n",
       "      <td>1.000000</td>\n",
       "    </tr>\n",
       "    <tr>\n",
       "      <th>max</th>\n",
       "      <td>41088.000000</td>\n",
       "      <td>1115.000000</td>\n",
       "      <td>7.000000</td>\n",
       "      <td>1.000000</td>\n",
       "      <td>1.000000</td>\n",
       "      <td>1.000000</td>\n",
       "      <td>1.000000</td>\n",
       "    </tr>\n",
       "  </tbody>\n",
       "</table>\n",
       "</div>"
      ],
      "text/plain": [
       "                 Id         Store     DayOfWeek          Open         Promo  \\\n",
       "count  41088.000000  41088.000000  41088.000000  41088.000000  41088.000000   \n",
       "mean   20544.500000    555.899533      3.979167      0.854361      0.395833   \n",
       "std    11861.228267    320.274496      2.015481      0.352748      0.489035   \n",
       "min        1.000000      1.000000      1.000000      0.000000      0.000000   \n",
       "25%    10272.750000    279.750000      2.000000      1.000000      0.000000   \n",
       "50%    20544.500000    553.500000      4.000000      1.000000      0.000000   \n",
       "75%    30816.250000    832.250000      6.000000      1.000000      1.000000   \n",
       "max    41088.000000   1115.000000      7.000000      1.000000      1.000000   \n",
       "\n",
       "       StateHoliday  SchoolHoliday  \n",
       "count  41088.000000   41088.000000  \n",
       "mean       0.004381       0.443487  \n",
       "std        0.066044       0.496802  \n",
       "min        0.000000       0.000000  \n",
       "25%        0.000000       0.000000  \n",
       "50%        0.000000       0.000000  \n",
       "75%        0.000000       1.000000  \n",
       "max        1.000000       1.000000  "
      ]
     },
     "execution_count": 15,
     "metadata": {},
     "output_type": "execute_result"
    }
   ],
   "source": [
    "# descriptions\n",
    "test.describe()\n"
   ]
  },
  {
   "cell_type": "code",
   "execution_count": 16,
   "metadata": {},
   "outputs": [
    {
     "data": {
      "text/html": [
       "<div>\n",
       "<style scoped>\n",
       "    .dataframe tbody tr th:only-of-type {\n",
       "        vertical-align: middle;\n",
       "    }\n",
       "\n",
       "    .dataframe tbody tr th {\n",
       "        vertical-align: top;\n",
       "    }\n",
       "\n",
       "    .dataframe thead th {\n",
       "        text-align: right;\n",
       "    }\n",
       "</style>\n",
       "<table border=\"1\" class=\"dataframe\">\n",
       "  <thead>\n",
       "    <tr style=\"text-align: right;\">\n",
       "      <th></th>\n",
       "      <th>Store</th>\n",
       "      <th>CompetitionDistance</th>\n",
       "      <th>CompetitionOpenSinceMonth</th>\n",
       "      <th>CompetitionOpenSinceYear</th>\n",
       "      <th>Promo2</th>\n",
       "      <th>Promo2SinceWeek</th>\n",
       "      <th>Promo2SinceYear</th>\n",
       "      <th>StoreType_Int</th>\n",
       "      <th>Assortment_Int</th>\n",
       "      <th>PromoInterval_int</th>\n",
       "    </tr>\n",
       "  </thead>\n",
       "  <tbody>\n",
       "    <tr>\n",
       "      <th>count</th>\n",
       "      <td>1115.00000</td>\n",
       "      <td>1115.000000</td>\n",
       "      <td>1115.000000</td>\n",
       "      <td>1115.000000</td>\n",
       "      <td>1115.000000</td>\n",
       "      <td>1115.000000</td>\n",
       "      <td>1115.000000</td>\n",
       "      <td>1115.000000</td>\n",
       "      <td>1115.000000</td>\n",
       "      <td>1115.000000</td>\n",
       "    </tr>\n",
       "    <tr>\n",
       "      <th>mean</th>\n",
       "      <td>558.00000</td>\n",
       "      <td>5404.898655</td>\n",
       "      <td>4.930942</td>\n",
       "      <td>1370.939013</td>\n",
       "      <td>0.512108</td>\n",
       "      <td>12.083408</td>\n",
       "      <td>1030.239462</td>\n",
       "      <td>2.217040</td>\n",
       "      <td>1.928251</td>\n",
       "      <td>0.818834</td>\n",
       "    </tr>\n",
       "    <tr>\n",
       "      <th>std</th>\n",
       "      <td>322.01708</td>\n",
       "      <td>7652.849306</td>\n",
       "      <td>4.284924</td>\n",
       "      <td>935.467654</td>\n",
       "      <td>0.500078</td>\n",
       "      <td>15.542241</td>\n",
       "      <td>1006.038782</td>\n",
       "      <td>1.369544</td>\n",
       "      <td>0.993814</td>\n",
       "      <td>0.976108</td>\n",
       "    </tr>\n",
       "    <tr>\n",
       "      <th>min</th>\n",
       "      <td>1.00000</td>\n",
       "      <td>20.000000</td>\n",
       "      <td>0.000000</td>\n",
       "      <td>0.000000</td>\n",
       "      <td>0.000000</td>\n",
       "      <td>0.000000</td>\n",
       "      <td>0.000000</td>\n",
       "      <td>1.000000</td>\n",
       "      <td>1.000000</td>\n",
       "      <td>0.000000</td>\n",
       "    </tr>\n",
       "    <tr>\n",
       "      <th>25%</th>\n",
       "      <td>279.50000</td>\n",
       "      <td>720.000000</td>\n",
       "      <td>0.000000</td>\n",
       "      <td>0.000000</td>\n",
       "      <td>0.000000</td>\n",
       "      <td>0.000000</td>\n",
       "      <td>0.000000</td>\n",
       "      <td>1.000000</td>\n",
       "      <td>1.000000</td>\n",
       "      <td>0.000000</td>\n",
       "    </tr>\n",
       "    <tr>\n",
       "      <th>50%</th>\n",
       "      <td>558.00000</td>\n",
       "      <td>2330.000000</td>\n",
       "      <td>4.000000</td>\n",
       "      <td>2006.000000</td>\n",
       "      <td>1.000000</td>\n",
       "      <td>1.000000</td>\n",
       "      <td>2009.000000</td>\n",
       "      <td>1.000000</td>\n",
       "      <td>1.000000</td>\n",
       "      <td>1.000000</td>\n",
       "    </tr>\n",
       "    <tr>\n",
       "      <th>75%</th>\n",
       "      <td>836.50000</td>\n",
       "      <td>6875.000000</td>\n",
       "      <td>9.000000</td>\n",
       "      <td>2011.000000</td>\n",
       "      <td>1.000000</td>\n",
       "      <td>22.000000</td>\n",
       "      <td>2012.000000</td>\n",
       "      <td>4.000000</td>\n",
       "      <td>3.000000</td>\n",
       "      <td>1.000000</td>\n",
       "    </tr>\n",
       "    <tr>\n",
       "      <th>max</th>\n",
       "      <td>1115.00000</td>\n",
       "      <td>75860.000000</td>\n",
       "      <td>12.000000</td>\n",
       "      <td>2015.000000</td>\n",
       "      <td>1.000000</td>\n",
       "      <td>50.000000</td>\n",
       "      <td>2015.000000</td>\n",
       "      <td>4.000000</td>\n",
       "      <td>3.000000</td>\n",
       "      <td>3.000000</td>\n",
       "    </tr>\n",
       "  </tbody>\n",
       "</table>\n",
       "</div>"
      ],
      "text/plain": [
       "            Store  CompetitionDistance  CompetitionOpenSinceMonth  \\\n",
       "count  1115.00000          1115.000000                1115.000000   \n",
       "mean    558.00000          5404.898655                   4.930942   \n",
       "std     322.01708          7652.849306                   4.284924   \n",
       "min       1.00000            20.000000                   0.000000   \n",
       "25%     279.50000           720.000000                   0.000000   \n",
       "50%     558.00000          2330.000000                   4.000000   \n",
       "75%     836.50000          6875.000000                   9.000000   \n",
       "max    1115.00000         75860.000000                  12.000000   \n",
       "\n",
       "       CompetitionOpenSinceYear       Promo2  Promo2SinceWeek  \\\n",
       "count               1115.000000  1115.000000      1115.000000   \n",
       "mean                1370.939013     0.512108        12.083408   \n",
       "std                  935.467654     0.500078        15.542241   \n",
       "min                    0.000000     0.000000         0.000000   \n",
       "25%                    0.000000     0.000000         0.000000   \n",
       "50%                 2006.000000     1.000000         1.000000   \n",
       "75%                 2011.000000     1.000000        22.000000   \n",
       "max                 2015.000000     1.000000        50.000000   \n",
       "\n",
       "       Promo2SinceYear  StoreType_Int  Assortment_Int  PromoInterval_int  \n",
       "count      1115.000000    1115.000000     1115.000000        1115.000000  \n",
       "mean       1030.239462       2.217040        1.928251           0.818834  \n",
       "std        1006.038782       1.369544        0.993814           0.976108  \n",
       "min           0.000000       1.000000        1.000000           0.000000  \n",
       "25%           0.000000       1.000000        1.000000           0.000000  \n",
       "50%        2009.000000       1.000000        1.000000           1.000000  \n",
       "75%        2012.000000       4.000000        3.000000           1.000000  \n",
       "max        2015.000000       4.000000        3.000000           3.000000  "
      ]
     },
     "execution_count": 16,
     "metadata": {},
     "output_type": "execute_result"
    }
   ],
   "source": [
    "# descriptions\n",
    "store.describe()"
   ]
  },
  {
   "cell_type": "markdown",
   "metadata": {},
   "source": [
    "#### data descriptions"
   ]
  },
  {
   "cell_type": "code",
   "execution_count": 17,
   "metadata": {},
   "outputs": [
    {
     "data": {
      "text/html": [
       "<div>\n",
       "<style scoped>\n",
       "    .dataframe tbody tr th:only-of-type {\n",
       "        vertical-align: middle;\n",
       "    }\n",
       "\n",
       "    .dataframe tbody tr th {\n",
       "        vertical-align: top;\n",
       "    }\n",
       "\n",
       "    .dataframe thead th {\n",
       "        text-align: right;\n",
       "    }\n",
       "</style>\n",
       "<table border=\"1\" class=\"dataframe\">\n",
       "  <thead>\n",
       "    <tr style=\"text-align: right;\">\n",
       "      <th></th>\n",
       "      <th>Date</th>\n",
       "    </tr>\n",
       "  </thead>\n",
       "  <tbody>\n",
       "    <tr>\n",
       "      <th>count</th>\n",
       "      <td>814299</td>\n",
       "    </tr>\n",
       "    <tr>\n",
       "      <th>unique</th>\n",
       "      <td>942</td>\n",
       "    </tr>\n",
       "    <tr>\n",
       "      <th>top</th>\n",
       "      <td>2013-12-24</td>\n",
       "    </tr>\n",
       "    <tr>\n",
       "      <th>freq</th>\n",
       "      <td>1114</td>\n",
       "    </tr>\n",
       "  </tbody>\n",
       "</table>\n",
       "</div>"
      ],
      "text/plain": [
       "              Date\n",
       "count       814299\n",
       "unique         942\n",
       "top     2013-12-24\n",
       "freq          1114"
      ]
     },
     "execution_count": 17,
     "metadata": {},
     "output_type": "execute_result"
    }
   ],
   "source": [
    "# descriptions\n",
    "train.describe(include = 'object')\n"
   ]
  },
  {
   "cell_type": "code",
   "execution_count": 18,
   "metadata": {},
   "outputs": [
    {
     "data": {
      "text/html": [
       "<div>\n",
       "<style scoped>\n",
       "    .dataframe tbody tr th:only-of-type {\n",
       "        vertical-align: middle;\n",
       "    }\n",
       "\n",
       "    .dataframe tbody tr th {\n",
       "        vertical-align: top;\n",
       "    }\n",
       "\n",
       "    .dataframe thead th {\n",
       "        text-align: right;\n",
       "    }\n",
       "</style>\n",
       "<table border=\"1\" class=\"dataframe\">\n",
       "  <thead>\n",
       "    <tr style=\"text-align: right;\">\n",
       "      <th></th>\n",
       "      <th>Date</th>\n",
       "    </tr>\n",
       "  </thead>\n",
       "  <tbody>\n",
       "    <tr>\n",
       "      <th>count</th>\n",
       "      <td>41088</td>\n",
       "    </tr>\n",
       "    <tr>\n",
       "      <th>unique</th>\n",
       "      <td>48</td>\n",
       "    </tr>\n",
       "    <tr>\n",
       "      <th>top</th>\n",
       "      <td>2015-09-17</td>\n",
       "    </tr>\n",
       "    <tr>\n",
       "      <th>freq</th>\n",
       "      <td>856</td>\n",
       "    </tr>\n",
       "  </tbody>\n",
       "</table>\n",
       "</div>"
      ],
      "text/plain": [
       "              Date\n",
       "count        41088\n",
       "unique          48\n",
       "top     2015-09-17\n",
       "freq           856"
      ]
     },
     "execution_count": 18,
     "metadata": {},
     "output_type": "execute_result"
    }
   ],
   "source": [
    "# descriptions\n",
    "test.describe(include = 'object')\n"
   ]
  },
  {
   "cell_type": "code",
   "execution_count": 19,
   "metadata": {},
   "outputs": [
    {
     "data": {
      "text/html": [
       "<div>\n",
       "<style scoped>\n",
       "    .dataframe tbody tr th:only-of-type {\n",
       "        vertical-align: middle;\n",
       "    }\n",
       "\n",
       "    .dataframe tbody tr th {\n",
       "        vertical-align: top;\n",
       "    }\n",
       "\n",
       "    .dataframe thead th {\n",
       "        text-align: right;\n",
       "    }\n",
       "</style>\n",
       "<table border=\"1\" class=\"dataframe\">\n",
       "  <thead>\n",
       "    <tr style=\"text-align: right;\">\n",
       "      <th></th>\n",
       "      <th>StoreType</th>\n",
       "      <th>Assortment</th>\n",
       "      <th>PromoInterval</th>\n",
       "    </tr>\n",
       "  </thead>\n",
       "  <tbody>\n",
       "    <tr>\n",
       "      <th>count</th>\n",
       "      <td>1115</td>\n",
       "      <td>1115</td>\n",
       "      <td>1115</td>\n",
       "    </tr>\n",
       "    <tr>\n",
       "      <th>unique</th>\n",
       "      <td>4</td>\n",
       "      <td>3</td>\n",
       "      <td>4</td>\n",
       "    </tr>\n",
       "    <tr>\n",
       "      <th>top</th>\n",
       "      <td>a</td>\n",
       "      <td>a</td>\n",
       "      <td>period 0</td>\n",
       "    </tr>\n",
       "    <tr>\n",
       "      <th>freq</th>\n",
       "      <td>602</td>\n",
       "      <td>593</td>\n",
       "      <td>544</td>\n",
       "    </tr>\n",
       "  </tbody>\n",
       "</table>\n",
       "</div>"
      ],
      "text/plain": [
       "       StoreType Assortment PromoInterval\n",
       "count       1115       1115          1115\n",
       "unique         4          3             4\n",
       "top            a          a      period 0\n",
       "freq         602        593           544"
      ]
     },
     "execution_count": 19,
     "metadata": {},
     "output_type": "execute_result"
    }
   ],
   "source": [
    "# descriptions\n",
    "store.describe(include = 'object')"
   ]
  },
  {
   "cell_type": "markdown",
   "metadata": {},
   "source": [
    "#### Check for missing entries"
   ]
  },
  {
   "cell_type": "code",
   "execution_count": 20,
   "metadata": {},
   "outputs": [
    {
     "data": {
      "text/html": [
       "<div>\n",
       "<style scoped>\n",
       "    .dataframe tbody tr th:only-of-type {\n",
       "        vertical-align: middle;\n",
       "    }\n",
       "\n",
       "    .dataframe tbody tr th {\n",
       "        vertical-align: top;\n",
       "    }\n",
       "\n",
       "    .dataframe thead th {\n",
       "        text-align: right;\n",
       "    }\n",
       "</style>\n",
       "<table border=\"1\" class=\"dataframe\">\n",
       "  <thead>\n",
       "    <tr style=\"text-align: right;\">\n",
       "      <th></th>\n",
       "      <th>Total</th>\n",
       "      <th>Percent</th>\n",
       "    </tr>\n",
       "  </thead>\n",
       "  <tbody>\n",
       "    <tr>\n",
       "      <th>Store</th>\n",
       "      <td>0</td>\n",
       "      <td>0.0</td>\n",
       "    </tr>\n",
       "    <tr>\n",
       "      <th>DayOfWeek</th>\n",
       "      <td>0</td>\n",
       "      <td>0.0</td>\n",
       "    </tr>\n",
       "    <tr>\n",
       "      <th>Date</th>\n",
       "      <td>0</td>\n",
       "      <td>0.0</td>\n",
       "    </tr>\n",
       "    <tr>\n",
       "      <th>Sales</th>\n",
       "      <td>0</td>\n",
       "      <td>0.0</td>\n",
       "    </tr>\n",
       "    <tr>\n",
       "      <th>Customers</th>\n",
       "      <td>0</td>\n",
       "      <td>0.0</td>\n",
       "    </tr>\n",
       "    <tr>\n",
       "      <th>Open</th>\n",
       "      <td>0</td>\n",
       "      <td>0.0</td>\n",
       "    </tr>\n",
       "    <tr>\n",
       "      <th>Promo</th>\n",
       "      <td>0</td>\n",
       "      <td>0.0</td>\n",
       "    </tr>\n",
       "    <tr>\n",
       "      <th>StateHoliday</th>\n",
       "      <td>0</td>\n",
       "      <td>0.0</td>\n",
       "    </tr>\n",
       "    <tr>\n",
       "      <th>SchoolHoliday</th>\n",
       "      <td>0</td>\n",
       "      <td>0.0</td>\n",
       "    </tr>\n",
       "  </tbody>\n",
       "</table>\n",
       "</div>"
      ],
      "text/plain": [
       "               Total  Percent\n",
       "Store              0      0.0\n",
       "DayOfWeek          0      0.0\n",
       "Date               0      0.0\n",
       "Sales              0      0.0\n",
       "Customers          0      0.0\n",
       "Open               0      0.0\n",
       "Promo              0      0.0\n",
       "StateHoliday       0      0.0\n",
       "SchoolHoliday      0      0.0"
      ]
     },
     "execution_count": 20,
     "metadata": {},
     "output_type": "execute_result"
    }
   ],
   "source": [
    "# Check for missing entries\n",
    "total = train.isnull().sum().sort_values(ascending=False)\n",
    "percent=(train.isnull().sum()*100/len(train)).sort_values(ascending=False)\n",
    "missing_data = pd.concat([total, percent], axis=1,keys=['Total', 'Percent'])\n",
    "missing_data.head(20)"
   ]
  },
  {
   "cell_type": "code",
   "execution_count": 21,
   "metadata": {},
   "outputs": [
    {
     "data": {
      "text/html": [
       "<div>\n",
       "<style scoped>\n",
       "    .dataframe tbody tr th:only-of-type {\n",
       "        vertical-align: middle;\n",
       "    }\n",
       "\n",
       "    .dataframe tbody tr th {\n",
       "        vertical-align: top;\n",
       "    }\n",
       "\n",
       "    .dataframe thead th {\n",
       "        text-align: right;\n",
       "    }\n",
       "</style>\n",
       "<table border=\"1\" class=\"dataframe\">\n",
       "  <thead>\n",
       "    <tr style=\"text-align: right;\">\n",
       "      <th></th>\n",
       "      <th>Total</th>\n",
       "      <th>Percent</th>\n",
       "    </tr>\n",
       "  </thead>\n",
       "  <tbody>\n",
       "    <tr>\n",
       "      <th>Id</th>\n",
       "      <td>0</td>\n",
       "      <td>0.0</td>\n",
       "    </tr>\n",
       "    <tr>\n",
       "      <th>Store</th>\n",
       "      <td>0</td>\n",
       "      <td>0.0</td>\n",
       "    </tr>\n",
       "    <tr>\n",
       "      <th>DayOfWeek</th>\n",
       "      <td>0</td>\n",
       "      <td>0.0</td>\n",
       "    </tr>\n",
       "    <tr>\n",
       "      <th>Date</th>\n",
       "      <td>0</td>\n",
       "      <td>0.0</td>\n",
       "    </tr>\n",
       "    <tr>\n",
       "      <th>Open</th>\n",
       "      <td>0</td>\n",
       "      <td>0.0</td>\n",
       "    </tr>\n",
       "    <tr>\n",
       "      <th>Promo</th>\n",
       "      <td>0</td>\n",
       "      <td>0.0</td>\n",
       "    </tr>\n",
       "    <tr>\n",
       "      <th>StateHoliday</th>\n",
       "      <td>0</td>\n",
       "      <td>0.0</td>\n",
       "    </tr>\n",
       "    <tr>\n",
       "      <th>SchoolHoliday</th>\n",
       "      <td>0</td>\n",
       "      <td>0.0</td>\n",
       "    </tr>\n",
       "  </tbody>\n",
       "</table>\n",
       "</div>"
      ],
      "text/plain": [
       "               Total  Percent\n",
       "Id                 0      0.0\n",
       "Store              0      0.0\n",
       "DayOfWeek          0      0.0\n",
       "Date               0      0.0\n",
       "Open               0      0.0\n",
       "Promo              0      0.0\n",
       "StateHoliday       0      0.0\n",
       "SchoolHoliday      0      0.0"
      ]
     },
     "execution_count": 21,
     "metadata": {},
     "output_type": "execute_result"
    }
   ],
   "source": [
    "# Check for missing entries\n",
    "total = test.isnull().sum().sort_values(ascending=False)\n",
    "percent=(test.isnull().sum()*100/len(test)).sort_values(ascending=False)\n",
    "missing_data = pd.concat([total, percent], axis=1,keys=['Total', 'Percent'])\n",
    "missing_data.head(20)"
   ]
  },
  {
   "cell_type": "code",
   "execution_count": 22,
   "metadata": {},
   "outputs": [
    {
     "data": {
      "text/html": [
       "<div>\n",
       "<style scoped>\n",
       "    .dataframe tbody tr th:only-of-type {\n",
       "        vertical-align: middle;\n",
       "    }\n",
       "\n",
       "    .dataframe tbody tr th {\n",
       "        vertical-align: top;\n",
       "    }\n",
       "\n",
       "    .dataframe thead th {\n",
       "        text-align: right;\n",
       "    }\n",
       "</style>\n",
       "<table border=\"1\" class=\"dataframe\">\n",
       "  <thead>\n",
       "    <tr style=\"text-align: right;\">\n",
       "      <th></th>\n",
       "      <th>Total</th>\n",
       "      <th>Percent</th>\n",
       "    </tr>\n",
       "  </thead>\n",
       "  <tbody>\n",
       "    <tr>\n",
       "      <th>Store</th>\n",
       "      <td>0</td>\n",
       "      <td>0.0</td>\n",
       "    </tr>\n",
       "    <tr>\n",
       "      <th>StoreType</th>\n",
       "      <td>0</td>\n",
       "      <td>0.0</td>\n",
       "    </tr>\n",
       "    <tr>\n",
       "      <th>Assortment</th>\n",
       "      <td>0</td>\n",
       "      <td>0.0</td>\n",
       "    </tr>\n",
       "    <tr>\n",
       "      <th>CompetitionDistance</th>\n",
       "      <td>0</td>\n",
       "      <td>0.0</td>\n",
       "    </tr>\n",
       "    <tr>\n",
       "      <th>CompetitionOpenSinceMonth</th>\n",
       "      <td>0</td>\n",
       "      <td>0.0</td>\n",
       "    </tr>\n",
       "    <tr>\n",
       "      <th>CompetitionOpenSinceYear</th>\n",
       "      <td>0</td>\n",
       "      <td>0.0</td>\n",
       "    </tr>\n",
       "    <tr>\n",
       "      <th>Promo2</th>\n",
       "      <td>0</td>\n",
       "      <td>0.0</td>\n",
       "    </tr>\n",
       "    <tr>\n",
       "      <th>Promo2SinceWeek</th>\n",
       "      <td>0</td>\n",
       "      <td>0.0</td>\n",
       "    </tr>\n",
       "    <tr>\n",
       "      <th>Promo2SinceYear</th>\n",
       "      <td>0</td>\n",
       "      <td>0.0</td>\n",
       "    </tr>\n",
       "    <tr>\n",
       "      <th>PromoInterval</th>\n",
       "      <td>0</td>\n",
       "      <td>0.0</td>\n",
       "    </tr>\n",
       "    <tr>\n",
       "      <th>StoreType_Int</th>\n",
       "      <td>0</td>\n",
       "      <td>0.0</td>\n",
       "    </tr>\n",
       "    <tr>\n",
       "      <th>Assortment_Int</th>\n",
       "      <td>0</td>\n",
       "      <td>0.0</td>\n",
       "    </tr>\n",
       "    <tr>\n",
       "      <th>PromoInterval_int</th>\n",
       "      <td>0</td>\n",
       "      <td>0.0</td>\n",
       "    </tr>\n",
       "  </tbody>\n",
       "</table>\n",
       "</div>"
      ],
      "text/plain": [
       "                           Total  Percent\n",
       "Store                          0      0.0\n",
       "StoreType                      0      0.0\n",
       "Assortment                     0      0.0\n",
       "CompetitionDistance            0      0.0\n",
       "CompetitionOpenSinceMonth      0      0.0\n",
       "CompetitionOpenSinceYear       0      0.0\n",
       "Promo2                         0      0.0\n",
       "Promo2SinceWeek                0      0.0\n",
       "Promo2SinceYear                0      0.0\n",
       "PromoInterval                  0      0.0\n",
       "StoreType_Int                  0      0.0\n",
       "Assortment_Int                 0      0.0\n",
       "PromoInterval_int              0      0.0"
      ]
     },
     "execution_count": 22,
     "metadata": {},
     "output_type": "execute_result"
    }
   ],
   "source": [
    "# Check for missing entries\n",
    "total = store.isnull().sum().sort_values(ascending=False)\n",
    "percent=(store.isnull().sum()*100/len(store)).sort_values(ascending=False)\n",
    "missing_data = pd.concat([total, percent], axis=1,keys=['Total', 'Percent'])\n",
    "missing_data.head(20)"
   ]
  },
  {
   "cell_type": "markdown",
   "metadata": {},
   "source": [
    "#### Check for duplicate data"
   ]
  },
  {
   "cell_type": "code",
   "execution_count": 23,
   "metadata": {},
   "outputs": [
    {
     "name": "stdout",
     "output_type": "stream",
     "text": [
      "False\n"
     ]
    }
   ],
   "source": [
    "# locate rows of duplicate data\n",
    "\n",
    "# calculate duplicates\n",
    "dups = train.duplicated()\n",
    "# report if there are any duplicates\n",
    "print(dups.any())\n"
   ]
  },
  {
   "cell_type": "code",
   "execution_count": 24,
   "metadata": {},
   "outputs": [
    {
     "name": "stdout",
     "output_type": "stream",
     "text": [
      "False\n"
     ]
    }
   ],
   "source": [
    "# locate rows of duplicate data\n",
    "\n",
    "# calculate duplicates\n",
    "dups = test.duplicated()\n",
    "# report if there are any duplicates\n",
    "print(dups.any())\n"
   ]
  },
  {
   "cell_type": "code",
   "execution_count": 25,
   "metadata": {},
   "outputs": [
    {
     "name": "stdout",
     "output_type": "stream",
     "text": [
      "False\n"
     ]
    }
   ],
   "source": [
    "# locate rows of duplicate data\n",
    "\n",
    "# calculate duplicates\n",
    "dups = store.duplicated()\n",
    "# report if there are any duplicates\n",
    "print(dups.any())"
   ]
  },
  {
   "cell_type": "markdown",
   "metadata": {},
   "source": [
    "# Feature Engineering"
   ]
  },
  {
   "cell_type": "markdown",
   "metadata": {},
   "source": [
    "#### conversion to datetime"
   ]
  },
  {
   "cell_type": "code",
   "execution_count": 26,
   "metadata": {},
   "outputs": [],
   "source": [
    "train['Date'] = pd.to_datetime(train['Date'])\n",
    "test['Date'] = pd.to_datetime(test['Date'])"
   ]
  },
  {
   "cell_type": "markdown",
   "metadata": {},
   "source": [
    "#### Create time-based features"
   ]
  },
  {
   "cell_type": "code",
   "execution_count": 27,
   "metadata": {},
   "outputs": [],
   "source": [
    "# Create time-based features (train)\n",
    "train[\"Year\"] = train[\"Date\"].dt.year\n",
    "train[\"Month\"] = train[\"Date\"].dt.month\n",
    "train[\"WeekOfYear\"] = train[\"Date\"].dt.isocalendar().week\n",
    "train[\"IsWeekend\"] = train[\"DayOfWeek\"].apply(lambda x: 1 if x >= 5 else 0)  # 1 = Weekend\n",
    "train[\"Season\"] = train[\"Month\"].map({1: \"winter\", 2: \"winter\", 3: \"spring\", 4: \"spring\", 5: \"spring\", 6: \"summer\", 7: \"summer\", 8: \"summer\", 9: \"fall\", 10: \"fall\", 11: \"fall\", 12: \"winter\"})\n",
    "\n",
    "\n",
    "# Create time-based features (test)\n",
    "test[\"Year\"] = test[\"Date\"].dt.year\n",
    "test[\"Month\"] = test[\"Date\"].dt.month\n",
    "test[\"WeekOfYear\"] = test[\"Date\"].dt.isocalendar().week\n",
    "test[\"IsWeekend\"] = test[\"DayOfWeek\"].apply(lambda x: 1 if x >= 5 else 0)  # 1 = Weekend\n",
    "test[\"Season\"] = test[\"Month\"].map({1: \"winter\", 2: \"winter\", 3: \"spring\", 4: \"spring\", 5: \"spring\", 6: \"summer\", 7: \"summer\", 8: \"summer\", 9: \"fall\", 10: \"fall\", 11: \"fall\", 12: \"winter\"})\n"
   ]
  },
  {
   "cell_type": "markdown",
   "metadata": {},
   "source": [
    "#### Extract text-based details"
   ]
  },
  {
   "cell_type": "code",
   "execution_count": 28,
   "metadata": {},
   "outputs": [],
   "source": [
    "# Extract text-based details (train)\n",
    "train['Month_01'] = train['Date'].dt.strftime('%B')  # Full month name\n",
    "train['Day'] = train['Date'].dt.strftime('%d')    # Day as text\n",
    "train['Day of Week'] = train['Date'].dt.strftime('%A')  # Full weekday name\n",
    "\n",
    "# Extract text-based details (test)\n",
    "test['Month_01'] = test['Date'].dt.strftime('%B')  # Full month name\n",
    "test['Day'] = test['Date'].dt.strftime('%d')    # Day as text\n",
    "test['Day of Week'] = test['Date'].dt.strftime('%A')  # Full weekday name"
   ]
  },
  {
   "cell_type": "markdown",
   "metadata": {},
   "source": [
    "#### Lag Features (Past Sales Trends)"
   ]
  },
  {
   "cell_type": "code",
   "execution_count": 29,
   "metadata": {},
   "outputs": [
    {
     "data": {
      "text/plain": [
       "0             NaN\n",
       "1             NaN\n",
       "2             NaN\n",
       "3             NaN\n",
       "4             NaN\n",
       "           ...   \n",
       "814294     5775.0\n",
       "814295    12577.0\n",
       "814296     7659.0\n",
       "814297     4260.0\n",
       "814298     8057.0\n",
       "Name: Sales_Lag_7, Length: 814299, dtype: float64"
      ]
     },
     "execution_count": 29,
     "metadata": {},
     "output_type": "execute_result"
    }
   ],
   "source": [
    "# Lag Features (Past Sales Trends : train)\n",
    "train[\"Sales_Lag_7\"] = train.groupby(\"Store\")[\"Sales\"].shift(7)\n",
    "train[\"Sales_Lag_7\"]\n"
   ]
  },
  {
   "cell_type": "code",
   "execution_count": 30,
   "metadata": {},
   "outputs": [
    {
     "data": {
      "text/plain": [
       "0             NaN\n",
       "1             NaN\n",
       "2             NaN\n",
       "3             NaN\n",
       "4             NaN\n",
       "           ...   \n",
       "814294    11235.0\n",
       "814295    11807.0\n",
       "814296     9244.0\n",
       "814297     5405.0\n",
       "814298     9390.0\n",
       "Name: Sales_Lag_30, Length: 814299, dtype: float64"
      ]
     },
     "execution_count": 30,
     "metadata": {},
     "output_type": "execute_result"
    }
   ],
   "source": [
    "# Lag Features (Past Sales Trends : train)\n",
    "train[\"Sales_Lag_30\"] = train.groupby(\"Store\")[\"Sales\"].shift(30)\n",
    "train[\"Sales_Lag_30\"]"
   ]
  },
  {
   "cell_type": "markdown",
   "metadata": {},
   "source": [
    "#### Rolling Mean for Trend Analysis"
   ]
  },
  {
   "cell_type": "code",
   "execution_count": 31,
   "metadata": {},
   "outputs": [
    {
     "data": {
      "text/plain": [
       "0                  NaN\n",
       "1                  NaN\n",
       "2                  NaN\n",
       "3                  NaN\n",
       "4                  NaN\n",
       "              ...     \n",
       "814294     8260.285714\n",
       "814295    11817.714286\n",
       "814296     6977.428571\n",
       "814297     4114.285714\n",
       "814298     6896.571429\n",
       "Name: Sales_MA_7, Length: 814299, dtype: float64"
      ]
     },
     "execution_count": 31,
     "metadata": {},
     "output_type": "execute_result"
    }
   ],
   "source": [
    "# Rolling Mean for Trend Analysis : train\n",
    "train[\"Sales_MA_7\"] = train.groupby(\"Store\")[\"Sales\"].transform(lambda x: x.rolling(7).mean())\n",
    "train[\"Sales_MA_7\"]"
   ]
  },
  {
   "cell_type": "code",
   "execution_count": 32,
   "metadata": {},
   "outputs": [],
   "source": [
    "# Lag Features and Rolling Mean : test\n",
    "test['Sales_Lag_7'] = train['Sales_Lag_7'].median()\n",
    "test['Sales_Lag_30'] = train['Sales_Lag_30'].median()\n",
    "test['Sales_MA_7'] = train['Sales_MA_7'].median()"
   ]
  },
  {
   "cell_type": "code",
   "execution_count": 33,
   "metadata": {},
   "outputs": [],
   "source": [
    "train.dropna(inplace = True)"
   ]
  },
  {
   "cell_type": "markdown",
   "metadata": {},
   "source": [
    "#### Encoding category to numeric"
   ]
  },
  {
   "cell_type": "code",
   "execution_count": 34,
   "metadata": {},
   "outputs": [],
   "source": [
    "# Encoding category to numeric\n",
    "le = LabelEncoder()\n",
    "train['Season_01'] = le.fit_transform(train['Season'])\n",
    "test['Season_01'] = le.fit_transform(test['Season'])"
   ]
  },
  {
   "cell_type": "markdown",
   "metadata": {},
   "source": [
    "#### change types"
   ]
  },
  {
   "cell_type": "code",
   "execution_count": 35,
   "metadata": {},
   "outputs": [],
   "source": [
    "train['Season_01'] = train['Season_01'].astype('int32')\n",
    "test['Season_01'] = test['Season_01'].astype('int32')"
   ]
  },
  {
   "cell_type": "markdown",
   "metadata": {},
   "source": [
    "#### Merge table"
   ]
  },
  {
   "cell_type": "code",
   "execution_count": 36,
   "metadata": {},
   "outputs": [],
   "source": [
    "# Merge train and store data\n",
    "train_store = train.merge(store, on=\"Store\", how=\"left\")\n",
    "\n",
    "# Merge test and store data\n",
    "test_store = test.merge(store, on=\"Store\", how=\"left\")"
   ]
  },
  {
   "cell_type": "code",
   "execution_count": 37,
   "metadata": {},
   "outputs": [
    {
     "data": {
      "text/html": [
       "<div>\n",
       "<style scoped>\n",
       "    .dataframe tbody tr th:only-of-type {\n",
       "        vertical-align: middle;\n",
       "    }\n",
       "\n",
       "    .dataframe tbody tr th {\n",
       "        vertical-align: top;\n",
       "    }\n",
       "\n",
       "    .dataframe thead th {\n",
       "        text-align: right;\n",
       "    }\n",
       "</style>\n",
       "<table border=\"1\" class=\"dataframe\">\n",
       "  <thead>\n",
       "    <tr style=\"text-align: right;\">\n",
       "      <th></th>\n",
       "      <th>Id</th>\n",
       "      <th>Store</th>\n",
       "      <th>DayOfWeek</th>\n",
       "      <th>Date</th>\n",
       "      <th>Open</th>\n",
       "      <th>Promo</th>\n",
       "      <th>StateHoliday</th>\n",
       "      <th>SchoolHoliday</th>\n",
       "      <th>Year</th>\n",
       "      <th>Month</th>\n",
       "      <th>WeekOfYear</th>\n",
       "      <th>IsWeekend</th>\n",
       "      <th>Season</th>\n",
       "      <th>Month_01</th>\n",
       "      <th>Day</th>\n",
       "      <th>Day of Week</th>\n",
       "      <th>Sales_Lag_7</th>\n",
       "      <th>Sales_Lag_30</th>\n",
       "      <th>Sales_MA_7</th>\n",
       "      <th>Season_01</th>\n",
       "      <th>StoreType</th>\n",
       "      <th>Assortment</th>\n",
       "      <th>CompetitionDistance</th>\n",
       "      <th>CompetitionOpenSinceMonth</th>\n",
       "      <th>CompetitionOpenSinceYear</th>\n",
       "      <th>Promo2</th>\n",
       "      <th>Promo2SinceWeek</th>\n",
       "      <th>Promo2SinceYear</th>\n",
       "      <th>PromoInterval</th>\n",
       "      <th>StoreType_Int</th>\n",
       "      <th>Assortment_Int</th>\n",
       "      <th>PromoInterval_int</th>\n",
       "    </tr>\n",
       "  </thead>\n",
       "  <tbody>\n",
       "    <tr>\n",
       "      <th>0</th>\n",
       "      <td>1</td>\n",
       "      <td>1</td>\n",
       "      <td>4</td>\n",
       "      <td>2015-09-17</td>\n",
       "      <td>1</td>\n",
       "      <td>1</td>\n",
       "      <td>0</td>\n",
       "      <td>0</td>\n",
       "      <td>2015</td>\n",
       "      <td>9</td>\n",
       "      <td>38</td>\n",
       "      <td>0</td>\n",
       "      <td>fall</td>\n",
       "      <td>September</td>\n",
       "      <td>17</td>\n",
       "      <td>Thursday</td>\n",
       "      <td>6249.0</td>\n",
       "      <td>6266.0</td>\n",
       "      <td>6386.571429</td>\n",
       "      <td>0</td>\n",
       "      <td>c</td>\n",
       "      <td>a</td>\n",
       "      <td>1270</td>\n",
       "      <td>9</td>\n",
       "      <td>2008</td>\n",
       "      <td>0</td>\n",
       "      <td>0</td>\n",
       "      <td>0</td>\n",
       "      <td>period 0</td>\n",
       "      <td>3</td>\n",
       "      <td>1</td>\n",
       "      <td>0</td>\n",
       "    </tr>\n",
       "    <tr>\n",
       "      <th>1</th>\n",
       "      <td>2</td>\n",
       "      <td>3</td>\n",
       "      <td>4</td>\n",
       "      <td>2015-09-17</td>\n",
       "      <td>1</td>\n",
       "      <td>1</td>\n",
       "      <td>0</td>\n",
       "      <td>0</td>\n",
       "      <td>2015</td>\n",
       "      <td>9</td>\n",
       "      <td>38</td>\n",
       "      <td>0</td>\n",
       "      <td>fall</td>\n",
       "      <td>September</td>\n",
       "      <td>17</td>\n",
       "      <td>Thursday</td>\n",
       "      <td>6249.0</td>\n",
       "      <td>6266.0</td>\n",
       "      <td>6386.571429</td>\n",
       "      <td>0</td>\n",
       "      <td>a</td>\n",
       "      <td>a</td>\n",
       "      <td>14130</td>\n",
       "      <td>12</td>\n",
       "      <td>2006</td>\n",
       "      <td>1</td>\n",
       "      <td>14</td>\n",
       "      <td>2011</td>\n",
       "      <td>Period 1</td>\n",
       "      <td>1</td>\n",
       "      <td>1</td>\n",
       "      <td>1</td>\n",
       "    </tr>\n",
       "  </tbody>\n",
       "</table>\n",
       "</div>"
      ],
      "text/plain": [
       "   Id  Store  DayOfWeek       Date  Open  Promo  StateHoliday  SchoolHoliday  \\\n",
       "0   1      1          4 2015-09-17     1      1             0              0   \n",
       "1   2      3          4 2015-09-17     1      1             0              0   \n",
       "\n",
       "   Year  Month  WeekOfYear  IsWeekend Season   Month_01 Day Day of Week  \\\n",
       "0  2015      9          38          0   fall  September  17    Thursday   \n",
       "1  2015      9          38          0   fall  September  17    Thursday   \n",
       "\n",
       "   Sales_Lag_7  Sales_Lag_30   Sales_MA_7  Season_01 StoreType Assortment  \\\n",
       "0       6249.0        6266.0  6386.571429          0         c          a   \n",
       "1       6249.0        6266.0  6386.571429          0         a          a   \n",
       "\n",
       "   CompetitionDistance  CompetitionOpenSinceMonth  CompetitionOpenSinceYear  \\\n",
       "0                 1270                          9                      2008   \n",
       "1                14130                         12                      2006   \n",
       "\n",
       "   Promo2  Promo2SinceWeek  Promo2SinceYear PromoInterval  StoreType_Int  \\\n",
       "0       0                0                0      period 0              3   \n",
       "1       1               14             2011      Period 1              1   \n",
       "\n",
       "   Assortment_Int  PromoInterval_int  \n",
       "0               1                  0  \n",
       "1               1                  1  "
      ]
     },
     "execution_count": 37,
     "metadata": {},
     "output_type": "execute_result"
    }
   ],
   "source": [
    "test_store.head(2)"
   ]
  },
  {
   "cell_type": "markdown",
   "metadata": {},
   "source": [
    "#### drop categories column"
   ]
  },
  {
   "cell_type": "code",
   "execution_count": 38,
   "metadata": {},
   "outputs": [],
   "source": [
    "# drop categories for train columnvalues\n",
    "train_store.drop(columns=['Day of Week','Season','Month_01','StoreType','Assortment','PromoInterval'],inplace = True)\n",
    "\n",
    "# drop categories for test column values\n",
    "test_store.drop(columns=['Day of Week','Season','Month_01','StoreType','Assortment','PromoInterval'],inplace = True)"
   ]
  },
  {
   "cell_type": "markdown",
   "metadata": {},
   "source": [
    "#### convert type\n"
   ]
  },
  {
   "cell_type": "code",
   "execution_count": 39,
   "metadata": {},
   "outputs": [],
   "source": [
    "# convert type in train_store column\n",
    "train_store['Day'] = train_store['Day'].astype('int32')\n",
    "train_store['Year'] = train_store['Day'].astype('int32')\n",
    "train_store['Month'] = train_store['Month'].astype('int32')\n",
    "train_store['WeekOfYear'] = train_store['WeekOfYear'].astype('int32')\n",
    "\n",
    "# convert type in test_store column\n",
    "test_store['Day'] = test_store['Day'].astype('int32')\n",
    "test_store['Year'] = test_store['Day'].astype('int32')\n",
    "test_store['Month'] = test_store['Month'].astype('int32')\n",
    "test_store['WeekOfYear'] = test_store['WeekOfYear'].astype('int32')\n"
   ]
  },
  {
   "cell_type": "markdown",
   "metadata": {},
   "source": [
    "#### Correlation"
   ]
  },
  {
   "cell_type": "code",
   "execution_count": 40,
   "metadata": {},
   "outputs": [
    {
     "data": {
      "text/html": [
       "<div>\n",
       "<style scoped>\n",
       "    .dataframe tbody tr th:only-of-type {\n",
       "        vertical-align: middle;\n",
       "    }\n",
       "\n",
       "    .dataframe tbody tr th {\n",
       "        vertical-align: top;\n",
       "    }\n",
       "\n",
       "    .dataframe thead th {\n",
       "        text-align: right;\n",
       "    }\n",
       "</style>\n",
       "<table border=\"1\" class=\"dataframe\">\n",
       "  <thead>\n",
       "    <tr style=\"text-align: right;\">\n",
       "      <th></th>\n",
       "      <th>Store</th>\n",
       "      <th>DayOfWeek</th>\n",
       "      <th>Sales</th>\n",
       "      <th>Customers</th>\n",
       "      <th>Open</th>\n",
       "      <th>Promo</th>\n",
       "      <th>StateHoliday</th>\n",
       "      <th>SchoolHoliday</th>\n",
       "      <th>IsWeekend</th>\n",
       "      <th>CompetitionDistance</th>\n",
       "      <th>CompetitionOpenSinceMonth</th>\n",
       "      <th>CompetitionOpenSinceYear</th>\n",
       "      <th>Promo2</th>\n",
       "      <th>Promo2SinceWeek</th>\n",
       "      <th>Promo2SinceYear</th>\n",
       "      <th>StoreType_Int</th>\n",
       "      <th>Assortment_Int</th>\n",
       "      <th>PromoInterval_int</th>\n",
       "    </tr>\n",
       "  </thead>\n",
       "  <tbody>\n",
       "    <tr>\n",
       "      <th>Store</th>\n",
       "      <td>1.000000</td>\n",
       "      <td>0.000352</td>\n",
       "      <td>0.002248</td>\n",
       "      <td>0.037611</td>\n",
       "      <td>0.028132</td>\n",
       "      <td>-0.000210</td>\n",
       "      <td>-0.000583</td>\n",
       "      <td>-0.000601</td>\n",
       "      <td>-0.000075</td>\n",
       "      <td>-0.025651</td>\n",
       "      <td>-0.033335</td>\n",
       "      <td>-0.010631</td>\n",
       "      <td>0.010042</td>\n",
       "      <td>0.010737</td>\n",
       "      <td>0.010073</td>\n",
       "      <td>-0.019315</td>\n",
       "      <td>0.004611</td>\n",
       "      <td>0.000936</td>\n",
       "    </tr>\n",
       "    <tr>\n",
       "      <th>DayOfWeek</th>\n",
       "      <td>0.000352</td>\n",
       "      <td>1.000000</td>\n",
       "      <td>-0.175263</td>\n",
       "      <td>-0.102236</td>\n",
       "      <td>-0.011420</td>\n",
       "      <td>-0.277937</td>\n",
       "      <td>-0.002509</td>\n",
       "      <td>-0.134700</td>\n",
       "      <td>0.835157</td>\n",
       "      <td>0.007305</td>\n",
       "      <td>-0.000314</td>\n",
       "      <td>-0.000313</td>\n",
       "      <td>-0.004504</td>\n",
       "      <td>-0.002708</td>\n",
       "      <td>-0.004503</td>\n",
       "      <td>-0.004977</td>\n",
       "      <td>0.003126</td>\n",
       "      <td>-0.005293</td>\n",
       "    </tr>\n",
       "    <tr>\n",
       "      <th>Sales</th>\n",
       "      <td>0.002248</td>\n",
       "      <td>-0.175263</td>\n",
       "      <td>1.000000</td>\n",
       "      <td>0.768742</td>\n",
       "      <td>0.085596</td>\n",
       "      <td>0.402816</td>\n",
       "      <td>-0.003935</td>\n",
       "      <td>0.032707</td>\n",
       "      <td>-0.109643</td>\n",
       "      <td>-0.008263</td>\n",
       "      <td>-0.015544</td>\n",
       "      <td>0.001455</td>\n",
       "      <td>-0.093943</td>\n",
       "      <td>-0.030873</td>\n",
       "      <td>-0.093970</td>\n",
       "      <td>0.028014</td>\n",
       "      <td>0.104123</td>\n",
       "      <td>-0.104625</td>\n",
       "    </tr>\n",
       "    <tr>\n",
       "      <th>Customers</th>\n",
       "      <td>0.037611</td>\n",
       "      <td>-0.102236</td>\n",
       "      <td>0.768742</td>\n",
       "      <td>1.000000</td>\n",
       "      <td>0.074251</td>\n",
       "      <td>0.193126</td>\n",
       "      <td>0.022682</td>\n",
       "      <td>0.023363</td>\n",
       "      <td>-0.067040</td>\n",
       "      <td>-0.140841</td>\n",
       "      <td>-0.013326</td>\n",
       "      <td>0.007767</td>\n",
       "      <td>-0.186853</td>\n",
       "      <td>-0.121457</td>\n",
       "      <td>-0.186815</td>\n",
       "      <td>-0.197815</td>\n",
       "      <td>-0.017998</td>\n",
       "      <td>-0.169044</td>\n",
       "    </tr>\n",
       "    <tr>\n",
       "      <th>Open</th>\n",
       "      <td>0.028132</td>\n",
       "      <td>-0.011420</td>\n",
       "      <td>0.085596</td>\n",
       "      <td>0.074251</td>\n",
       "      <td>1.000000</td>\n",
       "      <td>0.005137</td>\n",
       "      <td>-0.066987</td>\n",
       "      <td>-0.004840</td>\n",
       "      <td>-0.007050</td>\n",
       "      <td>0.004371</td>\n",
       "      <td>-0.009379</td>\n",
       "      <td>-0.010113</td>\n",
       "      <td>0.010853</td>\n",
       "      <td>0.011176</td>\n",
       "      <td>0.010852</td>\n",
       "      <td>-0.007068</td>\n",
       "      <td>0.008703</td>\n",
       "      <td>0.010644</td>\n",
       "    </tr>\n",
       "    <tr>\n",
       "      <th>Promo</th>\n",
       "      <td>-0.000210</td>\n",
       "      <td>-0.277937</td>\n",
       "      <td>0.402816</td>\n",
       "      <td>0.193126</td>\n",
       "      <td>0.005137</td>\n",
       "      <td>1.000000</td>\n",
       "      <td>0.003303</td>\n",
       "      <td>0.017739</td>\n",
       "      <td>-0.272838</td>\n",
       "      <td>-0.001926</td>\n",
       "      <td>-0.000107</td>\n",
       "      <td>-0.001278</td>\n",
       "      <td>0.002752</td>\n",
       "      <td>-0.000395</td>\n",
       "      <td>0.002752</td>\n",
       "      <td>0.005824</td>\n",
       "      <td>-0.003547</td>\n",
       "      <td>0.004382</td>\n",
       "    </tr>\n",
       "    <tr>\n",
       "      <th>StateHoliday</th>\n",
       "      <td>-0.000583</td>\n",
       "      <td>-0.002509</td>\n",
       "      <td>-0.003935</td>\n",
       "      <td>0.022682</td>\n",
       "      <td>-0.066987</td>\n",
       "      <td>0.003303</td>\n",
       "      <td>1.000000</td>\n",
       "      <td>0.013828</td>\n",
       "      <td>-0.013555</td>\n",
       "      <td>0.013614</td>\n",
       "      <td>-0.000957</td>\n",
       "      <td>-0.003972</td>\n",
       "      <td>-0.007244</td>\n",
       "      <td>-0.008822</td>\n",
       "      <td>-0.007239</td>\n",
       "      <td>-0.003605</td>\n",
       "      <td>-0.001361</td>\n",
       "      <td>-0.006875</td>\n",
       "    </tr>\n",
       "    <tr>\n",
       "      <th>SchoolHoliday</th>\n",
       "      <td>-0.000601</td>\n",
       "      <td>-0.134700</td>\n",
       "      <td>0.032707</td>\n",
       "      <td>0.023363</td>\n",
       "      <td>-0.004840</td>\n",
       "      <td>0.017739</td>\n",
       "      <td>0.013828</td>\n",
       "      <td>1.000000</td>\n",
       "      <td>-0.127385</td>\n",
       "      <td>-0.003966</td>\n",
       "      <td>0.001568</td>\n",
       "      <td>0.001285</td>\n",
       "      <td>-0.003699</td>\n",
       "      <td>-0.003631</td>\n",
       "      <td>-0.003702</td>\n",
       "      <td>0.003136</td>\n",
       "      <td>-0.003717</td>\n",
       "      <td>-0.004223</td>\n",
       "    </tr>\n",
       "    <tr>\n",
       "      <th>IsWeekend</th>\n",
       "      <td>-0.000075</td>\n",
       "      <td>0.835157</td>\n",
       "      <td>-0.109643</td>\n",
       "      <td>-0.067040</td>\n",
       "      <td>-0.007050</td>\n",
       "      <td>-0.272838</td>\n",
       "      <td>-0.013555</td>\n",
       "      <td>-0.127385</td>\n",
       "      <td>1.000000</td>\n",
       "      <td>0.004966</td>\n",
       "      <td>-0.000370</td>\n",
       "      <td>-0.000391</td>\n",
       "      <td>-0.001935</td>\n",
       "      <td>-0.000915</td>\n",
       "      <td>-0.001935</td>\n",
       "      <td>-0.003407</td>\n",
       "      <td>0.001205</td>\n",
       "      <td>-0.002779</td>\n",
       "    </tr>\n",
       "    <tr>\n",
       "      <th>CompetitionDistance</th>\n",
       "      <td>-0.025651</td>\n",
       "      <td>0.007305</td>\n",
       "      <td>-0.008263</td>\n",
       "      <td>-0.140841</td>\n",
       "      <td>0.004371</td>\n",
       "      <td>-0.001926</td>\n",
       "      <td>0.013614</td>\n",
       "      <td>-0.003966</td>\n",
       "      <td>0.004966</td>\n",
       "      <td>1.000000</td>\n",
       "      <td>-0.032719</td>\n",
       "      <td>-0.003553</td>\n",
       "      <td>-0.152167</td>\n",
       "      <td>-0.132110</td>\n",
       "      <td>-0.152228</td>\n",
       "      <td>0.071140</td>\n",
       "      <td>0.152920</td>\n",
       "      <td>-0.130552</td>\n",
       "    </tr>\n",
       "    <tr>\n",
       "      <th>CompetitionOpenSinceMonth</th>\n",
       "      <td>-0.033335</td>\n",
       "      <td>-0.000314</td>\n",
       "      <td>-0.015544</td>\n",
       "      <td>-0.013326</td>\n",
       "      <td>-0.009379</td>\n",
       "      <td>-0.000107</td>\n",
       "      <td>-0.000957</td>\n",
       "      <td>0.001568</td>\n",
       "      <td>-0.000370</td>\n",
       "      <td>-0.032719</td>\n",
       "      <td>1.000000</td>\n",
       "      <td>0.786443</td>\n",
       "      <td>-0.081913</td>\n",
       "      <td>-0.106602</td>\n",
       "      <td>-0.081836</td>\n",
       "      <td>-0.043562</td>\n",
       "      <td>-0.096065</td>\n",
       "      <td>-0.067659</td>\n",
       "    </tr>\n",
       "    <tr>\n",
       "      <th>CompetitionOpenSinceYear</th>\n",
       "      <td>-0.010631</td>\n",
       "      <td>-0.000313</td>\n",
       "      <td>0.001455</td>\n",
       "      <td>0.007767</td>\n",
       "      <td>-0.010113</td>\n",
       "      <td>-0.001278</td>\n",
       "      <td>-0.003972</td>\n",
       "      <td>0.001285</td>\n",
       "      <td>-0.000391</td>\n",
       "      <td>-0.003553</td>\n",
       "      <td>0.786443</td>\n",
       "      <td>1.000000</td>\n",
       "      <td>-0.096972</td>\n",
       "      <td>-0.122233</td>\n",
       "      <td>-0.096901</td>\n",
       "      <td>-0.068686</td>\n",
       "      <td>-0.120087</td>\n",
       "      <td>-0.117887</td>\n",
       "    </tr>\n",
       "    <tr>\n",
       "      <th>Promo2</th>\n",
       "      <td>0.010042</td>\n",
       "      <td>-0.004504</td>\n",
       "      <td>-0.093943</td>\n",
       "      <td>-0.186853</td>\n",
       "      <td>0.010853</td>\n",
       "      <td>0.002752</td>\n",
       "      <td>-0.007244</td>\n",
       "      <td>-0.003699</td>\n",
       "      <td>-0.001935</td>\n",
       "      <td>-0.152167</td>\n",
       "      <td>-0.081913</td>\n",
       "      <td>-0.096972</td>\n",
       "      <td>1.000000</td>\n",
       "      <td>0.756037</td>\n",
       "      <td>0.999999</td>\n",
       "      <td>0.086089</td>\n",
       "      <td>0.015031</td>\n",
       "      <td>0.822169</td>\n",
       "    </tr>\n",
       "    <tr>\n",
       "      <th>Promo2SinceWeek</th>\n",
       "      <td>0.010737</td>\n",
       "      <td>-0.002708</td>\n",
       "      <td>-0.030873</td>\n",
       "      <td>-0.121457</td>\n",
       "      <td>0.011176</td>\n",
       "      <td>-0.000395</td>\n",
       "      <td>-0.008822</td>\n",
       "      <td>-0.003631</td>\n",
       "      <td>-0.000915</td>\n",
       "      <td>-0.132110</td>\n",
       "      <td>-0.106602</td>\n",
       "      <td>-0.122233</td>\n",
       "      <td>0.756037</td>\n",
       "      <td>1.000000</td>\n",
       "      <td>0.755850</td>\n",
       "      <td>0.058437</td>\n",
       "      <td>-0.028970</td>\n",
       "      <td>0.624263</td>\n",
       "    </tr>\n",
       "    <tr>\n",
       "      <th>Promo2SinceYear</th>\n",
       "      <td>0.010073</td>\n",
       "      <td>-0.004503</td>\n",
       "      <td>-0.093970</td>\n",
       "      <td>-0.186815</td>\n",
       "      <td>0.010852</td>\n",
       "      <td>0.002752</td>\n",
       "      <td>-0.007239</td>\n",
       "      <td>-0.003702</td>\n",
       "      <td>-0.001935</td>\n",
       "      <td>-0.152228</td>\n",
       "      <td>-0.081836</td>\n",
       "      <td>-0.096901</td>\n",
       "      <td>0.999999</td>\n",
       "      <td>0.755850</td>\n",
       "      <td>1.000000</td>\n",
       "      <td>0.086032</td>\n",
       "      <td>0.015085</td>\n",
       "      <td>0.822238</td>\n",
       "    </tr>\n",
       "    <tr>\n",
       "      <th>StoreType_Int</th>\n",
       "      <td>-0.019315</td>\n",
       "      <td>-0.004977</td>\n",
       "      <td>0.028014</td>\n",
       "      <td>-0.197815</td>\n",
       "      <td>-0.007068</td>\n",
       "      <td>0.005824</td>\n",
       "      <td>-0.003605</td>\n",
       "      <td>0.003136</td>\n",
       "      <td>-0.003407</td>\n",
       "      <td>0.071140</td>\n",
       "      <td>-0.043562</td>\n",
       "      <td>-0.068686</td>\n",
       "      <td>0.086089</td>\n",
       "      <td>0.058437</td>\n",
       "      <td>0.086032</td>\n",
       "      <td>1.000000</td>\n",
       "      <td>0.236250</td>\n",
       "      <td>0.090425</td>\n",
       "    </tr>\n",
       "    <tr>\n",
       "      <th>Assortment_Int</th>\n",
       "      <td>0.004611</td>\n",
       "      <td>0.003126</td>\n",
       "      <td>0.104123</td>\n",
       "      <td>-0.017998</td>\n",
       "      <td>0.008703</td>\n",
       "      <td>-0.003547</td>\n",
       "      <td>-0.001361</td>\n",
       "      <td>-0.003717</td>\n",
       "      <td>0.001205</td>\n",
       "      <td>0.152920</td>\n",
       "      <td>-0.096065</td>\n",
       "      <td>-0.120087</td>\n",
       "      <td>0.015031</td>\n",
       "      <td>-0.028970</td>\n",
       "      <td>0.015085</td>\n",
       "      <td>0.236250</td>\n",
       "      <td>1.000000</td>\n",
       "      <td>0.051783</td>\n",
       "    </tr>\n",
       "    <tr>\n",
       "      <th>PromoInterval_int</th>\n",
       "      <td>0.000936</td>\n",
       "      <td>-0.005293</td>\n",
       "      <td>-0.104625</td>\n",
       "      <td>-0.169044</td>\n",
       "      <td>0.010644</td>\n",
       "      <td>0.004382</td>\n",
       "      <td>-0.006875</td>\n",
       "      <td>-0.004223</td>\n",
       "      <td>-0.002779</td>\n",
       "      <td>-0.130552</td>\n",
       "      <td>-0.067659</td>\n",
       "      <td>-0.117887</td>\n",
       "      <td>0.822169</td>\n",
       "      <td>0.624263</td>\n",
       "      <td>0.822238</td>\n",
       "      <td>0.090425</td>\n",
       "      <td>0.051783</td>\n",
       "      <td>1.000000</td>\n",
       "    </tr>\n",
       "  </tbody>\n",
       "</table>\n",
       "</div>"
      ],
      "text/plain": [
       "                              Store  DayOfWeek     Sales  Customers      Open  \\\n",
       "Store                      1.000000   0.000352  0.002248   0.037611  0.028132   \n",
       "DayOfWeek                  0.000352   1.000000 -0.175263  -0.102236 -0.011420   \n",
       "Sales                      0.002248  -0.175263  1.000000   0.768742  0.085596   \n",
       "Customers                  0.037611  -0.102236  0.768742   1.000000  0.074251   \n",
       "Open                       0.028132  -0.011420  0.085596   0.074251  1.000000   \n",
       "Promo                     -0.000210  -0.277937  0.402816   0.193126  0.005137   \n",
       "StateHoliday              -0.000583  -0.002509 -0.003935   0.022682 -0.066987   \n",
       "SchoolHoliday             -0.000601  -0.134700  0.032707   0.023363 -0.004840   \n",
       "IsWeekend                 -0.000075   0.835157 -0.109643  -0.067040 -0.007050   \n",
       "CompetitionDistance       -0.025651   0.007305 -0.008263  -0.140841  0.004371   \n",
       "CompetitionOpenSinceMonth -0.033335  -0.000314 -0.015544  -0.013326 -0.009379   \n",
       "CompetitionOpenSinceYear  -0.010631  -0.000313  0.001455   0.007767 -0.010113   \n",
       "Promo2                     0.010042  -0.004504 -0.093943  -0.186853  0.010853   \n",
       "Promo2SinceWeek            0.010737  -0.002708 -0.030873  -0.121457  0.011176   \n",
       "Promo2SinceYear            0.010073  -0.004503 -0.093970  -0.186815  0.010852   \n",
       "StoreType_Int             -0.019315  -0.004977  0.028014  -0.197815 -0.007068   \n",
       "Assortment_Int             0.004611   0.003126  0.104123  -0.017998  0.008703   \n",
       "PromoInterval_int          0.000936  -0.005293 -0.104625  -0.169044  0.010644   \n",
       "\n",
       "                              Promo  StateHoliday  SchoolHoliday  IsWeekend  \\\n",
       "Store                     -0.000210     -0.000583      -0.000601  -0.000075   \n",
       "DayOfWeek                 -0.277937     -0.002509      -0.134700   0.835157   \n",
       "Sales                      0.402816     -0.003935       0.032707  -0.109643   \n",
       "Customers                  0.193126      0.022682       0.023363  -0.067040   \n",
       "Open                       0.005137     -0.066987      -0.004840  -0.007050   \n",
       "Promo                      1.000000      0.003303       0.017739  -0.272838   \n",
       "StateHoliday               0.003303      1.000000       0.013828  -0.013555   \n",
       "SchoolHoliday              0.017739      0.013828       1.000000  -0.127385   \n",
       "IsWeekend                 -0.272838     -0.013555      -0.127385   1.000000   \n",
       "CompetitionDistance       -0.001926      0.013614      -0.003966   0.004966   \n",
       "CompetitionOpenSinceMonth -0.000107     -0.000957       0.001568  -0.000370   \n",
       "CompetitionOpenSinceYear  -0.001278     -0.003972       0.001285  -0.000391   \n",
       "Promo2                     0.002752     -0.007244      -0.003699  -0.001935   \n",
       "Promo2SinceWeek           -0.000395     -0.008822      -0.003631  -0.000915   \n",
       "Promo2SinceYear            0.002752     -0.007239      -0.003702  -0.001935   \n",
       "StoreType_Int              0.005824     -0.003605       0.003136  -0.003407   \n",
       "Assortment_Int            -0.003547     -0.001361      -0.003717   0.001205   \n",
       "PromoInterval_int          0.004382     -0.006875      -0.004223  -0.002779   \n",
       "\n",
       "                           CompetitionDistance  CompetitionOpenSinceMonth  \\\n",
       "Store                                -0.025651                  -0.033335   \n",
       "DayOfWeek                             0.007305                  -0.000314   \n",
       "Sales                                -0.008263                  -0.015544   \n",
       "Customers                            -0.140841                  -0.013326   \n",
       "Open                                  0.004371                  -0.009379   \n",
       "Promo                                -0.001926                  -0.000107   \n",
       "StateHoliday                          0.013614                  -0.000957   \n",
       "SchoolHoliday                        -0.003966                   0.001568   \n",
       "IsWeekend                             0.004966                  -0.000370   \n",
       "CompetitionDistance                   1.000000                  -0.032719   \n",
       "CompetitionOpenSinceMonth            -0.032719                   1.000000   \n",
       "CompetitionOpenSinceYear             -0.003553                   0.786443   \n",
       "Promo2                               -0.152167                  -0.081913   \n",
       "Promo2SinceWeek                      -0.132110                  -0.106602   \n",
       "Promo2SinceYear                      -0.152228                  -0.081836   \n",
       "StoreType_Int                         0.071140                  -0.043562   \n",
       "Assortment_Int                        0.152920                  -0.096065   \n",
       "PromoInterval_int                    -0.130552                  -0.067659   \n",
       "\n",
       "                           CompetitionOpenSinceYear    Promo2  \\\n",
       "Store                                     -0.010631  0.010042   \n",
       "DayOfWeek                                 -0.000313 -0.004504   \n",
       "Sales                                      0.001455 -0.093943   \n",
       "Customers                                  0.007767 -0.186853   \n",
       "Open                                      -0.010113  0.010853   \n",
       "Promo                                     -0.001278  0.002752   \n",
       "StateHoliday                              -0.003972 -0.007244   \n",
       "SchoolHoliday                              0.001285 -0.003699   \n",
       "IsWeekend                                 -0.000391 -0.001935   \n",
       "CompetitionDistance                       -0.003553 -0.152167   \n",
       "CompetitionOpenSinceMonth                  0.786443 -0.081913   \n",
       "CompetitionOpenSinceYear                   1.000000 -0.096972   \n",
       "Promo2                                    -0.096972  1.000000   \n",
       "Promo2SinceWeek                           -0.122233  0.756037   \n",
       "Promo2SinceYear                           -0.096901  0.999999   \n",
       "StoreType_Int                             -0.068686  0.086089   \n",
       "Assortment_Int                            -0.120087  0.015031   \n",
       "PromoInterval_int                         -0.117887  0.822169   \n",
       "\n",
       "                           Promo2SinceWeek  Promo2SinceYear  StoreType_Int  \\\n",
       "Store                             0.010737         0.010073      -0.019315   \n",
       "DayOfWeek                        -0.002708        -0.004503      -0.004977   \n",
       "Sales                            -0.030873        -0.093970       0.028014   \n",
       "Customers                        -0.121457        -0.186815      -0.197815   \n",
       "Open                              0.011176         0.010852      -0.007068   \n",
       "Promo                            -0.000395         0.002752       0.005824   \n",
       "StateHoliday                     -0.008822        -0.007239      -0.003605   \n",
       "SchoolHoliday                    -0.003631        -0.003702       0.003136   \n",
       "IsWeekend                        -0.000915        -0.001935      -0.003407   \n",
       "CompetitionDistance              -0.132110        -0.152228       0.071140   \n",
       "CompetitionOpenSinceMonth        -0.106602        -0.081836      -0.043562   \n",
       "CompetitionOpenSinceYear         -0.122233        -0.096901      -0.068686   \n",
       "Promo2                            0.756037         0.999999       0.086089   \n",
       "Promo2SinceWeek                   1.000000         0.755850       0.058437   \n",
       "Promo2SinceYear                   0.755850         1.000000       0.086032   \n",
       "StoreType_Int                     0.058437         0.086032       1.000000   \n",
       "Assortment_Int                   -0.028970         0.015085       0.236250   \n",
       "PromoInterval_int                 0.624263         0.822238       0.090425   \n",
       "\n",
       "                           Assortment_Int  PromoInterval_int  \n",
       "Store                            0.004611           0.000936  \n",
       "DayOfWeek                        0.003126          -0.005293  \n",
       "Sales                            0.104123          -0.104625  \n",
       "Customers                       -0.017998          -0.169044  \n",
       "Open                             0.008703           0.010644  \n",
       "Promo                           -0.003547           0.004382  \n",
       "StateHoliday                    -0.001361          -0.006875  \n",
       "SchoolHoliday                   -0.003717          -0.004223  \n",
       "IsWeekend                        0.001205          -0.002779  \n",
       "CompetitionDistance              0.152920          -0.130552  \n",
       "CompetitionOpenSinceMonth       -0.096065          -0.067659  \n",
       "CompetitionOpenSinceYear        -0.120087          -0.117887  \n",
       "Promo2                           0.015031           0.822169  \n",
       "Promo2SinceWeek                 -0.028970           0.624263  \n",
       "Promo2SinceYear                  0.015085           0.822238  \n",
       "StoreType_Int                    0.236250           0.090425  \n",
       "Assortment_Int                   1.000000           0.051783  \n",
       "PromoInterval_int                0.051783           1.000000  "
      ]
     },
     "execution_count": 40,
     "metadata": {},
     "output_type": "execute_result"
    }
   ],
   "source": [
    "train_store_corr = train_store.select_dtypes(include=['int64']).copy()\n",
    "# correlation\n",
    "train_store_corr.corr(method='pearson')"
   ]
  },
  {
   "cell_type": "markdown",
   "metadata": {},
   "source": [
    "#### Correlation Matrix"
   ]
  },
  {
   "cell_type": "code",
   "execution_count": 41,
   "metadata": {},
   "outputs": [
    {
     "data": {
      "text/plain": [
       "Index(['Store', 'DayOfWeek', 'Sales', 'Customers', 'Open', 'Promo',\n",
       "       'StateHoliday', 'SchoolHoliday', 'IsWeekend', 'CompetitionDistance',\n",
       "       'CompetitionOpenSinceMonth', 'CompetitionOpenSinceYear', 'Promo2',\n",
       "       'Promo2SinceWeek', 'Promo2SinceYear', 'StoreType_Int', 'Assortment_Int',\n",
       "       'PromoInterval_int'],\n",
       "      dtype='object')"
      ]
     },
     "execution_count": 41,
     "metadata": {},
     "output_type": "execute_result"
    }
   ],
   "source": [
    "train_store_corr.columns"
   ]
  },
  {
   "cell_type": "raw",
   "metadata": {},
   "source": [
    "# Correlation \n",
    "train_store_corr = train_store_corr[['Sales', 'Store', 'DayOfWeek', 'Customers', 'Open', 'Promo',\n",
    "       'StateHoliday', 'SchoolHoliday', 'Year', 'Month', 'WeekOfYear',\n",
    "       'IsWeekend', 'Day', 'Season_01', 'CompetitionDistance',\n",
    "       'CompetitionOpenSinceMonth', 'CompetitionOpenSinceYear', 'Promo2',\n",
    "       'Promo2SinceWeek', 'Promo2SinceYear', 'StoreType_Int', 'Assortment_Int',\n",
    "       'PromoInterval_int']]\n",
    "\n",
    "plt.figure(figsize=(20,7))\n",
    "sns.heatmap(train_store_corr.corr(),annot=True)\n",
    "plt.title(\"Correlation Matrix(for train_store)\")"
   ]
  },
  {
   "cell_type": "markdown",
   "metadata": {},
   "source": [
    "- **Note**\n",
    "   1. **IsWeekend** and **DayOfWeek** have a *high Positive correlation* of is **0.84** which means they share the same information\n",
    "   2. **Customers** and **Sales** have a positive correlation of is **0.77**\n",
    "   3. The *correlation* between **Sales** and **Promo** is **0.40** \n",
    "   4. **CompetitionOpenSinceMonth** and **CompetitionOpenSinceYear** have a *high positive correlation* of **0.79** <br>\n",
    "      They share similar information (One of the column should be retained).\n",
    "   5. The *correlation* between **Promo2** and **PromoInterval_int** is **0.82** which is *highly correlative*\n",
    "   6. The *correlation* between **Promo2** and **Promo2SinceWeek** is **0.76** which is *highly correlative*\n",
    "   7. The *correlation* between **Promo2sinceYear** and **Promo2SinceWeek** is **0.76** which is *highly correlative*                                                                                      \n",
    "   8. The *correlation* between **Promo2** and **Promo2sinceYear** is *highly correlative* at **1.0**\n",
    "   9. The *correlation* between **Promo2sinceYear** and **PromoInterval_int** is **0.82** \n",
    "  10. The *correlation* between **WeekOfYear** and **Month** is **0.96** <br> <br>\n",
    "\n",
    "- **Action Taken**\n",
    "   1. **DayOfWeek**,**Customers**,**CompetitionOpenSinceYear**, will be drop\n",
    "   2. Since **Promo2** is *highly correlative* with **Promo2sinceYear** of **1.0** and *positively correlated* with *other three columns* then drop <br>\n",
    "      **PromoInterval_int**,**Promo2SinceWeek** and **Promo2sinceYear**.\n",
    "   3. **WeekOfYear** should be drop       \n",
    "\n",
    " "
   ]
  },
  {
   "cell_type": "markdown",
   "metadata": {},
   "source": [
    "# Visualization"
   ]
  },
  {
   "cell_type": "markdown",
   "metadata": {},
   "source": [
    "## Scatter Plot\n",
    "#### Sales Over Customers"
   ]
  },
  {
   "cell_type": "code",
   "execution_count": null,
   "metadata": {},
   "outputs": [],
   "source": [
    "plt.figure(figsize = (10,4))\n",
    "plt.title('Scatter Plot Of Sales By Customers')\n",
    "plt.scatter(data = train_store ,x = 'Customers' ,y = 'Sales',color = 'green')\n",
    "plt.xlabel('Customers')\n",
    "plt.ylabel('Sales')"
   ]
  },
  {
   "cell_type": "markdown",
   "metadata": {},
   "source": [
    "## Line Plot\n",
    "#### Sales Over Time"
   ]
  },
  {
   "cell_type": "code",
   "execution_count": null,
   "metadata": {},
   "outputs": [],
   "source": [
    "plt.figure(figsize = (12,6))\n",
    "sns.lineplot(data = train_store,x = 'Date' , y ='Sales',ci = None )\n",
    "plt.title('Sales Trend Over Time')\n",
    "plt.xlabel('Date')\n",
    "plt.ylabel('Sales')\n",
    "plt.xticks(rotation = 45)\n",
    "plt.show()"
   ]
  },
  {
   "cell_type": "markdown",
   "metadata": {},
   "source": [
    "## Line Plot\n",
    "#### Customers Over Time"
   ]
  },
  {
   "cell_type": "code",
   "execution_count": null,
   "metadata": {},
   "outputs": [],
   "source": [
    "plt.figure(figsize = (15,4))\n",
    "plt.title('Scatter Plot Of Customers By Date')\n",
    "sns.lineplot(data = train_store,x = 'Date' , y ='Customers',color = 'red' )\n",
    "plt.xlabel('Date')\n",
    "plt.ylabel('Customers')"
   ]
  },
  {
   "cell_type": "markdown",
   "metadata": {},
   "source": [
    "## Box Plot\n",
    "#### Sales by Day of the Week"
   ]
  },
  {
   "cell_type": "code",
   "execution_count": null,
   "metadata": {},
   "outputs": [],
   "source": [
    "plt.figure(figsize = (10,6))\n",
    "sns.boxplot(data = train_store,x = 'DayOfWeek' , y ='Sales' )\n",
    "plt.title('Sales Distribution by Day of the Week')\n",
    "plt.xlabel('Day of the week (1=Monday,7=Sunday)')\n",
    "plt.show()"
   ]
  },
  {
   "cell_type": "markdown",
   "metadata": {},
   "source": [
    "## Histogram\n",
    "#### Sales Distribution"
   ]
  },
  {
   "cell_type": "code",
   "execution_count": null,
   "metadata": {},
   "outputs": [],
   "source": [
    "plt.figure(figsize = (10,6))\n",
    "sns.histplot(train_store['Sales'] , bins = 50 , kde = True)\n",
    "plt.title('Sales Distribution')\n",
    "plt.xlabel('Sales')\n",
    "plt.ylabel('Frequency')\n",
    "plt.show()"
   ]
  },
  {
   "cell_type": "markdown",
   "metadata": {},
   "source": [
    "## Bar Chart\n",
    "#### Average Sales Per Store Type"
   ]
  },
  {
   "cell_type": "code",
   "execution_count": null,
   "metadata": {},
   "outputs": [],
   "source": [
    "plt.figure(figsize = (10,6))\n",
    "sns.barplot(data = train_store , x = 'StoreType_Int' , y = 'Sales' ,estimator = sum)\n",
    "plt.title('Total Sales by StoreType')\n",
    "plt.xlabel('StoreType')\n",
    "plt.ylabel('Total Sales')\n",
    "plt.show()"
   ]
  },
  {
   "cell_type": "markdown",
   "metadata": {},
   "source": [
    "## Bar Chart\n",
    "#### Average Sales by Assortment"
   ]
  },
  {
   "cell_type": "code",
   "execution_count": null,
   "metadata": {},
   "outputs": [],
   "source": [
    "plt.figure(figsize = (10,6))\n",
    "sns.barplot(data = train_store , x = 'Assortment_Int' , y = 'Sales' ,estimator = sum)\n",
    "plt.title('Total Sales by Assortment Type')\n",
    "plt.xlabel('Assortment')\n",
    "plt.ylabel('Total Sales')\n",
    "plt.show()"
   ]
  },
  {
   "cell_type": "markdown",
   "metadata": {},
   "source": [
    "## Correlation Heatmap\n",
    "#### Sales versus Other Featrues"
   ]
  },
  {
   "cell_type": "raw",
   "metadata": {
    "scrolled": true
   },
   "source": [
    "plt.figure(figsize = (12,6))\n",
    "corr_matrix = train_store[['Sales','Promo','Promo2','Customers','CompetitionDistance']].corr()\n",
    "sns.heatmap(corr_matrix.corr(),annot=True,cmap = 'coolwarm',fmt = '.2f')\n",
    "plt.title(\"Correlation between Sales and other features\")\n",
    "plt.show()"
   ]
  },
  {
   "cell_type": "markdown",
   "metadata": {},
   "source": [
    "#### Action Taken from Observation"
   ]
  },
  {
   "cell_type": "code",
   "execution_count": null,
   "metadata": {},
   "outputs": [],
   "source": [
    "DayOfWeek,Customers,CompetitionOpenSinceYear,WeekOfYear will be drop\n",
    "Since Promo2 is highly correlative with Promo2sinceYear of 1.0 and positively correlated with other three columns then drop\n",
    "PromoInterval_int,Promo2SinceWeek and Promo2sinceYear."
   ]
  },
  {
   "cell_type": "markdown",
   "metadata": {},
   "source": [
    "#### drop unecessary columns"
   ]
  },
  {
   "cell_type": "code",
   "execution_count": 44,
   "metadata": {},
   "outputs": [],
   "source": [
    "#removal of redundant columns\n",
    "train_store.drop(columns = ['DayOfWeek','Customers','CompetitionOpenSinceYear','PromoInterval_int','Promo2SinceWeek',\n",
    "                            'Promo2SinceYear','WeekOfYear'],inplace = True)\n",
    "\n",
    "#removal of redundant columns\n",
    "test_store.drop(columns = ['DayOfWeek','CompetitionOpenSinceYear','PromoInterval_int','Promo2SinceWeek',\n",
    "                            'Promo2SinceYear','WeekOfYear'],inplace = True)\n"
   ]
  },
  {
   "cell_type": "markdown",
   "metadata": {},
   "source": [
    "#### VIF : Checking for Multicollinearity"
   ]
  },
  {
   "cell_type": "code",
   "execution_count": null,
   "metadata": {},
   "outputs": [],
   "source": [
    "X = train_store_corr[['Store', 'Open', 'Promo',\n",
    "       'StateHoliday', 'SchoolHoliday', 'Year', 'Month',\n",
    "       'IsWeekend', 'Day', 'Season_01', 'CompetitionDistance',\n",
    "       'CompetitionOpenSinceMonth',  'Promo2', 'StoreType_Int', 'Assortment_Int']]\n",
    "# Calculate VIF for each variable\n",
    "vif_data = pd.DataFrame()\n",
    "vif_data['Feature'] = X.columns\n",
    "vif_data['VIF'] = [variance_inflation_factor(X.values, i) for i in range(X.shape[1])]\n",
    "\n",
    "# Display VIF values\n",
    "print(vif_data)"
   ]
  },
  {
   "cell_type": "markdown",
   "metadata": {},
   "source": [
    "#### drop columns with high VIF"
   ]
  },
  {
   "cell_type": "code",
   "execution_count": 45,
   "metadata": {},
   "outputs": [],
   "source": [
    "#removal of columns with high VIF\n",
    "train_store.drop(columns = ['Open'],inplace = True)\n",
    "test_store.drop(columns = ['Open'],inplace = True)\n"
   ]
  },
  {
   "cell_type": "markdown",
   "metadata": {},
   "source": [
    "#### Check for any high VIF"
   ]
  },
  {
   "cell_type": "code",
   "execution_count": null,
   "metadata": {},
   "outputs": [],
   "source": [
    "X = train_store_corr[['Store', 'Promo',\n",
    "       'StateHoliday', 'SchoolHoliday', 'Year', 'Month',\n",
    "       'IsWeekend', 'Day', 'Season_01', 'CompetitionDistance',\n",
    "       'CompetitionOpenSinceMonth',  'Promo2', 'StoreType_Int', 'Assortment_Int']]\n",
    "\n",
    "# Calculate VIF for each variable\n",
    "vif_data = pd.DataFrame()\n",
    "vif_data['Feature'] = X.columns\n",
    "vif_data['VIF'] = [variance_inflation_factor(X.values, i) for i in range(X.shape[1])]\n",
    "\n",
    "# Display VIF values\n",
    "print(vif_data)"
   ]
  },
  {
   "cell_type": "markdown",
   "metadata": {},
   "source": [
    "#### rename columns"
   ]
  },
  {
   "cell_type": "code",
   "execution_count": 46,
   "metadata": {},
   "outputs": [],
   "source": [
    "# rename column\n",
    "train_store.rename(columns ={'StoreType_Int' : 'StoreType', 'Assortment_Int' : 'Assortment','Season_01' : 'Season'},inplace =True)\n",
    "test_store.rename(columns ={'StoreType_Int' : 'StoreType', 'Assortment_Int' : 'Assortment','Season_01' : 'Season'},inplace =True)"
   ]
  },
  {
   "cell_type": "code",
   "execution_count": 47,
   "metadata": {},
   "outputs": [
    {
     "data": {
      "text/html": [
       "<div>\n",
       "<style scoped>\n",
       "    .dataframe tbody tr th:only-of-type {\n",
       "        vertical-align: middle;\n",
       "    }\n",
       "\n",
       "    .dataframe tbody tr th {\n",
       "        vertical-align: top;\n",
       "    }\n",
       "\n",
       "    .dataframe thead th {\n",
       "        text-align: right;\n",
       "    }\n",
       "</style>\n",
       "<table border=\"1\" class=\"dataframe\">\n",
       "  <thead>\n",
       "    <tr style=\"text-align: right;\">\n",
       "      <th></th>\n",
       "      <th>Store</th>\n",
       "      <th>Date</th>\n",
       "      <th>Sales</th>\n",
       "      <th>Promo</th>\n",
       "      <th>StateHoliday</th>\n",
       "      <th>SchoolHoliday</th>\n",
       "      <th>Year</th>\n",
       "      <th>Month</th>\n",
       "      <th>IsWeekend</th>\n",
       "      <th>Day</th>\n",
       "      <th>Sales_Lag_7</th>\n",
       "      <th>Sales_Lag_30</th>\n",
       "      <th>Sales_MA_7</th>\n",
       "      <th>Season</th>\n",
       "      <th>CompetitionDistance</th>\n",
       "      <th>CompetitionOpenSinceMonth</th>\n",
       "      <th>Promo2</th>\n",
       "      <th>StoreType</th>\n",
       "      <th>Assortment</th>\n",
       "    </tr>\n",
       "  </thead>\n",
       "  <tbody>\n",
       "    <tr>\n",
       "      <th>0</th>\n",
       "      <td>1</td>\n",
       "      <td>2015-07-01</td>\n",
       "      <td>5223</td>\n",
       "      <td>1</td>\n",
       "      <td>0</td>\n",
       "      <td>0</td>\n",
       "      <td>1</td>\n",
       "      <td>7</td>\n",
       "      <td>0</td>\n",
       "      <td>1</td>\n",
       "      <td>3797.0</td>\n",
       "      <td>5263.0</td>\n",
       "      <td>4036.000000</td>\n",
       "      <td>2</td>\n",
       "      <td>1270</td>\n",
       "      <td>9</td>\n",
       "      <td>0</td>\n",
       "      <td>3</td>\n",
       "      <td>1</td>\n",
       "    </tr>\n",
       "    <tr>\n",
       "      <th>1</th>\n",
       "      <td>85</td>\n",
       "      <td>2015-07-01</td>\n",
       "      <td>7820</td>\n",
       "      <td>1</td>\n",
       "      <td>0</td>\n",
       "      <td>0</td>\n",
       "      <td>1</td>\n",
       "      <td>7</td>\n",
       "      <td>0</td>\n",
       "      <td>1</td>\n",
       "      <td>6705.0</td>\n",
       "      <td>7791.0</td>\n",
       "      <td>7595.714286</td>\n",
       "      <td>2</td>\n",
       "      <td>1870</td>\n",
       "      <td>10</td>\n",
       "      <td>0</td>\n",
       "      <td>2</td>\n",
       "      <td>1</td>\n",
       "    </tr>\n",
       "  </tbody>\n",
       "</table>\n",
       "</div>"
      ],
      "text/plain": [
       "   Store       Date  Sales  Promo  StateHoliday  SchoolHoliday  Year  Month  \\\n",
       "0      1 2015-07-01   5223      1             0              0     1      7   \n",
       "1     85 2015-07-01   7820      1             0              0     1      7   \n",
       "\n",
       "   IsWeekend  Day  Sales_Lag_7  Sales_Lag_30   Sales_MA_7  Season  \\\n",
       "0          0    1       3797.0        5263.0  4036.000000       2   \n",
       "1          0    1       6705.0        7791.0  7595.714286       2   \n",
       "\n",
       "   CompetitionDistance  CompetitionOpenSinceMonth  Promo2  StoreType  \\\n",
       "0                 1270                          9       0          3   \n",
       "1                 1870                         10       0          2   \n",
       "\n",
       "   Assortment  \n",
       "0           1  \n",
       "1           1  "
      ]
     },
     "execution_count": 47,
     "metadata": {},
     "output_type": "execute_result"
    }
   ],
   "source": [
    "train_store.head(2)"
   ]
  },
  {
   "cell_type": "markdown",
   "metadata": {},
   "source": [
    "\n",
    "#### Type conversion"
   ]
  },
  {
   "cell_type": "code",
   "execution_count": 50,
   "metadata": {},
   "outputs": [],
   "source": [
    "# converting type from 64 to 32 to reduce memory\n",
    "train_store.select_dtypes(include=['int64']).columns\n",
    "train_store['Store'] = train_store['Store'].astype('int32')\n",
    "train_store['Sales'] = train_store['Sales'].astype('int32')\n",
    "train_store['Promo'] = train_store['Promo'].astype('int32')\n",
    "train_store['StateHoliday'] = train_store['StateHoliday'].astype('int32')\n",
    "train_store['SchoolHoliday'] = train_store['SchoolHoliday'].astype('int32')\n",
    "train_store['IsWeekend'] = train_store['IsWeekend'].astype('int32')\n",
    "train_store['CompetitionDistance'] = train_store['CompetitionDistance'].astype('int32')\n",
    "train_store['CompetitionOpenSinceMonth'] = train_store['CompetitionOpenSinceMonth'].astype('int32')\n",
    "train_store['CompetitionOpenSinceMonth'] = train_store['CompetitionOpenSinceMonth'].astype('int32')\n",
    "train_store['Promo2'] = train_store['Promo2'].astype('int32')\n",
    "train_store['StoreType'] = train_store['StoreType'].astype('int32')\n",
    "train_store['Assortment'] = train_store['Assortment'].astype('int32')\n",
    "train_store['Sales_Lag_7'] = train_store['Sales_Lag_7'].astype('int32')\n",
    "train_store['Sales_Lag_30'] = train_store['Sales_Lag_30'].astype('int32')\n",
    "train_store['Sales_MA_7'] = train_store['Sales_MA_7'].astype('int32')\n",
    "\n",
    "                                                             \n"
   ]
  },
  {
   "cell_type": "markdown",
   "metadata": {},
   "source": [
    "# pycaret: low code Automl libraries"
   ]
  },
  {
   "cell_type": "markdown",
   "metadata": {},
   "source": [
    "\n",
    "#### Split the data"
   ]
  },
  {
   "cell_type": "code",
   "execution_count": 51,
   "metadata": {},
   "outputs": [
    {
     "data": {
      "text/plain": [
       "((624741, 19), (156186, 19))"
      ]
     },
     "execution_count": 51,
     "metadata": {},
     "output_type": "execute_result"
    }
   ],
   "source": [
    "traindf,testdf =train_test_split(train_store,random_state=2021,test_size=0.2)\n",
    "traindf.shape,testdf.shape"
   ]
  },
  {
   "cell_type": "code",
   "execution_count": 52,
   "metadata": {},
   "outputs": [],
   "source": [
    "# Avoid memory overload\n",
    "n_jobs = min(os.cpu_count(),4)"
   ]
  },
  {
   "cell_type": "markdown",
   "metadata": {},
   "source": [
    "#### Pycaret SetUp"
   ]
  },
  {
   "cell_type": "code",
   "execution_count": 53,
   "metadata": {},
   "outputs": [],
   "source": [
    "History=setup(data=traindf,target='Sales',\n",
    "      normalize=True,train_size=0.20,test_data = testdf,ignore_features = ['Date'],normalize_method = 'minmax',transformation = True,\n",
    "              fold = 3,use_gpu = False,\n",
    "              n_jobs = n_jobs,session_id=42\n",
    "             ,verbose = False)\n",
    "\n"
   ]
  },
  {
   "cell_type": "markdown",
   "metadata": {},
   "source": [
    "#### compare_models"
   ]
  },
  {
   "cell_type": "code",
   "execution_count": 54,
   "metadata": {},
   "outputs": [
    {
     "data": {
      "text/html": [],
      "text/plain": [
       "<IPython.core.display.HTML object>"
      ]
     },
     "metadata": {},
     "output_type": "display_data"
    },
    {
     "data": {
      "text/html": [
       "<style type=\"text/css\">\n",
       "#T_98adb th {\n",
       "  text-align: left;\n",
       "}\n",
       "#T_98adb_row0_col0, #T_98adb_row1_col0, #T_98adb_row1_col1, #T_98adb_row1_col2, #T_98adb_row1_col3, #T_98adb_row1_col4, #T_98adb_row1_col5, #T_98adb_row1_col6, #T_98adb_row2_col0, #T_98adb_row2_col1, #T_98adb_row2_col2, #T_98adb_row2_col3, #T_98adb_row2_col4, #T_98adb_row2_col5, #T_98adb_row2_col6 {\n",
       "  text-align: left;\n",
       "}\n",
       "#T_98adb_row0_col1, #T_98adb_row0_col2, #T_98adb_row0_col3, #T_98adb_row0_col4, #T_98adb_row0_col5, #T_98adb_row0_col6 {\n",
       "  text-align: left;\n",
       "  background-color: yellow;\n",
       "}\n",
       "#T_98adb_row0_col7, #T_98adb_row2_col7 {\n",
       "  text-align: left;\n",
       "  background-color: lightgrey;\n",
       "}\n",
       "#T_98adb_row1_col7 {\n",
       "  text-align: left;\n",
       "  background-color: yellow;\n",
       "  background-color: lightgrey;\n",
       "}\n",
       "</style>\n",
       "<table id=\"T_98adb\">\n",
       "  <thead>\n",
       "    <tr>\n",
       "      <th class=\"blank level0\" >&nbsp;</th>\n",
       "      <th id=\"T_98adb_level0_col0\" class=\"col_heading level0 col0\" >Model</th>\n",
       "      <th id=\"T_98adb_level0_col1\" class=\"col_heading level0 col1\" >MAE</th>\n",
       "      <th id=\"T_98adb_level0_col2\" class=\"col_heading level0 col2\" >MSE</th>\n",
       "      <th id=\"T_98adb_level0_col3\" class=\"col_heading level0 col3\" >RMSE</th>\n",
       "      <th id=\"T_98adb_level0_col4\" class=\"col_heading level0 col4\" >R2</th>\n",
       "      <th id=\"T_98adb_level0_col5\" class=\"col_heading level0 col5\" >RMSLE</th>\n",
       "      <th id=\"T_98adb_level0_col6\" class=\"col_heading level0 col6\" >MAPE</th>\n",
       "      <th id=\"T_98adb_level0_col7\" class=\"col_heading level0 col7\" >TT (Sec)</th>\n",
       "    </tr>\n",
       "  </thead>\n",
       "  <tbody>\n",
       "    <tr>\n",
       "      <th id=\"T_98adb_level0_row0\" class=\"row_heading level0 row0\" >catboost</th>\n",
       "      <td id=\"T_98adb_row0_col0\" class=\"data row0 col0\" >CatBoost Regressor</td>\n",
       "      <td id=\"T_98adb_row0_col1\" class=\"data row0 col1\" >587.2102</td>\n",
       "      <td id=\"T_98adb_row0_col2\" class=\"data row0 col2\" >646515.9312</td>\n",
       "      <td id=\"T_98adb_row0_col3\" class=\"data row0 col3\" >804.0571</td>\n",
       "      <td id=\"T_98adb_row0_col4\" class=\"data row0 col4\" >0.8899</td>\n",
       "      <td id=\"T_98adb_row0_col5\" class=\"data row0 col5\" >0.2700</td>\n",
       "      <td id=\"T_98adb_row0_col6\" class=\"data row0 col6\" >0.0984</td>\n",
       "      <td id=\"T_98adb_row0_col7\" class=\"data row0 col7\" >65.4900</td>\n",
       "    </tr>\n",
       "    <tr>\n",
       "      <th id=\"T_98adb_level0_row1\" class=\"row_heading level0 row1\" >xgboost</th>\n",
       "      <td id=\"T_98adb_row1_col0\" class=\"data row1 col0\" >Extreme Gradient Boosting</td>\n",
       "      <td id=\"T_98adb_row1_col1\" class=\"data row1 col1\" >598.9179</td>\n",
       "      <td id=\"T_98adb_row1_col2\" class=\"data row1 col2\" >670993.1149</td>\n",
       "      <td id=\"T_98adb_row1_col3\" class=\"data row1 col3\" >819.1326</td>\n",
       "      <td id=\"T_98adb_row1_col4\" class=\"data row1 col4\" >0.8858</td>\n",
       "      <td id=\"T_98adb_row1_col5\" class=\"data row1 col5\" >0.2714</td>\n",
       "      <td id=\"T_98adb_row1_col6\" class=\"data row1 col6\" >0.1006</td>\n",
       "      <td id=\"T_98adb_row1_col7\" class=\"data row1 col7\" >14.1100</td>\n",
       "    </tr>\n",
       "    <tr>\n",
       "      <th id=\"T_98adb_level0_row2\" class=\"row_heading level0 row2\" >lightgbm</th>\n",
       "      <td id=\"T_98adb_row2_col0\" class=\"data row2 col0\" >Light Gradient Boosting Machine</td>\n",
       "      <td id=\"T_98adb_row2_col1\" class=\"data row2 col1\" >661.6453</td>\n",
       "      <td id=\"T_98adb_row2_col2\" class=\"data row2 col2\" >801336.4721</td>\n",
       "      <td id=\"T_98adb_row2_col3\" class=\"data row2 col3\" >895.1712</td>\n",
       "      <td id=\"T_98adb_row2_col4\" class=\"data row2 col4\" >0.8636</td>\n",
       "      <td id=\"T_98adb_row2_col5\" class=\"data row2 col5\" >0.2772</td>\n",
       "      <td id=\"T_98adb_row2_col6\" class=\"data row2 col6\" >0.1121</td>\n",
       "      <td id=\"T_98adb_row2_col7\" class=\"data row2 col7\" >14.5200</td>\n",
       "    </tr>\n",
       "  </tbody>\n",
       "</table>\n"
      ],
      "text/plain": [
       "<pandas.io.formats.style.Styler at 0x25eef7f39a0>"
      ]
     },
     "metadata": {},
     "output_type": "display_data"
    },
    {
     "data": {
      "text/html": [],
      "text/plain": [
       "<IPython.core.display.HTML object>"
      ]
     },
     "metadata": {},
     "output_type": "display_data"
    }
   ],
   "source": [
    "\n",
    "best = compare_models(include = ['lightgbm',\n",
    "                          'xgboost',\n",
    "                          'catboost'],sort = 'R2',n_select=1)"
   ]
  },
  {
   "cell_type": "markdown",
   "metadata": {},
   "source": [
    "\n",
    "#### Define Optuna's Objective Function for CatBoost"
   ]
  },
  {
   "cell_type": "code",
   "execution_count": 55,
   "metadata": {},
   "outputs": [],
   "source": [
    "\n",
    "# Step 4: Define Optuna's Objective Function for CatBoost\n",
    "def objective(trial):\n",
    "    \"\"\"Optimize CatBoost hyperparameters using Optuna.\"\"\"\n",
    "    \n",
    "    # Define hyperparameter search space\n",
    "    params = {\n",
    "        \"learning_rate\": trial.suggest_float(\"learning_rate\", 0.01, 0.3, step=0.01),\n",
    "        \"depth\": trial.suggest_int(\"depth\", 4, 10),\n",
    "        \"iterations\": trial.suggest_int(\"iterations\", 100, 1000, step=100),\n",
    "        \"l2_leaf_reg\": trial.suggest_float(\"l2_leaf_reg\", 1, 10, step=1),\n",
    "        \"bagging_temperature\": trial.suggest_float(\"bagging_temperature\", 0.0, 1.0, step=0.1),\n",
    "        \"verbose\": 0  # Silence CatBoost logging\n",
    "    }\n",
    "    \n",
    "    # Train CatBoostRegressor manually\n",
    "    model = CatBoostRegressor(**params)\n",
    "    model.fit(traindf.drop(columns=['Sales']), traindf['Sales'])\n",
    "\n",
    "    # Predict on validation set\n",
    "    preds = model.predict(testdf.drop(columns=['Sales']))\n",
    "\n",
    "    # Calculate R2\n",
    "    r2 = r2_score(testdf['Sales'], preds)\n",
    "\n",
    "    return r2  # Minimize R2\n"
   ]
  },
  {
   "cell_type": "markdown",
   "metadata": {},
   "source": [
    "\n",
    "#### Run Optuna Optimization"
   ]
  },
  {
   "cell_type": "code",
   "execution_count": 59,
   "metadata": {},
   "outputs": [
    {
     "name": "stderr",
     "output_type": "stream",
     "text": [
      "[I 2025-02-24 02:48:37,191] A new study created in memory with name: no-name-a4157e5d-01a7-420e-be6f-18005a6a6dce\n",
      "[I 2025-02-24 02:49:54,251] Trial 0 finished with value: 0.908104410775886 and parameters: {'learning_rate': 0.15000000000000002, 'depth': 8, 'iterations': 600, 'l2_leaf_reg': 3.0, 'bagging_temperature': 1.0}. Best is trial 0 with value: 0.908104410775886.\n",
      "[I 2025-02-24 02:50:05,372] Trial 1 finished with value: 0.85611902900493 and parameters: {'learning_rate': 0.22, 'depth': 5, 'iterations': 100, 'l2_leaf_reg': 8.0, 'bagging_temperature': 0.1}. Best is trial 0 with value: 0.908104410775886.\n",
      "[I 2025-02-24 02:50:57,949] Trial 2 finished with value: 0.9024938965040614 and parameters: {'learning_rate': 0.18000000000000002, 'depth': 8, 'iterations': 400, 'l2_leaf_reg': 8.0, 'bagging_temperature': 0.6000000000000001}. Best is trial 0 with value: 0.908104410775886.\n",
      "[I 2025-02-24 02:51:46,219] Trial 3 finished with value: 0.8308503400482099 and parameters: {'learning_rate': 0.02, 'depth': 4, 'iterations': 600, 'l2_leaf_reg': 7.0, 'bagging_temperature': 0.30000000000000004}. Best is trial 0 with value: 0.908104410775886.\n",
      "[I 2025-02-24 02:54:02,462] Trial 4 finished with value: 0.9197404623334828 and parameters: {'learning_rate': 0.14, 'depth': 9, 'iterations': 900, 'l2_leaf_reg': 4.0, 'bagging_temperature': 0.8}. Best is trial 4 with value: 0.9197404623334828.\n",
      "[I 2025-02-24 02:54:18,540] Trial 5 finished with value: 0.8522912888180195 and parameters: {'learning_rate': 0.060000000000000005, 'depth': 9, 'iterations': 100, 'l2_leaf_reg': 5.0, 'bagging_temperature': 0.5}. Best is trial 4 with value: 0.9197404623334828.\n",
      "[I 2025-02-24 02:54:38,367] Trial 6 finished with value: 0.866762160227322 and parameters: {'learning_rate': 0.18000000000000002, 'depth': 5, 'iterations': 200, 'l2_leaf_reg': 10.0, 'bagging_temperature': 0.30000000000000004}. Best is trial 4 with value: 0.9197404623334828.\n",
      "[I 2025-02-24 02:54:55,456] Trial 7 finished with value: 0.8458291821187329 and parameters: {'learning_rate': 0.05, 'depth': 9, 'iterations': 100, 'l2_leaf_reg': 10.0, 'bagging_temperature': 0.2}. Best is trial 4 with value: 0.9197404623334828.\n",
      "[I 2025-02-24 02:57:15,235] Trial 8 finished with value: 0.9265598340424801 and parameters: {'learning_rate': 0.26, 'depth': 9, 'iterations': 900, 'l2_leaf_reg': 1.0, 'bagging_temperature': 0.30000000000000004}. Best is trial 8 with value: 0.9265598340424801.\n",
      "[I 2025-02-24 02:58:49,807] Trial 9 finished with value: 0.8607852415578053 and parameters: {'learning_rate': 0.02, 'depth': 6, 'iterations': 900, 'l2_leaf_reg': 3.0, 'bagging_temperature': 0.7000000000000001}. Best is trial 8 with value: 0.9265598340424801.\n"
     ]
    }
   ],
   "source": [
    "# Step 5: Run Optuna Optimization (20 Trials for Faster Tuning)\n",
    "study = optuna.create_study(direction=\"maximize\")  # Maximize R2\n",
    "study.optimize(objective, n_trials=10)  # Adjust `n_trials` for more fine-tuning\n"
   ]
  },
  {
   "cell_type": "markdown",
   "metadata": {},
   "source": [
    "\n",
    "\n",
    "#### Get the Best Hyperparameters from Optuna"
   ]
  },
  {
   "cell_type": "code",
   "execution_count": 67,
   "metadata": {},
   "outputs": [
    {
     "name": "stdout",
     "output_type": "stream",
     "text": [
      "✅ Best Hyperparameters Found: {'learning_rate': 0.26, 'depth': 9, 'iterations': 900, 'l2_leaf_reg': 1.0, 'bagging_temperature': 0.30000000000000004}\n"
     ]
    }
   ],
   "source": [
    "# Step 6: Get the Best Hyperparameters from Optuna\n",
    "best_params = study.best_params\n",
    "print(\"✅ Best Hyperparameters Found:\", best_params)\n"
   ]
  },
  {
   "cell_type": "markdown",
   "metadata": {},
   "source": [
    "\n",
    "####  Get the Best R2 from Optuna"
   ]
  },
  {
   "cell_type": "code",
   "execution_count": 72,
   "metadata": {},
   "outputs": [
    {
     "name": "stdout",
     "output_type": "stream",
     "text": [
      "✅ Best Hyperparameters Found: 0.9265598340424801\n"
     ]
    }
   ],
   "source": [
    "\n",
    "# Step 6: Get the Best Hyperparameters from Optuna\n",
    "best_r2= study.best_value\n",
    "print(\"✅ Best Hyperparameters Found:\", best_r2)\n"
   ]
  },
  {
   "cell_type": "markdown",
   "metadata": {},
   "source": [
    "\n",
    "#### Train CatBoost Model with Best Hyperparameters"
   ]
  },
  {
   "cell_type": "code",
   "execution_count": 68,
   "metadata": {},
   "outputs": [
    {
     "data": {
      "text/html": [],
      "text/plain": [
       "<IPython.core.display.HTML object>"
      ]
     },
     "metadata": {},
     "output_type": "display_data"
    },
    {
     "data": {
      "text/html": [
       "<style type=\"text/css\">\n",
       "#T_c230e_row3_col0, #T_c230e_row3_col1, #T_c230e_row3_col2, #T_c230e_row3_col3, #T_c230e_row3_col4, #T_c230e_row3_col5 {\n",
       "  background: yellow;\n",
       "}\n",
       "</style>\n",
       "<table id=\"T_c230e\">\n",
       "  <thead>\n",
       "    <tr>\n",
       "      <th class=\"blank level0\" >&nbsp;</th>\n",
       "      <th id=\"T_c230e_level0_col0\" class=\"col_heading level0 col0\" >MAE</th>\n",
       "      <th id=\"T_c230e_level0_col1\" class=\"col_heading level0 col1\" >MSE</th>\n",
       "      <th id=\"T_c230e_level0_col2\" class=\"col_heading level0 col2\" >RMSE</th>\n",
       "      <th id=\"T_c230e_level0_col3\" class=\"col_heading level0 col3\" >R2</th>\n",
       "      <th id=\"T_c230e_level0_col4\" class=\"col_heading level0 col4\" >RMSLE</th>\n",
       "      <th id=\"T_c230e_level0_col5\" class=\"col_heading level0 col5\" >MAPE</th>\n",
       "    </tr>\n",
       "    <tr>\n",
       "      <th class=\"index_name level0\" >Fold</th>\n",
       "      <th class=\"blank col0\" >&nbsp;</th>\n",
       "      <th class=\"blank col1\" >&nbsp;</th>\n",
       "      <th class=\"blank col2\" >&nbsp;</th>\n",
       "      <th class=\"blank col3\" >&nbsp;</th>\n",
       "      <th class=\"blank col4\" >&nbsp;</th>\n",
       "      <th class=\"blank col5\" >&nbsp;</th>\n",
       "    </tr>\n",
       "  </thead>\n",
       "  <tbody>\n",
       "    <tr>\n",
       "      <th id=\"T_c230e_level0_row0\" class=\"row_heading level0 row0\" >0</th>\n",
       "      <td id=\"T_c230e_row0_col0\" class=\"data row0 col0\" >495.2108</td>\n",
       "      <td id=\"T_c230e_row0_col1\" class=\"data row0 col1\" >479562.3628</td>\n",
       "      <td id=\"T_c230e_row0_col2\" class=\"data row0 col2\" >692.5044</td>\n",
       "      <td id=\"T_c230e_row0_col3\" class=\"data row0 col3\" >0.9182</td>\n",
       "      <td id=\"T_c230e_row0_col4\" class=\"data row0 col4\" >0.2596</td>\n",
       "      <td id=\"T_c230e_row0_col5\" class=\"data row0 col5\" >0.0822</td>\n",
       "    </tr>\n",
       "    <tr>\n",
       "      <th id=\"T_c230e_level0_row1\" class=\"row_heading level0 row1\" >1</th>\n",
       "      <td id=\"T_c230e_row1_col0\" class=\"data row1 col0\" >493.7274</td>\n",
       "      <td id=\"T_c230e_row1_col1\" class=\"data row1 col1\" >471300.1539</td>\n",
       "      <td id=\"T_c230e_row1_col2\" class=\"data row1 col2\" >686.5130</td>\n",
       "      <td id=\"T_c230e_row1_col3\" class=\"data row1 col3\" >0.9198</td>\n",
       "      <td id=\"T_c230e_row1_col4\" class=\"data row1 col4\" >0.2470</td>\n",
       "      <td id=\"T_c230e_row1_col5\" class=\"data row1 col5\" >0.0815</td>\n",
       "    </tr>\n",
       "    <tr>\n",
       "      <th id=\"T_c230e_level0_row2\" class=\"row_heading level0 row2\" >2</th>\n",
       "      <td id=\"T_c230e_row2_col0\" class=\"data row2 col0\" >495.0361</td>\n",
       "      <td id=\"T_c230e_row2_col1\" class=\"data row2 col1\" >474408.0102</td>\n",
       "      <td id=\"T_c230e_row2_col2\" class=\"data row2 col2\" >688.7728</td>\n",
       "      <td id=\"T_c230e_row2_col3\" class=\"data row2 col3\" >0.9193</td>\n",
       "      <td id=\"T_c230e_row2_col4\" class=\"data row2 col4\" >0.2628</td>\n",
       "      <td id=\"T_c230e_row2_col5\" class=\"data row2 col5\" >0.0816</td>\n",
       "    </tr>\n",
       "    <tr>\n",
       "      <th id=\"T_c230e_level0_row3\" class=\"row_heading level0 row3\" >Mean</th>\n",
       "      <td id=\"T_c230e_row3_col0\" class=\"data row3 col0\" >494.6581</td>\n",
       "      <td id=\"T_c230e_row3_col1\" class=\"data row3 col1\" >475090.1756</td>\n",
       "      <td id=\"T_c230e_row3_col2\" class=\"data row3 col2\" >689.2634</td>\n",
       "      <td id=\"T_c230e_row3_col3\" class=\"data row3 col3\" >0.9191</td>\n",
       "      <td id=\"T_c230e_row3_col4\" class=\"data row3 col4\" >0.2565</td>\n",
       "      <td id=\"T_c230e_row3_col5\" class=\"data row3 col5\" >0.0817</td>\n",
       "    </tr>\n",
       "    <tr>\n",
       "      <th id=\"T_c230e_level0_row4\" class=\"row_heading level0 row4\" >Std</th>\n",
       "      <td id=\"T_c230e_row4_col0\" class=\"data row4 col0\" >0.6620</td>\n",
       "      <td id=\"T_c230e_row4_col1\" class=\"data row4 col1\" >3407.3486</td>\n",
       "      <td id=\"T_c230e_row4_col2\" class=\"data row4 col2\" >2.4704</td>\n",
       "      <td id=\"T_c230e_row4_col3\" class=\"data row4 col3\" >0.0007</td>\n",
       "      <td id=\"T_c230e_row4_col4\" class=\"data row4 col4\" >0.0068</td>\n",
       "      <td id=\"T_c230e_row4_col5\" class=\"data row4 col5\" >0.0003</td>\n",
       "    </tr>\n",
       "  </tbody>\n",
       "</table>\n"
      ],
      "text/plain": [
       "<pandas.io.formats.style.Styler at 0x25ea02fd760>"
      ]
     },
     "metadata": {},
     "output_type": "display_data"
    },
    {
     "data": {
      "text/html": [],
      "text/plain": [
       "<IPython.core.display.HTML object>"
      ]
     },
     "metadata": {},
     "output_type": "display_data"
    }
   ],
   "source": [
    "\n",
    "# Step 4: Train CatBoost Model with Best Hyperparameters\n",
    "final_model = create_model('catboost', **best_params)"
   ]
  },
  {
   "cell_type": "markdown",
   "metadata": {},
   "source": [
    "\n",
    "#### predict on validation set"
   ]
  },
  {
   "cell_type": "code",
   "execution_count": 153,
   "metadata": {},
   "outputs": [
    {
     "data": {
      "text/html": [
       "<style type=\"text/css\">\n",
       "</style>\n",
       "<table id=\"T_b9627\">\n",
       "  <thead>\n",
       "    <tr>\n",
       "      <th class=\"blank level0\" >&nbsp;</th>\n",
       "      <th id=\"T_b9627_level0_col0\" class=\"col_heading level0 col0\" >Model</th>\n",
       "      <th id=\"T_b9627_level0_col1\" class=\"col_heading level0 col1\" >MAE</th>\n",
       "      <th id=\"T_b9627_level0_col2\" class=\"col_heading level0 col2\" >MSE</th>\n",
       "      <th id=\"T_b9627_level0_col3\" class=\"col_heading level0 col3\" >RMSE</th>\n",
       "      <th id=\"T_b9627_level0_col4\" class=\"col_heading level0 col4\" >R2</th>\n",
       "      <th id=\"T_b9627_level0_col5\" class=\"col_heading level0 col5\" >RMSLE</th>\n",
       "      <th id=\"T_b9627_level0_col6\" class=\"col_heading level0 col6\" >MAPE</th>\n",
       "    </tr>\n",
       "  </thead>\n",
       "  <tbody>\n",
       "    <tr>\n",
       "      <th id=\"T_b9627_level0_row0\" class=\"row_heading level0 row0\" >0</th>\n",
       "      <td id=\"T_b9627_row0_col0\" class=\"data row0 col0\" >CatBoost Regressor</td>\n",
       "      <td id=\"T_b9627_row0_col1\" class=\"data row0 col1\" >451.9596</td>\n",
       "      <td id=\"T_b9627_row0_col2\" class=\"data row0 col2\" >389888.2613</td>\n",
       "      <td id=\"T_b9627_row0_col3\" class=\"data row0 col3\" >624.4103</td>\n",
       "      <td id=\"T_b9627_row0_col4\" class=\"data row0 col4\" >0.9338</td>\n",
       "      <td id=\"T_b9627_row0_col5\" class=\"data row0 col5\" >0.2491</td>\n",
       "      <td id=\"T_b9627_row0_col6\" class=\"data row0 col6\" >0.0755</td>\n",
       "    </tr>\n",
       "  </tbody>\n",
       "</table>\n"
      ],
      "text/plain": [
       "<pandas.io.formats.style.Styler at 0x25ebfd18ee0>"
      ]
     },
     "metadata": {},
     "output_type": "display_data"
    }
   ],
   "source": [
    "\n",
    "# Step 5: Predict on `testdf`\n",
    "predictions = predict_model(final_model, data=testdf)"
   ]
  },
  {
   "cell_type": "code",
   "execution_count": 75,
   "metadata": {},
   "outputs": [
    {
     "data": {
      "text/html": [
       "<div>\n",
       "<style scoped>\n",
       "    .dataframe tbody tr th:only-of-type {\n",
       "        vertical-align: middle;\n",
       "    }\n",
       "\n",
       "    .dataframe tbody tr th {\n",
       "        vertical-align: top;\n",
       "    }\n",
       "\n",
       "    .dataframe thead th {\n",
       "        text-align: right;\n",
       "    }\n",
       "</style>\n",
       "<table border=\"1\" class=\"dataframe\">\n",
       "  <thead>\n",
       "    <tr style=\"text-align: right;\">\n",
       "      <th></th>\n",
       "      <th>Store</th>\n",
       "      <th>Date</th>\n",
       "      <th>Promo</th>\n",
       "      <th>StateHoliday</th>\n",
       "      <th>SchoolHoliday</th>\n",
       "      <th>Year</th>\n",
       "      <th>Month</th>\n",
       "      <th>IsWeekend</th>\n",
       "      <th>Day</th>\n",
       "      <th>Sales_Lag_7</th>\n",
       "      <th>Sales_Lag_30</th>\n",
       "      <th>Sales_MA_7</th>\n",
       "      <th>Season</th>\n",
       "      <th>CompetitionDistance</th>\n",
       "      <th>CompetitionOpenSinceMonth</th>\n",
       "      <th>Promo2</th>\n",
       "      <th>StoreType</th>\n",
       "      <th>Assortment</th>\n",
       "      <th>Sales</th>\n",
       "      <th>prediction_label</th>\n",
       "    </tr>\n",
       "  </thead>\n",
       "  <tbody>\n",
       "    <tr>\n",
       "      <th>532875</th>\n",
       "      <td>685</td>\n",
       "      <td>2013-10-02</td>\n",
       "      <td>0</td>\n",
       "      <td>0</td>\n",
       "      <td>0</td>\n",
       "      <td>2</td>\n",
       "      <td>10</td>\n",
       "      <td>0</td>\n",
       "      <td>2</td>\n",
       "      <td>4776</td>\n",
       "      <td>4757</td>\n",
       "      <td>8768</td>\n",
       "      <td>0</td>\n",
       "      <td>650</td>\n",
       "      <td>11</td>\n",
       "      <td>1</td>\n",
       "      <td>1</td>\n",
       "      <td>1</td>\n",
       "      <td>7614</td>\n",
       "      <td>7070.930450</td>\n",
       "    </tr>\n",
       "    <tr>\n",
       "      <th>700710</th>\n",
       "      <td>860</td>\n",
       "      <td>2013-03-30</td>\n",
       "      <td>0</td>\n",
       "      <td>0</td>\n",
       "      <td>0</td>\n",
       "      <td>30</td>\n",
       "      <td>3</td>\n",
       "      <td>1</td>\n",
       "      <td>30</td>\n",
       "      <td>5055</td>\n",
       "      <td>4173</td>\n",
       "      <td>5583</td>\n",
       "      <td>1</td>\n",
       "      <td>5980</td>\n",
       "      <td>2</td>\n",
       "      <td>0</td>\n",
       "      <td>3</td>\n",
       "      <td>3</td>\n",
       "      <td>9508</td>\n",
       "      <td>8240.750242</td>\n",
       "    </tr>\n",
       "    <tr>\n",
       "      <th>15459</th>\n",
       "      <td>990</td>\n",
       "      <td>2015-06-10</td>\n",
       "      <td>0</td>\n",
       "      <td>0</td>\n",
       "      <td>0</td>\n",
       "      <td>10</td>\n",
       "      <td>6</td>\n",
       "      <td>0</td>\n",
       "      <td>10</td>\n",
       "      <td>7465</td>\n",
       "      <td>6569</td>\n",
       "      <td>6308</td>\n",
       "      <td>2</td>\n",
       "      <td>20930</td>\n",
       "      <td>0</td>\n",
       "      <td>0</td>\n",
       "      <td>4</td>\n",
       "      <td>1</td>\n",
       "      <td>4297</td>\n",
       "      <td>5109.360093</td>\n",
       "    </tr>\n",
       "    <tr>\n",
       "      <th>429990</th>\n",
       "      <td>57</td>\n",
       "      <td>2014-01-28</td>\n",
       "      <td>0</td>\n",
       "      <td>0</td>\n",
       "      <td>0</td>\n",
       "      <td>28</td>\n",
       "      <td>1</td>\n",
       "      <td>0</td>\n",
       "      <td>28</td>\n",
       "      <td>12907</td>\n",
       "      <td>8433</td>\n",
       "      <td>10605</td>\n",
       "      <td>3</td>\n",
       "      <td>420</td>\n",
       "      <td>6</td>\n",
       "      <td>0</td>\n",
       "      <td>4</td>\n",
       "      <td>3</td>\n",
       "      <td>9212</td>\n",
       "      <td>9202.359812</td>\n",
       "    </tr>\n",
       "    <tr>\n",
       "      <th>323972</th>\n",
       "      <td>103</td>\n",
       "      <td>2014-05-26</td>\n",
       "      <td>0</td>\n",
       "      <td>0</td>\n",
       "      <td>0</td>\n",
       "      <td>26</td>\n",
       "      <td>5</td>\n",
       "      <td>0</td>\n",
       "      <td>26</td>\n",
       "      <td>5200</td>\n",
       "      <td>5557</td>\n",
       "      <td>4910</td>\n",
       "      <td>1</td>\n",
       "      <td>5210</td>\n",
       "      <td>5</td>\n",
       "      <td>0</td>\n",
       "      <td>4</td>\n",
       "      <td>3</td>\n",
       "      <td>4921</td>\n",
       "      <td>4284.367015</td>\n",
       "    </tr>\n",
       "  </tbody>\n",
       "</table>\n",
       "</div>"
      ],
      "text/plain": [
       "        Store       Date  Promo  StateHoliday  SchoolHoliday  Year  Month  \\\n",
       "532875    685 2013-10-02      0             0              0     2     10   \n",
       "700710    860 2013-03-30      0             0              0    30      3   \n",
       "15459     990 2015-06-10      0             0              0    10      6   \n",
       "429990     57 2014-01-28      0             0              0    28      1   \n",
       "323972    103 2014-05-26      0             0              0    26      5   \n",
       "\n",
       "        IsWeekend  Day  Sales_Lag_7  Sales_Lag_30  Sales_MA_7  Season  \\\n",
       "532875          0    2         4776          4757        8768       0   \n",
       "700710          1   30         5055          4173        5583       1   \n",
       "15459           0   10         7465          6569        6308       2   \n",
       "429990          0   28        12907          8433       10605       3   \n",
       "323972          0   26         5200          5557        4910       1   \n",
       "\n",
       "        CompetitionDistance  CompetitionOpenSinceMonth  Promo2  StoreType  \\\n",
       "532875                  650                         11       1          1   \n",
       "700710                 5980                          2       0          3   \n",
       "15459                 20930                          0       0          4   \n",
       "429990                  420                          6       0          4   \n",
       "323972                 5210                          5       0          4   \n",
       "\n",
       "        Assortment  Sales  prediction_label  \n",
       "532875           1   7614       7070.930450  \n",
       "700710           3   9508       8240.750242  \n",
       "15459            1   4297       5109.360093  \n",
       "429990           3   9212       9202.359812  \n",
       "323972           3   4921       4284.367015  "
      ]
     },
     "execution_count": 75,
     "metadata": {},
     "output_type": "execute_result"
    }
   ],
   "source": [
    "\n",
    "# Step 7: Inspect Predictions to Check Column Names\n",
    "predictions.head()  # Debugging step: Check if 'Label' exists\n"
   ]
  },
  {
   "cell_type": "markdown",
   "metadata": {},
   "source": [
    "\n",
    "#### Extract Actual & Predicted Sales"
   ]
  },
  {
   "cell_type": "code",
   "execution_count": 77,
   "metadata": {},
   "outputs": [],
   "source": [
    "# Step 8: Extract Actual & Predicted Sales\n",
    "actual_sales = testdf['Sales']  # Actual Sales values\n",
    "\n",
    "\n",
    "# Ensure the correct column name for predictions\n",
    "if 'Label' in predictions.columns:\n",
    "    predicted_sales = predictions['Label']  # PyCaret usually stores predictions here\n",
    "else:\n",
    "    predicted_sales = predictions.iloc[:, -1]  # Last column might be predictions"
   ]
  },
  {
   "cell_type": "markdown",
   "metadata": {},
   "source": [
    "#### Compute R² Score"
   ]
  },
  {
   "cell_type": "code",
   "execution_count": 85,
   "metadata": {},
   "outputs": [],
   "source": [
    "# Step 9: Compute R² Score\n",
    "r2 = r2_score(actual_sales, predicted_sales)\n",
    "mae = mean_absolute_error(actual_sales, predicted_sales)\n",
    "mse = mean_squared_error(actual_sales, predicted_sales)\n",
    "rmse = np.sqrt(mean_squared_error(actual_sales, predicted_sales))"
   ]
  },
  {
   "cell_type": "markdown",
   "metadata": {},
   "source": [
    "#### Print the Score"
   ]
  },
  {
   "cell_type": "code",
   "execution_count": 87,
   "metadata": {},
   "outputs": [
    {
     "name": "stdout",
     "output_type": "stream",
     "text": [
      "✅ R² Score on Test Data: 0.9338\n",
      "✅ mean_absolute_error Score on Test Data: 451.9596\n",
      "✅ mean_squared_error Score on Test Data: 389888.2613\n",
      "✅ Root_mean_squared_error Score on Test Data: 624.4103\n"
     ]
    }
   ],
   "source": [
    "\n",
    "# Step 10: Print R² Score\n",
    "print(f\"✅ R² Score on Test Data: {r2:.4f}\")\n",
    "print(f\"✅ mean_absolute_error Score on Test Data: {mae:.4f}\")\n",
    "print(f\"✅ mean_squared_error Score on Test Data: {mse:.4f}\")\n",
    "print(f\"✅ Root_mean_squared_error Score on Test Data: {rmse:.4f}\")"
   ]
  },
  {
   "cell_type": "markdown",
   "metadata": {},
   "source": [
    "\n",
    "#### evaluate_model(final_model)"
   ]
  },
  {
   "cell_type": "code",
   "execution_count": 99,
   "metadata": {},
   "outputs": [
    {
     "data": {
      "application/vnd.jupyter.widget-view+json": {
       "model_id": "8141026f77c744079ce3d92551cbb62b",
       "version_major": 2,
       "version_minor": 0
      },
      "text/plain": [
       "interactive(children=(ToggleButtons(description='Plot Type:', icons=('',), options=(('Pipeline Plot', 'pipelin…"
      ]
     },
     "metadata": {},
     "output_type": "display_data"
    }
   ],
   "source": [
    "\n",
    "evaluate_model(final_model)"
   ]
  },
  {
   "cell_type": "markdown",
   "metadata": {},
   "source": [
    "\n",
    "## Unseen Data : Test Data"
   ]
  },
  {
   "cell_type": "markdown",
   "metadata": {},
   "source": [
    "#### Check for missing column"
   ]
  },
  {
   "cell_type": "code",
   "execution_count": 108,
   "metadata": {},
   "outputs": [
    {
     "name": "stdout",
     "output_type": "stream",
     "text": [
      "Missing Columns: {'CompetitionOpenSinceMonth', 'Promo2', 'Assortment', 'CompetitionDistance', 'Sales', 'StoreType'}\n"
     ]
    }
   ],
   "source": [
    "# Check for missing column\n",
    "missing_cols = set(traindf.columns) - set(test.columns)\n",
    "print(\"Missing Columns:\", missing_cols)"
   ]
  },
  {
   "cell_type": "markdown",
   "metadata": {},
   "source": [
    "#### fill the missing entries "
   ]
  },
  {
   "cell_type": "code",
   "execution_count": 109,
   "metadata": {},
   "outputs": [],
   "source": [
    "# fill the missing entries \n",
    "for col in missing_cols:\n",
    "    test[col] = 0  # Use 0 for numerical, '' for categorical\n",
    "\n",
    "# Reorder unseen_data to match train_data column order\n",
    "test = test[traindf.columns]"
   ]
  },
  {
   "cell_type": "markdown",
   "metadata": {},
   "source": [
    "#### change type "
   ]
  },
  {
   "cell_type": "code",
   "execution_count": 121,
   "metadata": {},
   "outputs": [],
   "source": [
    "\n",
    "#### change type to match \n",
    "for col in traindf.columns:\n",
    "    test[col] = test[col].astype(traindf[col].dtype)"
   ]
  },
  {
   "cell_type": "markdown",
   "metadata": {},
   "source": [
    "####  Finalize the model"
   ]
  },
  {
   "cell_type": "code",
   "execution_count": null,
   "metadata": {},
   "outputs": [],
   "source": [
    "\n",
    "# Step 5: Finalize the model (Train on full dataset)\n",
    "final_model = finalize_model(final_model)"
   ]
  },
  {
   "cell_type": "markdown",
   "metadata": {},
   "source": [
    "#### Save Result"
   ]
  },
  {
   "cell_type": "code",
   "execution_count": 144,
   "metadata": {},
   "outputs": [
    {
     "name": "stdout",
     "output_type": "stream",
     "text": [
      "Transformation Pipeline and Model Successfully Saved\n"
     ]
    },
    {
     "data": {
      "text/plain": [
       "(Pipeline(memory=Memory(location=None),\n",
       "          steps=[('numerical_imputer',\n",
       "                  TransformerWrapper(include=['Store', 'Promo', 'StateHoliday',\n",
       "                                              'SchoolHoliday', 'Year', 'Month',\n",
       "                                              'IsWeekend', 'Day', 'Sales_Lag_7',\n",
       "                                              'Sales_Lag_30', 'Sales_MA_7',\n",
       "                                              'Season', 'CompetitionDistance',\n",
       "                                              'CompetitionOpenSinceMonth',\n",
       "                                              'Promo2', 'StoreType',\n",
       "                                              'Assortment'],\n",
       "                                     transformer=SimpleImputer())),\n",
       "                 ('categorical_imputer',\n",
       "                  TransformerWrapper(include=[],\n",
       "                                     transformer=SimpleImputer(strategy='most_frequent'))),\n",
       "                 ('transformation',\n",
       "                  TransformerWrapper(transformer=PowerTransformer(standardize=False))),\n",
       "                 ('normalize', TransformerWrapper(transformer=MinMaxScaler())),\n",
       "                 ('actual_estimator',\n",
       "                  <catboost.core.CatBoostRegressor object at 0x0000025EA0687070>)]),\n",
       " 'Predicted_pycaret_result_sale.pkl')"
      ]
     },
     "execution_count": 144,
     "metadata": {},
     "output_type": "execute_result"
    }
   ],
   "source": [
    "\n",
    "save_model(final_model,'Predicted_pycaret_result_sale')"
   ]
  },
  {
   "cell_type": "markdown",
   "metadata": {},
   "source": [
    "\n",
    "#### Load Model for prediction"
   ]
  },
  {
   "cell_type": "code",
   "execution_count": 146,
   "metadata": {},
   "outputs": [
    {
     "name": "stdout",
     "output_type": "stream",
     "text": [
      "Transformation Pipeline and Model Successfully Loaded\n"
     ]
    }
   ],
   "source": [
    "# Load trained model\n",
    "\n",
    "load_model_result= load_model('Predicted_pycaret_result_sale')"
   ]
  },
  {
   "cell_type": "markdown",
   "metadata": {},
   "source": [
    "#### view the test predicted result"
   ]
  },
  {
   "cell_type": "code",
   "execution_count": 149,
   "metadata": {},
   "outputs": [
    {
     "data": {
      "text/html": [
       "<style type=\"text/css\">\n",
       "</style>\n",
       "<table id=\"T_de419\">\n",
       "  <thead>\n",
       "    <tr>\n",
       "      <th class=\"blank level0\" >&nbsp;</th>\n",
       "      <th id=\"T_de419_level0_col0\" class=\"col_heading level0 col0\" >Model</th>\n",
       "      <th id=\"T_de419_level0_col1\" class=\"col_heading level0 col1\" >MAE</th>\n",
       "      <th id=\"T_de419_level0_col2\" class=\"col_heading level0 col2\" >MSE</th>\n",
       "      <th id=\"T_de419_level0_col3\" class=\"col_heading level0 col3\" >RMSE</th>\n",
       "      <th id=\"T_de419_level0_col4\" class=\"col_heading level0 col4\" >R2</th>\n",
       "      <th id=\"T_de419_level0_col5\" class=\"col_heading level0 col5\" >RMSLE</th>\n",
       "      <th id=\"T_de419_level0_col6\" class=\"col_heading level0 col6\" >MAPE</th>\n",
       "    </tr>\n",
       "  </thead>\n",
       "  <tbody>\n",
       "    <tr>\n",
       "      <th id=\"T_de419_level0_row0\" class=\"row_heading level0 row0\" >0</th>\n",
       "      <td id=\"T_de419_row0_col0\" class=\"data row0 col0\" >CatBoost Regressor</td>\n",
       "      <td id=\"T_de419_row0_col1\" class=\"data row0 col1\" >5951.6408</td>\n",
       "      <td id=\"T_de419_row0_col2\" class=\"data row0 col2\" >36249530.0911</td>\n",
       "      <td id=\"T_de419_row0_col3\" class=\"data row0 col3\" >6020.7583</td>\n",
       "      <td id=\"T_de419_row0_col4\" class=\"data row0 col4\" >0.0000</td>\n",
       "      <td id=\"T_de419_row0_col5\" class=\"data row0 col5\" >8.6814</td>\n",
       "      <td id=\"T_de419_row0_col6\" class=\"data row0 col6\" >nan</td>\n",
       "    </tr>\n",
       "  </tbody>\n",
       "</table>\n"
      ],
      "text/plain": [
       "<pandas.io.formats.style.Styler at 0x25ebc572250>"
      ]
     },
     "metadata": {},
     "output_type": "display_data"
    },
    {
     "data": {
      "text/html": [
       "<div>\n",
       "<style scoped>\n",
       "    .dataframe tbody tr th:only-of-type {\n",
       "        vertical-align: middle;\n",
       "    }\n",
       "\n",
       "    .dataframe tbody tr th {\n",
       "        vertical-align: top;\n",
       "    }\n",
       "\n",
       "    .dataframe thead th {\n",
       "        text-align: right;\n",
       "    }\n",
       "</style>\n",
       "<table border=\"1\" class=\"dataframe\">\n",
       "  <thead>\n",
       "    <tr style=\"text-align: right;\">\n",
       "      <th></th>\n",
       "      <th>Store</th>\n",
       "      <th>Date</th>\n",
       "      <th>Promo</th>\n",
       "      <th>StateHoliday</th>\n",
       "      <th>SchoolHoliday</th>\n",
       "      <th>Year</th>\n",
       "      <th>Month</th>\n",
       "      <th>IsWeekend</th>\n",
       "      <th>Day</th>\n",
       "      <th>Sales_Lag_7</th>\n",
       "      <th>Sales_Lag_30</th>\n",
       "      <th>Sales_MA_7</th>\n",
       "      <th>Season</th>\n",
       "      <th>CompetitionDistance</th>\n",
       "      <th>CompetitionOpenSinceMonth</th>\n",
       "      <th>Promo2</th>\n",
       "      <th>StoreType</th>\n",
       "      <th>Assortment</th>\n",
       "      <th>Sales</th>\n",
       "      <th>prediction_label</th>\n",
       "    </tr>\n",
       "  </thead>\n",
       "  <tbody>\n",
       "    <tr>\n",
       "      <th>0</th>\n",
       "      <td>1</td>\n",
       "      <td>2015-09-17</td>\n",
       "      <td>1</td>\n",
       "      <td>0</td>\n",
       "      <td>0</td>\n",
       "      <td>2015</td>\n",
       "      <td>9</td>\n",
       "      <td>0</td>\n",
       "      <td>17</td>\n",
       "      <td>6249</td>\n",
       "      <td>6266</td>\n",
       "      <td>6386</td>\n",
       "      <td>0</td>\n",
       "      <td>0</td>\n",
       "      <td>0</td>\n",
       "      <td>0</td>\n",
       "      <td>0</td>\n",
       "      <td>0</td>\n",
       "      <td>0</td>\n",
       "      <td>7758.700019</td>\n",
       "    </tr>\n",
       "    <tr>\n",
       "      <th>1</th>\n",
       "      <td>3</td>\n",
       "      <td>2015-09-17</td>\n",
       "      <td>1</td>\n",
       "      <td>0</td>\n",
       "      <td>0</td>\n",
       "      <td>2015</td>\n",
       "      <td>9</td>\n",
       "      <td>0</td>\n",
       "      <td>17</td>\n",
       "      <td>6249</td>\n",
       "      <td>6266</td>\n",
       "      <td>6386</td>\n",
       "      <td>0</td>\n",
       "      <td>0</td>\n",
       "      <td>0</td>\n",
       "      <td>0</td>\n",
       "      <td>0</td>\n",
       "      <td>0</td>\n",
       "      <td>0</td>\n",
       "      <td>7758.700019</td>\n",
       "    </tr>\n",
       "    <tr>\n",
       "      <th>2</th>\n",
       "      <td>7</td>\n",
       "      <td>2015-09-17</td>\n",
       "      <td>1</td>\n",
       "      <td>0</td>\n",
       "      <td>0</td>\n",
       "      <td>2015</td>\n",
       "      <td>9</td>\n",
       "      <td>0</td>\n",
       "      <td>17</td>\n",
       "      <td>6249</td>\n",
       "      <td>6266</td>\n",
       "      <td>6386</td>\n",
       "      <td>0</td>\n",
       "      <td>0</td>\n",
       "      <td>0</td>\n",
       "      <td>0</td>\n",
       "      <td>0</td>\n",
       "      <td>0</td>\n",
       "      <td>0</td>\n",
       "      <td>7677.288572</td>\n",
       "    </tr>\n",
       "    <tr>\n",
       "      <th>3</th>\n",
       "      <td>8</td>\n",
       "      <td>2015-09-17</td>\n",
       "      <td>1</td>\n",
       "      <td>0</td>\n",
       "      <td>0</td>\n",
       "      <td>2015</td>\n",
       "      <td>9</td>\n",
       "      <td>0</td>\n",
       "      <td>17</td>\n",
       "      <td>6249</td>\n",
       "      <td>6266</td>\n",
       "      <td>6386</td>\n",
       "      <td>0</td>\n",
       "      <td>0</td>\n",
       "      <td>0</td>\n",
       "      <td>0</td>\n",
       "      <td>0</td>\n",
       "      <td>0</td>\n",
       "      <td>0</td>\n",
       "      <td>7677.288572</td>\n",
       "    </tr>\n",
       "    <tr>\n",
       "      <th>4</th>\n",
       "      <td>9</td>\n",
       "      <td>2015-09-17</td>\n",
       "      <td>1</td>\n",
       "      <td>0</td>\n",
       "      <td>0</td>\n",
       "      <td>2015</td>\n",
       "      <td>9</td>\n",
       "      <td>0</td>\n",
       "      <td>17</td>\n",
       "      <td>6249</td>\n",
       "      <td>6266</td>\n",
       "      <td>6386</td>\n",
       "      <td>0</td>\n",
       "      <td>0</td>\n",
       "      <td>0</td>\n",
       "      <td>0</td>\n",
       "      <td>0</td>\n",
       "      <td>0</td>\n",
       "      <td>0</td>\n",
       "      <td>7683.104856</td>\n",
       "    </tr>\n",
       "  </tbody>\n",
       "</table>\n",
       "</div>"
      ],
      "text/plain": [
       "   Store       Date  Promo  StateHoliday  SchoolHoliday  Year  Month  \\\n",
       "0      1 2015-09-17      1             0              0  2015      9   \n",
       "1      3 2015-09-17      1             0              0  2015      9   \n",
       "2      7 2015-09-17      1             0              0  2015      9   \n",
       "3      8 2015-09-17      1             0              0  2015      9   \n",
       "4      9 2015-09-17      1             0              0  2015      9   \n",
       "\n",
       "   IsWeekend  Day  Sales_Lag_7  Sales_Lag_30  Sales_MA_7  Season  \\\n",
       "0          0   17         6249          6266        6386       0   \n",
       "1          0   17         6249          6266        6386       0   \n",
       "2          0   17         6249          6266        6386       0   \n",
       "3          0   17         6249          6266        6386       0   \n",
       "4          0   17         6249          6266        6386       0   \n",
       "\n",
       "   CompetitionDistance  CompetitionOpenSinceMonth  Promo2  StoreType  \\\n",
       "0                    0                          0       0          0   \n",
       "1                    0                          0       0          0   \n",
       "2                    0                          0       0          0   \n",
       "3                    0                          0       0          0   \n",
       "4                    0                          0       0          0   \n",
       "\n",
       "   Assortment  Sales  prediction_label  \n",
       "0           0      0       7758.700019  \n",
       "1           0      0       7758.700019  \n",
       "2           0      0       7677.288572  \n",
       "3           0      0       7677.288572  \n",
       "4           0      0       7683.104856  "
      ]
     },
     "execution_count": 149,
     "metadata": {},
     "output_type": "execute_result"
    }
   ],
   "source": [
    "predicted_model=predict_model(load_model_result,data=test)\n",
    "predicted_model.head(5)"
   ]
  },
  {
   "cell_type": "markdown",
   "metadata": {},
   "source": [
    "#### export the result csv format"
   ]
  },
  {
   "cell_type": "code",
   "execution_count": 151,
   "metadata": {},
   "outputs": [],
   "source": [
    "\n",
    "predicted_model[['Store','Date','prediction_label']].sort_values(by = ['Date']).reset_index(drop =True).to_csv('predicted_pycaret_sales.csv')"
   ]
  },
  {
   "cell_type": "code",
   "execution_count": null,
   "metadata": {},
   "outputs": [],
   "source": []
  }
 ],
 "metadata": {
  "kernelspec": {
   "display_name": "Python 3 (ipykernel)",
   "language": "python",
   "name": "python3"
  },
  "language_info": {
   "codemirror_mode": {
    "name": "ipython",
    "version": 3
   },
   "file_extension": ".py",
   "mimetype": "text/x-python",
   "name": "python",
   "nbconvert_exporter": "python",
   "pygments_lexer": "ipython3",
   "version": "3.12.7"
  }
 },
 "nbformat": 4,
 "nbformat_minor": 4
}
